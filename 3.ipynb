{
 "cells": [
  {
   "cell_type": "code",
   "execution_count": 1,
   "id": "a9f9f3af",
   "metadata": {},
   "outputs": [
    {
     "name": "stdout",
     "output_type": "stream",
     "text": [
      "(2, 4, 6, 8, 10)\n"
     ]
    }
   ],
   "source": [
    "# Write a program to generate and print another tuple whose values are even numbers in the given tuple (1,2,3,4,5,6,7,8,9,10).\n",
    "\n",
    "a=(1,2,3,4,5,6,7,8,9,10)\n",
    "c=list()\n",
    "for i in a:\n",
    "    if (i%2)==0:\n",
    "        \n",
    "        c.append(i)\n",
    "f=tuple(c)\n",
    "print(f)        \n",
    "\n",
    "\n"
   ]
  },
  {
   "cell_type": "code",
   "execution_count": 2,
   "id": "54270618",
   "metadata": {},
   "outputs": [
    {
     "name": "stdout",
     "output_type": "stream",
     "text": [
      "enter : yes\n",
      "Yes\n"
     ]
    }
   ],
   "source": [
    "# Write a program which accepts a string as input to print \"Yes\" if the string is \"yes\" or \"YES\" or \"Yes\", otherwise print \"No\". \n",
    "\n",
    "a=str(input('enter : '))\n",
    "if a=='Yes'or a=='yes'or a=='YES':\n",
    "    print('Yes')\n",
    "else:\n",
    "    print('no')\n"
   ]
  },
  {
   "cell_type": "code",
   "execution_count": 3,
   "id": "56c6be38",
   "metadata": {},
   "outputs": [
    {
     "name": "stdout",
     "output_type": "stream",
     "text": [
      "[2, 4, 6, 8, 10]\n"
     ]
    }
   ],
   "source": [
    "#Write a program which can filter even numbers in a list by using filter function. The list is: [1,2,3,4,5,6,7,8,9,10].\n",
    "\n",
    "s=[1,2,3,4,5,6,7,8,9,10]\n",
    "\n",
    "list1=list(filter(lambda x:(x%2==0),s))\n",
    "print(list1)"
   ]
  },
  {
   "cell_type": "markdown",
   "id": "a5cb4b55",
   "metadata": {},
   "source": [
    "# filter "
   ]
  },
  {
   "cell_type": "code",
   "execution_count": 4,
   "id": "8c2c91b4",
   "metadata": {},
   "outputs": [
    {
     "name": "stdout",
     "output_type": "stream",
     "text": [
      "[1, 4, 9, 16, 25, 36, 49, 64, 81, 100]\n"
     ]
    }
   ],
   "source": [
    "#Write a program which can map() to make a list whose elements are square of elements in [1,2,3,4,5,6,7,8,9,10].\n",
    "\n",
    "s=[1,2,3,4,5,6,7,8,9,10]\n",
    "re=list(map(lambda x:(x*x),s))\n",
    "print(re)\n",
    "\n"
   ]
  },
  {
   "cell_type": "code",
   "execution_count": 19,
   "id": "169c795e",
   "metadata": {},
   "outputs": [
    {
     "name": "stdout",
     "output_type": "stream",
     "text": [
      "[0, 2, 4, 6, 8, 10, 12, 14, 16, 18, 20]\n"
     ]
    }
   ],
   "source": [
    "#Write a program which can filter() to make a list whose elements are even number between 1 and 20 (both included).\n",
    "a=list()\n",
    "for i in range(0,21):\n",
    "    a.append(i)\n",
    "li=list(filter(lambda x:(x%2==0),a))    \n",
    "print(li)\n"
   ]
  },
  {
   "cell_type": "code",
   "execution_count": 3,
   "id": "718cc90b",
   "metadata": {},
   "outputs": [
    {
     "name": "stdout",
     "output_type": "stream",
     "text": [
      "[4, 16, 36, 64, 100]\n"
     ]
    }
   ],
   "source": [
    "#Write a program which can map() and filter() to make a list whose elements are square of even number in [1,2,3,4,5,6,7,8,9,10].\n",
    "\n",
    "aa=[1,2,3,4,5,6,7,8,9,10]\n",
    "even=list(filter(lambda x:(x%2==0),aa))\n",
    "li=list(map(lambda x:(x*x),even))\n",
    "print(li)"
   ]
  },
  {
   "cell_type": "code",
   "execution_count": 20,
   "id": "985a3c06",
   "metadata": {},
   "outputs": [
    {
     "name": "stdout",
     "output_type": "stream",
     "text": [
      "[0, 1, 4, 9, 16, 25, 36, 49, 64, 81, 100, 121, 144, 169, 196, 225, 256, 289, 324, 361, 400]\n"
     ]
    }
   ],
   "source": [
    "#Write a program which can map() to make a list whose elements are square of numbers between 1 and 20 (both included).\n",
    "\n",
    "a=list()\n",
    "for i in range(0,21):\n",
    "    a.append(i)\n",
    "sqr=list(map(lambda x:(x*x),a))\n",
    "print(sqr)\n"
   ]
  },
  {
   "cell_type": "code",
   "execution_count": null,
   "id": "a28619e3",
   "metadata": {},
   "outputs": [],
   "source": []
  }
 ],
 "metadata": {
  "kernelspec": {
   "display_name": "Python 3 (ipykernel)",
   "language": "python",
   "name": "python3"
  },
  "language_info": {
   "codemirror_mode": {
    "name": "ipython",
    "version": 3
   },
   "file_extension": ".py",
   "mimetype": "text/x-python",
   "name": "python",
   "nbconvert_exporter": "python",
   "pygments_lexer": "ipython3",
   "version": "3.9.12"
  }
 },
 "nbformat": 4,
 "nbformat_minor": 5
}
