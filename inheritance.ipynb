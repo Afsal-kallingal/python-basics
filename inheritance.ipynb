{
 "cells": [
  {
   "cell_type": "markdown",
   "id": "9f189117",
   "metadata": {},
   "source": [
    "# inheritance"
   ]
  },
  {
   "cell_type": "code",
   "execution_count": 6,
   "id": "54f51e25",
   "metadata": {},
   "outputs": [
    {
     "name": "stdout",
     "output_type": "stream",
     "text": [
      "21\n",
      "the name is afsal and the age is 21\n"
     ]
    }
   ],
   "source": [
    "class afsal:\n",
    "    def __init__(self,name,age):\n",
    "        \n",
    "        self.n=name\n",
    "        self.a=age\n",
    "        print(self.a)\n",
    "class prin(afsal):\n",
    "    def pro(self):\n",
    "        print('the name is {} and the age is {}'.format(self.n,self.a))\n",
    "\n",
    "ok=prin('afsal',21)\n",
    "ok.pro()"
   ]
  },
  {
   "cell_type": "code",
   "execution_count": 7,
   "id": "f5fafd3e",
   "metadata": {},
   "outputs": [],
   "source": [
    "class vehicle:\n",
    "    pass\n",
    "   \n",
    "        \n",
    "        \n",
    "  "
   ]
  },
  {
   "cell_type": "code",
   "execution_count": 11,
   "id": "5e880b68",
   "metadata": {},
   "outputs": [
    {
     "ename": "TypeError",
     "evalue": "buss() missing 2 required positional arguments: 'nam' and 'model'",
     "output_type": "error",
     "traceback": [
      "\u001b[1;31m---------------------------------------------------------------------------\u001b[0m",
      "\u001b[1;31mTypeError\u001b[0m                                 Traceback (most recent call last)",
      "Input \u001b[1;32mIn [11]\u001b[0m, in \u001b[0;36m<cell line: 12>\u001b[1;34m()\u001b[0m\n\u001b[0;32m      9\u001b[0m         \u001b[38;5;28mprint\u001b[39m(\u001b[38;5;124m'\u001b[39m\u001b[38;5;124mthe name of bus is \u001b[39m\u001b[38;5;132;01m{}\u001b[39;00m\u001b[38;5;124m and the model number of that bus is \u001b[39m\u001b[38;5;132;01m{}\u001b[39;00m\u001b[38;5;124m'\u001b[39m\u001b[38;5;241m.\u001b[39mformat(\u001b[38;5;28mself\u001b[39m\u001b[38;5;241m.\u001b[39mnam,\u001b[38;5;28mself\u001b[39m\u001b[38;5;241m.\u001b[39mmodel))\n\u001b[0;32m     11\u001b[0m obj\u001b[38;5;241m=\u001b[39mbus(\u001b[38;5;124m'\u001b[39m\u001b[38;5;124mbenx\u001b[39m\u001b[38;5;124m'\u001b[39m,\u001b[38;5;241m2001\u001b[39m)\n\u001b[1;32m---> 12\u001b[0m \u001b[43mobj\u001b[49m\u001b[38;5;241;43m.\u001b[39;49m\u001b[43mbuss\u001b[49m\u001b[43m(\u001b[49m\u001b[43m)\u001b[49m\n",
      "\u001b[1;31mTypeError\u001b[0m: buss() missing 2 required positional arguments: 'nam' and 'model'"
     ]
    }
   ],
   "source": [
    "class vehicle:\n",
    "    def __init__(self,name,model):\n",
    "        self.n=name\n",
    "        self.a=model\n",
    "    def bike(self,name,yr):\n",
    "        print('that bike is {} model is {} '.format(self.name,self.yr))\n",
    "class bus(vehicle):\n",
    "    def buss(self,nam,model):\n",
    "        print('the name of bus is {} and the model number of that bus is {}'.format(self.nam,self.model))\n",
    "        \n",
    "obj=bus('benx',2001)\n",
    "obj.buss()\n",
    "    \n",
    "       \n",
    "   "
   ]
  },
  {
   "cell_type": "code",
   "execution_count": 12,
   "id": "93669e1e",
   "metadata": {},
   "outputs": [
    {
     "name": "stdout",
     "output_type": "stream",
     "text": [
      "the name of the bus is bex and model is 2001\n",
      "the seat capacity is 50\n"
     ]
    }
   ],
   "source": [
    "class vehicle:\n",
    "    def __init__(self,name,model):\n",
    "        self.n=name\n",
    "        self.a=model\n",
    "        print('the name of the bus is {} and model is {}'.format(self.n,self.a))\n",
    "    def seat(self):\n",
    "        print('the seat capacity is 50')\n",
    "        \n",
    "        \n",
    "obj=vehicle('bex',2001)\n",
    "obj.seat()\n",
    "        "
   ]
  },
  {
   "cell_type": "code",
   "execution_count": 1,
   "id": "3b791761",
   "metadata": {},
   "outputs": [
    {
     "name": "stdout",
     "output_type": "stream",
     "text": [
      "the name of the bus is bex and model is 2001\n",
      "the 10 bus is bex\n"
     ]
    }
   ],
   "source": [
    "class vehicle:\n",
    "    def __init__(self,name,model):\n",
    "        self.n=name\n",
    "        self.a=model\n",
    "        print('the name of the bus is {} and model is {}'.format(self.n,self.a))\n",
    "class bus(vehicle):\n",
    "    def dis(self):\n",
    "        print('the 10 bus is {}'.format(self.n))\n",
    "        \n",
    "        \n",
    "obj=bus('bex',2001)\n",
    "obj.dis()\n",
    "        "
   ]
  },
  {
   "cell_type": "code",
   "execution_count": 2,
   "id": "056cc29e",
   "metadata": {},
   "outputs": [
    {
     "name": "stdout",
     "output_type": "stream",
     "text": [
      "the name of the bus is afsal and model is 21\n"
     ]
    },
    {
     "data": {
      "text/plain": [
       "type"
      ]
     },
     "execution_count": 2,
     "metadata": {},
     "output_type": "execute_result"
    }
   ],
   "source": [
    "class vehicle:\n",
    "    def __init__(self,name,model):\n",
    "        self.n=name\n",
    "        self.a=model\n",
    "\n",
    "        print('the name of the bus is {} and model is {}'.format(self.n,self.a))\n",
    "        \n",
    "        \n",
    "obj=vehicle('afsal',21) \n",
    "type(vehicle)"
   ]
  },
  {
   "cell_type": "code",
   "execution_count": 16,
   "id": "1e1ec4a2",
   "metadata": {},
   "outputs": [
    {
     "name": "stdout",
     "output_type": "stream",
     "text": [
      "the car is afsal\n"
     ]
    },
    {
     "ename": "NameError",
     "evalue": "name 'name' is not defined",
     "output_type": "error",
     "traceback": [
      "\u001b[1;31m---------------------------------------------------------------------------\u001b[0m",
      "\u001b[1;31mNameError\u001b[0m                                 Traceback (most recent call last)",
      "Input \u001b[1;32mIn [16]\u001b[0m, in \u001b[0;36m<cell line: 9>\u001b[1;34m()\u001b[0m\n\u001b[0;32m      7\u001b[0m obj\u001b[38;5;241m=\u001b[39mvehicle(\u001b[38;5;124m'\u001b[39m\u001b[38;5;124mafsal\u001b[39m\u001b[38;5;124m'\u001b[39m,\u001b[38;5;241m21\u001b[39m)\n\u001b[0;32m      8\u001b[0m obj\u001b[38;5;241m.\u001b[39mcar()\n\u001b[1;32m----> 9\u001b[0m \u001b[38;5;28mtype\u001b[39m(\u001b[43mname\u001b[49m)\n\u001b[0;32m     10\u001b[0m \u001b[38;5;28mtype\u001b[39m(model)\n",
      "\u001b[1;31mNameError\u001b[0m: name 'name' is not defined"
     ]
    }
   ],
   "source": [
    "class vehicle:\n",
    "    def __init__(self,name,model):\n",
    "        self.n=name\n",
    "        self.a=model\n",
    "    def car(self):\n",
    "        print('the car is {}'.format(self.n))\n",
    "obj=vehicle('afsal',21)\n",
    "obj.car()\n",
    "type(name)\n",
    "type(model)"
   ]
  },
  {
   "cell_type": "code",
   "execution_count": 4,
   "id": "26a67f4b",
   "metadata": {},
   "outputs": [
    {
     "data": {
      "text/plain": [
       "int"
      ]
     },
     "execution_count": 4,
     "metadata": {},
     "output_type": "execute_result"
    }
   ],
   "source": [
    "a=21\n",
    "type(a)"
   ]
  },
  {
   "cell_type": "code",
   "execution_count": 4,
   "id": "17cc74ec",
   "metadata": {},
   "outputs": [
    {
     "name": "stdout",
     "output_type": "stream",
     "text": [
      "the name of the bus is bex and model is 2001\n",
      "the 10 bus is bex\n"
     ]
    },
    {
     "data": {
      "text/plain": [
       "True"
      ]
     },
     "execution_count": 4,
     "metadata": {},
     "output_type": "execute_result"
    }
   ],
   "source": [
    "class vehicle:\n",
    "    def __init__(self,name,model):\n",
    "        self.n=name\n",
    "        self.a=model\n",
    "        print('the name of the bus is {} and model is {}'.format(self.n,self.a))\n",
    "class bus(vehicle):\n",
    "    def dis(self):\n",
    "        print('the 10 bus is {}'.format(self.n))\n",
    "                \n",
    "obj=bus('bex',2001)\n",
    "obj.dis()\n",
    "type(obj)\n",
    "isinstance(obj,bus)\n",
    "        "
   ]
  },
  {
   "cell_type": "code",
   "execution_count": null,
   "id": "0c0c8da3",
   "metadata": {},
   "outputs": [],
   "source": [
    "class vehicle:\n",
    "    def __init__(self,name,model):\n",
    "        self.n=name\n",
    "        self.a=model\n",
    "        print('the name of the bus is {} and model is {}'.format(self.n,self.a))\n",
    "class bus(vehicle):\n",
    "    def dis(self):\n",
    "        print('the 10 bus is {}'.format(self.n))\n",
    "                \n",
    "obj=bus('bex',2001)\n",
    "obj.dis()\n",
    "type(obj)\n",
    "isinstance(obj,bus)\n",
    "        "
   ]
  },
  {
   "cell_type": "code",
   "execution_count": 7,
   "id": "8d55acda",
   "metadata": {},
   "outputs": [
    {
     "name": "stdout",
     "output_type": "stream",
     "text": [
      "thar dogs age is 2\n",
      "that dog is name is annn\n"
     ]
    }
   ],
   "source": [
    "#create a class animal and create sub class dog, and based on dog create another subclass dogchild\n",
    "\n",
    "class animal:\n",
    "    def __init__(self,name,age):\n",
    "        self.n=name\n",
    "        self.a=age\n",
    "class dog(animal):\n",
    "    def dogs(self):\n",
    "        print('that dog is name is {}'.format(self.n))\n",
    "class childdog(dog):\n",
    "    def childdogs(self):\n",
    "        print('thar dogs age is {}'.format(self.a))\n",
    "        \n",
    "obj=childdog('annn',2)\n",
    "obj.childdogs()\n",
    "obj.dogs()\n",
    "        \n",
    "    "
   ]
  },
  {
   "cell_type": "code",
   "execution_count": 8,
   "id": "3494584f",
   "metadata": {},
   "outputs": [
    {
     "name": "stdout",
     "output_type": "stream",
     "text": [
      "50\n",
      "10\n",
      "600\n"
     ]
    }
   ],
   "source": [
    "#create classes calculation1,calculation2 with method summation ,multiplication and child class calculation 3 with method division\n",
    "class animal:\n",
    "    def __init__(self,a,b):\n",
    "        self.n=a\n",
    "        self.a=b\n",
    "class calculation(animal):\n",
    "    def adition(self):\n",
    "        print(self.n+self.a)\n",
    "class calculation1(calculation):\n",
    "    def sub(self):\n",
    "        print(self.n-self.a)\n",
    "class calculation2(calculation1):\n",
    "    def multi(self):\n",
    "        print(self.n*self.a)  \n",
    "        \n",
    "        \n",
    "        \n",
    "obj=calculation2(30,20)\n",
    "obj.adition()\n",
    "obj.sub()\n",
    "obj.multi()\n",
    "        \n",
    "\n"
   ]
  },
  {
   "cell_type": "code",
   "execution_count": null,
   "id": "2874e35d",
   "metadata": {},
   "outputs": [],
   "source": []
  },
  {
   "cell_type": "code",
   "execution_count": null,
   "id": "72b8bb73",
   "metadata": {},
   "outputs": [],
   "source": []
  }
 ],
 "metadata": {
  "kernelspec": {
   "display_name": "Python 3 (ipykernel)",
   "language": "python",
   "name": "python3"
  },
  "language_info": {
   "codemirror_mode": {
    "name": "ipython",
    "version": 3
   },
   "file_extension": ".py",
   "mimetype": "text/x-python",
   "name": "python",
   "nbconvert_exporter": "python",
   "pygments_lexer": "ipython3",
   "version": "3.9.12"
  }
 },
 "nbformat": 4,
 "nbformat_minor": 5
}
