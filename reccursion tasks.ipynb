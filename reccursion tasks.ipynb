{
 "cells": [
  {
   "cell_type": "code",
   "execution_count": 2,
   "id": "c5bc6150",
   "metadata": {},
   "outputs": [
    {
     "data": {
      "text/plain": [
       "120"
      ]
     },
     "execution_count": 2,
     "metadata": {},
     "output_type": "execute_result"
    }
   ],
   "source": [
    "#Program to print factorial of a number\n",
    "def fac(a):\n",
    "    if a==1:\n",
    "        return a\n",
    "    else:\n",
    "        return a*fac(a-1)\n",
    "    \n",
    "fac(5)    "
   ]
  },
  {
   "cell_type": "code",
   "execution_count": 3,
   "id": "1fcadb9f",
   "metadata": {},
   "outputs": [
    {
     "data": {
      "text/plain": [
       "15"
      ]
     },
     "execution_count": 3,
     "metadata": {},
     "output_type": "execute_result"
    }
   ],
   "source": [
    "#Program to Find Sum of Natural Numbers\n",
    "def fac(a):\n",
    "    if a==0:\n",
    "        return a\n",
    "    else:\n",
    "        return a+fac(a-1)\n",
    "    \n",
    "fac(5)    \n"
   ]
  },
  {
   "cell_type": "code",
   "execution_count": 10,
   "id": "42547f77",
   "metadata": {},
   "outputs": [
    {
     "name": "stdout",
     "output_type": "stream",
     "text": [
      "enter:153\n",
      "this is amstrong\n"
     ]
    }
   ],
   "source": [
    "#PROGRAM TO FIND ARMSTRONG NUMBER USING THE RECURSION\n",
    "\n",
    "def ams(n):\n",
    "    a=n\n",
    "    s=0\n",
    "    while n>0:\n",
    "        r=n%10\n",
    "        s=s+(r**3)\n",
    "        n=n//10\n",
    "    if(a==s):\n",
    "        print('this is amstrong')\n",
    "    else:\n",
    "        print('not')  \n",
    "x=int(input('enter:'))        \n",
    "ams(x)"
   ]
  },
  {
   "cell_type": "code",
   "execution_count": 20,
   "id": "87f6bafd",
   "metadata": {},
   "outputs": [
    {
     "name": "stdout",
     "output_type": "stream",
     "text": [
      "enter:121\n",
      "this is pallindrome\n"
     ]
    }
   ],
   "source": [
    "#find the palindrome of a numbers \n",
    "def ams(n):\n",
    "    a=n\n",
    "    s=0\n",
    "    while n>0:\n",
    "        r=n%10\n",
    "        s=(s*10)+r\n",
    "        n=n//10\n",
    "   \n",
    "    if(a==s):\n",
    "        print('this is pallindrome')\n",
    "    else:\n",
    "        print(' its not a pallindrome')  \n",
    "x=int(input('enter:'))        \n",
    "ams(x)\n",
    "\n"
   ]
  },
  {
   "cell_type": "code",
   "execution_count": 27,
   "id": "9d7624a4",
   "metadata": {},
   "outputs": [
    {
     "name": "stdout",
     "output_type": "stream",
     "text": [
      "enter:malayalam\n",
      "its a pallindrome\n"
     ]
    }
   ],
   "source": [
    "def ams(n):\n",
    "    a=n\n",
    "    if n[0]==n[-1]:\n",
    "        \n",
    "        \n",
    "        if n[1]==n[-2]:\n",
    "            if n[2]==n[-3]:\n",
    "                print('its a pallindrome')\n",
    "            \n",
    "            \n",
    "    else:\n",
    "        print('this string is not a pallindrome :')\n",
    "        \n",
    "x=str(input('enter:'))        \n",
    "ams(x)        "
   ]
  },
  {
   "cell_type": "code",
   "execution_count": 24,
   "id": "06c92fcb",
   "metadata": {},
   "outputs": [
    {
     "data": {
      "text/plain": [
       "'a'"
      ]
     },
     "execution_count": 24,
     "metadata": {},
     "output_type": "execute_result"
    }
   ],
   "source": [
    "s=\"malayalam\"\n",
    "s[-2]"
   ]
  },
  {
   "cell_type": "code",
   "execution_count": null,
   "id": "1857ccbf",
   "metadata": {},
   "outputs": [],
   "source": []
  }
 ],
 "metadata": {
  "kernelspec": {
   "display_name": "Python 3 (ipykernel)",
   "language": "python",
   "name": "python3"
  },
  "language_info": {
   "codemirror_mode": {
    "name": "ipython",
    "version": 3
   },
   "file_extension": ".py",
   "mimetype": "text/x-python",
   "name": "python",
   "nbconvert_exporter": "python",
   "pygments_lexer": "ipython3",
   "version": "3.9.12"
  }
 },
 "nbformat": 4,
 "nbformat_minor": 5
}
