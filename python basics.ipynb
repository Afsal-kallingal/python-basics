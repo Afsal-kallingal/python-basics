{
 "cells": [
  {
   "cell_type": "code",
   "execution_count": 18,
   "id": "9bea7df1",
   "metadata": {},
   "outputs": [],
   "source": [
    "a=10"
   ]
  },
  {
   "cell_type": "code",
   "execution_count": 19,
   "id": "5e0bb8bc",
   "metadata": {},
   "outputs": [
    {
     "name": "stdout",
     "output_type": "stream",
     "text": [
      "10\n"
     ]
    }
   ],
   "source": [
    "print(a)"
   ]
  },
  {
   "cell_type": "code",
   "execution_count": 20,
   "id": "e574153f",
   "metadata": {},
   "outputs": [
    {
     "name": "stdout",
     "output_type": "stream",
     "text": [
      "<class 'int'>\n"
     ]
    }
   ],
   "source": [
    "print(type(a))"
   ]
  },
  {
   "cell_type": "code",
   "execution_count": 15,
   "id": "6906e18d",
   "metadata": {},
   "outputs": [
    {
     "name": "stdout",
     "output_type": "stream",
     "text": [
      "<class 'bool'>\n"
     ]
    }
   ],
   "source": [
    "print(type(a))"
   ]
  },
  {
   "cell_type": "code",
   "execution_count": 21,
   "id": "fa77b67b",
   "metadata": {},
   "outputs": [
    {
     "name": "stdout",
     "output_type": "stream",
     "text": [
      "30\n"
     ]
    }
   ],
   "source": [
    "    a=10\n",
    "    b=20\n",
    "    c=a+b\n",
    "    print(c)\n",
    "    \n",
    "    "
   ]
  },
  {
   "cell_type": "code",
   "execution_count": 22,
   "id": "4d2998a9",
   "metadata": {},
   "outputs": [
    {
     "name": "stdout",
     "output_type": "stream",
     "text": [
      "-10\n"
     ]
    }
   ],
   "source": [
    "c=a-b\n",
    "print(c)"
   ]
  },
  {
   "cell_type": "code",
   "execution_count": 23,
   "id": "29d6fbd2",
   "metadata": {},
   "outputs": [
    {
     "name": "stdout",
     "output_type": "stream",
     "text": [
      "200\n"
     ]
    }
   ],
   "source": [
    "c=a*b\n",
    "print(c)"
   ]
  },
  {
   "cell_type": "code",
   "execution_count": 24,
   "id": "01320092",
   "metadata": {},
   "outputs": [
    {
     "name": "stdout",
     "output_type": "stream",
     "text": [
      "0.5\n"
     ]
    }
   ],
   "source": [
    "c=a/b\n",
    "print(c)"
   ]
  },
  {
   "cell_type": "code",
   "execution_count": 25,
   "id": "6ddd30e3",
   "metadata": {},
   "outputs": [
    {
     "name": "stdout",
     "output_type": "stream",
     "text": [
      "10\n"
     ]
    }
   ],
   "source": [
    "c=a%b\n",
    "print(c)"
   ]
  },
  {
   "cell_type": "code",
   "execution_count": 40,
   "id": "82b118ef",
   "metadata": {},
   "outputs": [
    {
     "name": "stdout",
     "output_type": "stream",
     "text": [
      "enter ur first value7\n",
      "<class 'int'>\n"
     ]
    }
   ],
   "source": [
    "d=int(input(\"enter ur first value\"))\n",
    "print(type(d))\n"
   ]
  },
  {
   "cell_type": "code",
   "execution_count": 43,
   "id": "b14b0042",
   "metadata": {},
   "outputs": [
    {
     "name": "stdout",
     "output_type": "stream",
     "text": [
      "enter ur secnd value:6\n"
     ]
    }
   ],
   "source": [
    "f= int(input(\"enter ur secnd value:\"))\n"
   ]
  },
  {
   "cell_type": "code",
   "execution_count": 44,
   "id": "1699ad26",
   "metadata": {},
   "outputs": [
    {
     "data": {
      "text/plain": [
       "13"
      ]
     },
     "execution_count": 44,
     "metadata": {},
     "output_type": "execute_result"
    }
   ],
   "source": [
    "d+f"
   ]
  },
  {
   "cell_type": "markdown",
   "id": "9ab0e9b0",
   "metadata": {},
   "source": [
    "# String"
   ]
  },
  {
   "cell_type": "code",
   "execution_count": 45,
   "id": "8d0bee3e",
   "metadata": {},
   "outputs": [],
   "source": [
    "#find the string length\n"
   ]
  },
  {
   "cell_type": "code",
   "execution_count": 50,
   "id": "bdacffdc",
   "metadata": {},
   "outputs": [],
   "source": [
    "str=\"hello world\""
   ]
  },
  {
   "cell_type": "code",
   "execution_count": 51,
   "id": "84000c9f",
   "metadata": {},
   "outputs": [
    {
     "data": {
      "text/plain": [
       "11"
      ]
     },
     "execution_count": 51,
     "metadata": {},
     "output_type": "execute_result"
    }
   ],
   "source": [
    "len(str)"
   ]
  },
  {
   "cell_type": "code",
   "execution_count": 52,
   "id": "e395226f",
   "metadata": {},
   "outputs": [],
   "source": [
    "#capitalize the first letter"
   ]
  },
  {
   "cell_type": "code",
   "execution_count": 53,
   "id": "9dad722b",
   "metadata": {},
   "outputs": [
    {
     "data": {
      "text/plain": [
       "'Hello world'"
      ]
     },
     "execution_count": 53,
     "metadata": {},
     "output_type": "execute_result"
    }
   ],
   "source": [
    "str.capitalize()"
   ]
  },
  {
   "cell_type": "code",
   "execution_count": 54,
   "id": "f514fd63",
   "metadata": {},
   "outputs": [],
   "source": [
    "#title\n"
   ]
  },
  {
   "cell_type": "code",
   "execution_count": 55,
   "id": "847ed79c",
   "metadata": {},
   "outputs": [
    {
     "data": {
      "text/plain": [
       "'Hello World'"
      ]
     },
     "execution_count": 55,
     "metadata": {},
     "output_type": "execute_result"
    }
   ],
   "source": [
    "str.title()"
   ]
  },
  {
   "cell_type": "code",
   "execution_count": 56,
   "id": "37f2256e",
   "metadata": {},
   "outputs": [],
   "source": [
    "#upper"
   ]
  },
  {
   "cell_type": "code",
   "execution_count": 57,
   "id": "d2240a18",
   "metadata": {},
   "outputs": [
    {
     "data": {
      "text/plain": [
       "'HELLO WORLD'"
      ]
     },
     "execution_count": 57,
     "metadata": {},
     "output_type": "execute_result"
    }
   ],
   "source": [
    "str.upper()"
   ]
  },
  {
   "cell_type": "code",
   "execution_count": 58,
   "id": "82e4f5b4",
   "metadata": {},
   "outputs": [],
   "source": [
    "#lower"
   ]
  },
  {
   "cell_type": "code",
   "execution_count": 59,
   "id": "3fce01c8",
   "metadata": {},
   "outputs": [
    {
     "data": {
      "text/plain": [
       "'hello'"
      ]
     },
     "execution_count": 59,
     "metadata": {},
     "output_type": "execute_result"
    }
   ],
   "source": [
    "str1=\"HELLO\"\n",
    "str1.lower()"
   ]
  },
  {
   "cell_type": "code",
   "execution_count": 60,
   "id": "43873bcd",
   "metadata": {},
   "outputs": [],
   "source": [
    "#count\n"
   ]
  },
  {
   "cell_type": "code",
   "execution_count": 63,
   "id": "49b37e1c",
   "metadata": {},
   "outputs": [
    {
     "data": {
      "text/plain": [
       "2"
      ]
     },
     "execution_count": 63,
     "metadata": {},
     "output_type": "execute_result"
    }
   ],
   "source": [
    "x=\"L\"\n",
    "str1.count(x)\n"
   ]
  },
  {
   "cell_type": "code",
   "execution_count": 67,
   "id": "b66e3243",
   "metadata": {},
   "outputs": [
    {
     "data": {
      "text/plain": [
       "3"
      ]
     },
     "execution_count": 67,
     "metadata": {},
     "output_type": "execute_result"
    }
   ],
   "source": [
    "x=\"l\"\n",
    "str.count(x,0,10\n",
    "         )"
   ]
  },
  {
   "cell_type": "code",
   "execution_count": 70,
   "id": "8f42d5f5",
   "metadata": {},
   "outputs": [],
   "source": [
    "str2=\"welcome to kerala\"\n"
   ]
  },
  {
   "cell_type": "code",
   "execution_count": 71,
   "id": "0ad30685",
   "metadata": {},
   "outputs": [],
   "source": [
    "d=\"kerala\""
   ]
  },
  {
   "cell_type": "code",
   "execution_count": 72,
   "id": "4d07ed22",
   "metadata": {},
   "outputs": [
    {
     "data": {
      "text/plain": [
       "1"
      ]
     },
     "execution_count": 72,
     "metadata": {},
     "output_type": "execute_result"
    }
   ],
   "source": [
    "str2.count(d)"
   ]
  },
  {
   "cell_type": "code",
   "execution_count": 73,
   "id": "f1c8119d",
   "metadata": {},
   "outputs": [],
   "source": [
    "#location\n"
   ]
  },
  {
   "cell_type": "code",
   "execution_count": 74,
   "id": "7e9de96c",
   "metadata": {},
   "outputs": [
    {
     "data": {
      "text/plain": [
       "11"
      ]
     },
     "execution_count": 74,
     "metadata": {},
     "output_type": "execute_result"
    }
   ],
   "source": [
    "str2.find(d)"
   ]
  },
  {
   "cell_type": "code",
   "execution_count": 75,
   "id": "1e035a8b",
   "metadata": {},
   "outputs": [],
   "source": [
    "#alpha numeric"
   ]
  },
  {
   "cell_type": "code",
   "execution_count": 76,
   "id": "c9005521",
   "metadata": {},
   "outputs": [],
   "source": [
    "str3=\"hello3009\""
   ]
  },
  {
   "cell_type": "code",
   "execution_count": 78,
   "id": "8113e4b3",
   "metadata": {},
   "outputs": [
    {
     "data": {
      "text/plain": [
       "True"
      ]
     },
     "execution_count": 78,
     "metadata": {},
     "output_type": "execute_result"
    }
   ],
   "source": [
    "str3.isalnum()"
   ]
  },
  {
   "cell_type": "code",
   "execution_count": 124,
   "id": "e8daddda",
   "metadata": {},
   "outputs": [],
   "source": [
    "str4=\"hello\"\n",
    "\""
   ]
  },
  {
   "cell_type": "code",
   "execution_count": 122,
   "id": "1d21331d",
   "metadata": {},
   "outputs": [
    {
     "data": {
      "text/plain": [
       "False"
      ]
     },
     "execution_count": 122,
     "metadata": {},
     "output_type": "execute_result"
    }
   ],
   "source": [
    "str4.isalnum()"
   ]
  },
  {
   "cell_type": "code",
   "execution_count": 114,
   "id": "ea682fee",
   "metadata": {},
   "outputs": [
    {
     "data": {
      "text/plain": [
       "False"
      ]
     },
     "execution_count": 114,
     "metadata": {},
     "output_type": "execute_result"
    }
   ],
   "source": [
    "str4.isalpha()"
   ]
  },
  {
   "cell_type": "code",
   "execution_count": 115,
   "id": "ea288f05",
   "metadata": {},
   "outputs": [],
   "source": [
    "#digits only"
   ]
  },
  {
   "cell_type": "code",
   "execution_count": 116,
   "id": "e9f7c14c",
   "metadata": {},
   "outputs": [
    {
     "data": {
      "text/plain": [
       "False"
      ]
     },
     "execution_count": 116,
     "metadata": {},
     "output_type": "execute_result"
    }
   ],
   "source": [
    "str4.isdigit()"
   ]
  },
  {
   "cell_type": "code",
   "execution_count": 117,
   "id": "9431511c",
   "metadata": {},
   "outputs": [],
   "source": [
    "#white space"
   ]
  },
  {
   "cell_type": "code",
   "execution_count": 125,
   "id": "a5f02e6c",
   "metadata": {},
   "outputs": [
    {
     "data": {
      "text/plain": [
       "False"
      ]
     },
     "execution_count": 125,
     "metadata": {},
     "output_type": "execute_result"
    }
   ],
   "source": [
    "str4.isspace()"
   ]
  },
  {
   "cell_type": "code",
   "execution_count": 126,
   "id": "77ebb462",
   "metadata": {},
   "outputs": [],
   "source": [
    "str5=\"THIS is a string\""
   ]
  },
  {
   "cell_type": "code",
   "execution_count": 127,
   "id": "25da45a2",
   "metadata": {},
   "outputs": [
    {
     "data": {
      "text/plain": [
       "False"
      ]
     },
     "execution_count": 127,
     "metadata": {},
     "output_type": "execute_result"
    }
   ],
   "source": [
    "str5.islower()"
   ]
  },
  {
   "cell_type": "code",
   "execution_count": 128,
   "id": "f771804e",
   "metadata": {},
   "outputs": [],
   "source": [
    "str6=\"this is a string\""
   ]
  },
  {
   "cell_type": "code",
   "execution_count": 129,
   "id": "0604366c",
   "metadata": {},
   "outputs": [
    {
     "data": {
      "text/plain": [
       "True"
      ]
     },
     "execution_count": 129,
     "metadata": {},
     "output_type": "execute_result"
    }
   ],
   "source": [
    "str6.islower()"
   ]
  },
  {
   "cell_type": "code",
   "execution_count": 130,
   "id": "a0e1279a",
   "metadata": {},
   "outputs": [],
   "source": [
    "#upper"
   ]
  },
  {
   "cell_type": "code",
   "execution_count": 131,
   "id": "0a0c31c3",
   "metadata": {},
   "outputs": [],
   "source": [
    "str7=\"THIS IS STRING\""
   ]
  },
  {
   "cell_type": "code",
   "execution_count": 132,
   "id": "083360d3",
   "metadata": {},
   "outputs": [
    {
     "data": {
      "text/plain": [
       "True"
      ]
     },
     "execution_count": 132,
     "metadata": {},
     "output_type": "execute_result"
    }
   ],
   "source": [
    "str7.isupper()"
   ]
  },
  {
   "cell_type": "code",
   "execution_count": 133,
   "id": "10f3e510",
   "metadata": {},
   "outputs": [
    {
     "data": {
      "text/plain": [
       "False"
      ]
     },
     "execution_count": 133,
     "metadata": {},
     "output_type": "execute_result"
    }
   ],
   "source": [
    "str6.istitle()"
   ]
  },
  {
   "cell_type": "code",
   "execution_count": 134,
   "id": "7d6ef7b4",
   "metadata": {},
   "outputs": [],
   "source": [
    "#drop"
   ]
  },
  {
   "cell_type": "code",
   "execution_count": 142,
   "id": "85a05f01",
   "metadata": {},
   "outputs": [],
   "source": [
    "str9=\"00000 we9lcom 99999\""
   ]
  },
  {
   "cell_type": "code",
   "execution_count": 144,
   "id": "9ac2f06b",
   "metadata": {},
   "outputs": [
    {
     "data": {
      "text/plain": [
       "' we9lcom '"
      ]
     },
     "execution_count": 144,
     "metadata": {},
     "output_type": "execute_result"
    }
   ],
   "source": [
    "str9.strip(\"9,0\")"
   ]
  },
  {
   "cell_type": "raw",
   "id": "fd3e8d1e",
   "metadata": {},
   "source": [
    "#partition"
   ]
  },
  {
   "cell_type": "code",
   "execution_count": 146,
   "id": "97c9e249",
   "metadata": {},
   "outputs": [
    {
     "data": {
      "text/plain": [
       "('00000 we', '9', 'lcom 99999')"
      ]
     },
     "execution_count": 146,
     "metadata": {},
     "output_type": "execute_result"
    }
   ],
   "source": [
    "str9.partition(\"9\")"
   ]
  },
  {
   "cell_type": "code",
   "execution_count": 147,
   "id": "d09becb9",
   "metadata": {},
   "outputs": [
    {
     "data": {
      "text/plain": [
       "['00000', 'we9lcom', '99999']"
      ]
     },
     "execution_count": 147,
     "metadata": {},
     "output_type": "execute_result"
    }
   ],
   "source": [
    "str9.split()"
   ]
  },
  {
   "cell_type": "code",
   "execution_count": 148,
   "id": "62db3733",
   "metadata": {},
   "outputs": [
    {
     "data": {
      "text/plain": [
       "'00000 WE9LCOM 99999'"
      ]
     },
     "execution_count": 148,
     "metadata": {},
     "output_type": "execute_result"
    }
   ],
   "source": [
    "str9.swapcase()"
   ]
  },
  {
   "cell_type": "code",
   "execution_count": 150,
   "id": "5a9b70e2",
   "metadata": {},
   "outputs": [],
   "source": [
    "str10=\"hello\"\n",
    "t=\"/\""
   ]
  },
  {
   "cell_type": "code",
   "execution_count": 151,
   "id": "d3f5a6ca",
   "metadata": {},
   "outputs": [
    {
     "data": {
      "text/plain": [
       "'h/e/l/l/o'"
      ]
     },
     "execution_count": 151,
     "metadata": {},
     "output_type": "execute_result"
    }
   ],
   "source": [
    "t.join(str10)"
   ]
  },
  {
   "cell_type": "code",
   "execution_count": 152,
   "id": "ff0c57c6",
   "metadata": {},
   "outputs": [
    {
     "data": {
      "text/plain": [
       "'22222 we9lcom 99999'"
      ]
     },
     "execution_count": 152,
     "metadata": {},
     "output_type": "execute_result"
    }
   ],
   "source": [
    "str9.replace(\"00000\",\"22222\")"
   ]
  },
  {
   "cell_type": "markdown",
   "id": "d87bc1d8",
   "metadata": {},
   "source": [
    "# list"
   ]
  },
  {
   "cell_type": "code",
   "execution_count": 153,
   "id": "f6ce52dd",
   "metadata": {},
   "outputs": [],
   "source": [
    "my_list=[]"
   ]
  },
  {
   "cell_type": "code",
   "execution_count": 154,
   "id": "b7ab3903",
   "metadata": {},
   "outputs": [],
   "source": [
    "my_list=[1,2,3]"
   ]
  },
  {
   "cell_type": "code",
   "execution_count": 155,
   "id": "39941eda",
   "metadata": {},
   "outputs": [
    {
     "data": {
      "text/plain": [
       "[1, 2, 3]"
      ]
     },
     "execution_count": 155,
     "metadata": {},
     "output_type": "execute_result"
    }
   ],
   "source": [
    "my_list"
   ]
  },
  {
   "cell_type": "code",
   "execution_count": 158,
   "id": "43d92d8e",
   "metadata": {},
   "outputs": [],
   "source": [
    "my_list=[1,2,3,'hello']"
   ]
  },
  {
   "cell_type": "code",
   "execution_count": 159,
   "id": "17b6dc32",
   "metadata": {},
   "outputs": [
    {
     "data": {
      "text/plain": [
       "[1, 2, 3, 'hello']"
      ]
     },
     "execution_count": 159,
     "metadata": {},
     "output_type": "execute_result"
    }
   ],
   "source": [
    "my_list"
   ]
  },
  {
   "cell_type": "code",
   "execution_count": 160,
   "id": "94b501f2",
   "metadata": {},
   "outputs": [],
   "source": [
    "my_list=[[1,2,3],'hello']"
   ]
  },
  {
   "cell_type": "code",
   "execution_count": 161,
   "id": "f8eecbbc",
   "metadata": {},
   "outputs": [
    {
     "data": {
      "text/plain": [
       "[[1, 2, 3], 'hello']"
      ]
     },
     "execution_count": 161,
     "metadata": {},
     "output_type": "execute_result"
    }
   ],
   "source": [
    "my_list\n"
   ]
  },
  {
   "cell_type": "code",
   "execution_count": 162,
   "id": "ffd3272f",
   "metadata": {},
   "outputs": [],
   "source": [
    "myy_list=[2,4,'hello',9]"
   ]
  },
  {
   "cell_type": "code",
   "execution_count": 163,
   "id": "65dec1d5",
   "metadata": {},
   "outputs": [
    {
     "data": {
      "text/plain": [
       "'hello'"
      ]
     },
     "execution_count": 163,
     "metadata": {},
     "output_type": "execute_result"
    }
   ],
   "source": [
    "myy_list[2]"
   ]
  },
  {
   "cell_type": "code",
   "execution_count": 164,
   "id": "bf8f1580",
   "metadata": {},
   "outputs": [
    {
     "data": {
      "text/plain": [
       "2"
      ]
     },
     "execution_count": 164,
     "metadata": {},
     "output_type": "execute_result"
    }
   ],
   "source": [
    "myy_list[0]"
   ]
  },
  {
   "cell_type": "code",
   "execution_count": 165,
   "id": "8b01d5de",
   "metadata": {},
   "outputs": [
    {
     "data": {
      "text/plain": [
       "9"
      ]
     },
     "execution_count": 165,
     "metadata": {},
     "output_type": "execute_result"
    }
   ],
   "source": [
    "myy_list[-1]"
   ]
  },
  {
   "cell_type": "code",
   "execution_count": 166,
   "id": "ca27aef4",
   "metadata": {},
   "outputs": [],
   "source": [
    "mark=[50,60,70]"
   ]
  },
  {
   "cell_type": "code",
   "execution_count": 167,
   "id": "4ca2df97",
   "metadata": {},
   "outputs": [
    {
     "data": {
      "text/plain": [
       "[50, 60, 70]"
      ]
     },
     "execution_count": 167,
     "metadata": {},
     "output_type": "execute_result"
    }
   ],
   "source": [
    "mark"
   ]
  },
  {
   "cell_type": "code",
   "execution_count": 168,
   "id": "731eb666",
   "metadata": {},
   "outputs": [],
   "source": [
    "mark[1]=20"
   ]
  },
  {
   "cell_type": "code",
   "execution_count": 169,
   "id": "7a64dd6c",
   "metadata": {},
   "outputs": [
    {
     "data": {
      "text/plain": [
       "[50, 20, 70]"
      ]
     },
     "execution_count": 169,
     "metadata": {},
     "output_type": "execute_result"
    }
   ],
   "source": [
    "mark"
   ]
  },
  {
   "cell_type": "code",
   "execution_count": 179,
   "id": "3dc886c2",
   "metadata": {},
   "outputs": [],
   "source": [
    "mark.append(30)"
   ]
  },
  {
   "cell_type": "code",
   "execution_count": 180,
   "id": "86827690",
   "metadata": {},
   "outputs": [
    {
     "data": {
      "text/plain": [
       "[50, 20, 70, 30, 30, 30, 30]"
      ]
     },
     "execution_count": 180,
     "metadata": {},
     "output_type": "execute_result"
    }
   ],
   "source": [
    "mark"
   ]
  },
  {
   "cell_type": "code",
   "execution_count": 181,
   "id": "67bdedfc",
   "metadata": {},
   "outputs": [],
   "source": [
    "mark.extend([20,40,60,66,44])"
   ]
  },
  {
   "cell_type": "code",
   "execution_count": 182,
   "id": "bbf286a9",
   "metadata": {},
   "outputs": [
    {
     "data": {
      "text/plain": [
       "[50, 20, 70, 30, 30, 30, 30, 20, 40, 60, 66, 44]"
      ]
     },
     "execution_count": 182,
     "metadata": {},
     "output_type": "execute_result"
    }
   ],
   "source": [
    "mark"
   ]
  },
  {
   "cell_type": "code",
   "execution_count": 183,
   "id": "d70657e3",
   "metadata": {},
   "outputs": [],
   "source": [
    "mark.insert(2,39)"
   ]
  },
  {
   "cell_type": "code",
   "execution_count": 184,
   "id": "c9487d03",
   "metadata": {},
   "outputs": [
    {
     "data": {
      "text/plain": [
       "[50, 20, 39, 70, 30, 30, 30, 30, 20, 40, 60, 66, 44]"
      ]
     },
     "execution_count": 184,
     "metadata": {},
     "output_type": "execute_result"
    }
   ],
   "source": [
    "mark"
   ]
  },
  {
   "cell_type": "code",
   "execution_count": 185,
   "id": "fe926dd2",
   "metadata": {},
   "outputs": [],
   "source": [
    "li=[]"
   ]
  },
  {
   "cell_type": "code",
   "execution_count": 188,
   "id": "4422e05c",
   "metadata": {},
   "outputs": [],
   "source": [
    "li.append('a')"
   ]
  },
  {
   "cell_type": "code",
   "execution_count": 189,
   "id": "867c472c",
   "metadata": {},
   "outputs": [
    {
     "data": {
      "text/plain": [
       "[10, 'a']"
      ]
     },
     "execution_count": 189,
     "metadata": {},
     "output_type": "execute_result"
    }
   ],
   "source": [
    "li\n",
    "\n"
   ]
  },
  {
   "cell_type": "code",
   "execution_count": 190,
   "id": "7cd44304",
   "metadata": {},
   "outputs": [],
   "source": [
    "li.append(20)"
   ]
  },
  {
   "cell_type": "code",
   "execution_count": 191,
   "id": "0530cc1a",
   "metadata": {},
   "outputs": [],
   "source": [
    "li.append('bb')"
   ]
  },
  {
   "cell_type": "code",
   "execution_count": 192,
   "id": "127441ce",
   "metadata": {},
   "outputs": [],
   "source": [
    "li.append('c')"
   ]
  },
  {
   "cell_type": "code",
   "execution_count": 193,
   "id": "7c5374c5",
   "metadata": {},
   "outputs": [
    {
     "data": {
      "text/plain": [
       "[10, 'a', 20, 'bb', 'c']"
      ]
     },
     "execution_count": 193,
     "metadata": {},
     "output_type": "execute_result"
    }
   ],
   "source": [
    "li"
   ]
  },
  {
   "cell_type": "code",
   "execution_count": 200,
   "id": "e3f7cbc3",
   "metadata": {},
   "outputs": [],
   "source": [
    "newlist=[]\n"
   ]
  },
  {
   "cell_type": "code",
   "execution_count": 203,
   "id": "b414a707",
   "metadata": {},
   "outputs": [
    {
     "name": "stdout",
     "output_type": "stream",
     "text": [
      "enter a number8\n"
     ]
    },
    {
     "data": {
      "text/plain": [
       "['8', '9', '8']"
      ]
     },
     "execution_count": 203,
     "metadata": {},
     "output_type": "execute_result"
    }
   ],
   "source": [
    "lk=input(\"enter a number\")\n",
    "newlist.append(lk)\n",
    "newlist"
   ]
  },
  {
   "cell_type": "code",
   "execution_count": null,
   "id": "0edd6786",
   "metadata": {},
   "outputs": [],
   "source": [
    "k=int (input(\"enter ur location\"))\n",
    "m=input(\"enter ur values\")\n",
    "newlist.insert(k,m)\n",
    "newlist"
   ]
  },
  {
   "cell_type": "code",
   "execution_count": 212,
   "id": "791c9da9",
   "metadata": {},
   "outputs": [],
   "source": [
    "del newlist[1]"
   ]
  },
  {
   "cell_type": "code",
   "execution_count": 213,
   "id": "7a0fca7c",
   "metadata": {},
   "outputs": [
    {
     "data": {
      "text/plain": [
       "['8', '77', '9', '8', '2', '20', '0', '10']"
      ]
     },
     "execution_count": 213,
     "metadata": {},
     "output_type": "execute_result"
    }
   ],
   "source": [
    "newlist"
   ]
  },
  {
   "cell_type": "code",
   "execution_count": 215,
   "id": "183140b6",
   "metadata": {},
   "outputs": [],
   "source": [
    "newlist.remove('77')"
   ]
  },
  {
   "cell_type": "code",
   "execution_count": 216,
   "id": "e07832e2",
   "metadata": {},
   "outputs": [
    {
     "data": {
      "text/plain": [
       "['8', '9', '8', '2', '20', '0', '10']"
      ]
     },
     "execution_count": 216,
     "metadata": {},
     "output_type": "execute_result"
    }
   ],
   "source": [
    "newlist"
   ]
  },
  {
   "cell_type": "code",
   "execution_count": 217,
   "id": "5cd5caa4",
   "metadata": {},
   "outputs": [
    {
     "data": {
      "text/plain": [
       "[]"
      ]
     },
     "execution_count": 217,
     "metadata": {},
     "output_type": "execute_result"
    }
   ],
   "source": [
    "newlist.clear()\n",
    "newlist"
   ]
  },
  {
   "cell_type": "code",
   "execution_count": 218,
   "id": "a38dc18a",
   "metadata": {},
   "outputs": [],
   "source": [
    "#operations"
   ]
  },
  {
   "cell_type": "code",
   "execution_count": 221,
   "id": "2293ae4c",
   "metadata": {},
   "outputs": [],
   "source": [
    "list=['p',2,3,44,44,5,66,'8']"
   ]
  },
  {
   "cell_type": "code",
   "execution_count": 222,
   "id": "f09de312",
   "metadata": {},
   "outputs": [
    {
     "data": {
      "text/plain": [
       "2"
      ]
     },
     "execution_count": 222,
     "metadata": {},
     "output_type": "execute_result"
    }
   ],
   "source": [
    "list[1]"
   ]
  },
  {
   "cell_type": "code",
   "execution_count": 224,
   "id": "5a6468f9",
   "metadata": {},
   "outputs": [
    {
     "data": {
      "text/plain": [
       "[2, 3, 44, 44]"
      ]
     },
     "execution_count": 224,
     "metadata": {},
     "output_type": "execute_result"
    }
   ],
   "source": [
    "list[1:5]"
   ]
  },
  {
   "cell_type": "code",
   "execution_count": 225,
   "id": "baf081a9",
   "metadata": {},
   "outputs": [
    {
     "data": {
      "text/plain": [
       "['p', 2, 3, 44, 44]"
      ]
     },
     "execution_count": 225,
     "metadata": {},
     "output_type": "execute_result"
    }
   ],
   "source": [
    "list[:5]"
   ]
  },
  {
   "cell_type": "code",
   "execution_count": 226,
   "id": "fb3af65d",
   "metadata": {},
   "outputs": [
    {
     "data": {
      "text/plain": [
       "[5, 66, '8']"
      ]
     },
     "execution_count": 226,
     "metadata": {},
     "output_type": "execute_result"
    }
   ],
   "source": [
    "list[5:]"
   ]
  },
  {
   "cell_type": "code",
   "execution_count": 235,
   "id": "249046a1",
   "metadata": {},
   "outputs": [],
   "source": [
    "list1=[2,3,3,4,5,6,7]"
   ]
  },
  {
   "cell_type": "code",
   "execution_count": 241,
   "id": "a1c7649f",
   "metadata": {},
   "outputs": [
    {
     "data": {
      "text/plain": [
       "[3, 4, 5, 6]"
      ]
     },
     "execution_count": 241,
     "metadata": {},
     "output_type": "execute_result"
    }
   ],
   "source": [
    "list1[-5:-1]"
   ]
  },
  {
   "cell_type": "code",
   "execution_count": 242,
   "id": "9e01e5e3",
   "metadata": {},
   "outputs": [
    {
     "data": {
      "text/plain": [
       "2"
      ]
     },
     "execution_count": 242,
     "metadata": {},
     "output_type": "execute_result"
    }
   ],
   "source": [
    "list1.count(3)"
   ]
  },
  {
   "cell_type": "code",
   "execution_count": 243,
   "id": "27a7b920",
   "metadata": {},
   "outputs": [],
   "source": [
    "list1.extend(list)"
   ]
  },
  {
   "cell_type": "code",
   "execution_count": 244,
   "id": "e2e38ea0",
   "metadata": {},
   "outputs": [
    {
     "data": {
      "text/plain": [
       "[2, 3, 3, 4, 5, 6, 7, 'p', 2, 3, 44, 44, 5, 66, '8']"
      ]
     },
     "execution_count": 244,
     "metadata": {},
     "output_type": "execute_result"
    }
   ],
   "source": [
    "list1"
   ]
  },
  {
   "cell_type": "code",
   "execution_count": 245,
   "id": "8e1c3f88",
   "metadata": {},
   "outputs": [
    {
     "data": {
      "text/plain": [
       "1"
      ]
     },
     "execution_count": 245,
     "metadata": {},
     "output_type": "execute_result"
    }
   ],
   "source": [
    "list1.index(3)"
   ]
  },
  {
   "cell_type": "code",
   "execution_count": 246,
   "id": "ec3f61df",
   "metadata": {},
   "outputs": [
    {
     "data": {
      "text/plain": [
       "10"
      ]
     },
     "execution_count": 246,
     "metadata": {},
     "output_type": "execute_result"
    }
   ],
   "source": [
    "list1.index(44)"
   ]
  },
  {
   "cell_type": "code",
   "execution_count": 247,
   "id": "78e1d2c6",
   "metadata": {},
   "outputs": [],
   "source": [
    "vowels=['a','i','o']"
   ]
  },
  {
   "cell_type": "code",
   "execution_count": 248,
   "id": "734c5bb0",
   "metadata": {},
   "outputs": [],
   "source": [
    "vowels.insert(1,'e')"
   ]
  },
  {
   "cell_type": "code",
   "execution_count": 249,
   "id": "9057258a",
   "metadata": {},
   "outputs": [
    {
     "data": {
      "text/plain": [
       "['a', 'e', 'i', 'o']"
      ]
     },
     "execution_count": 249,
     "metadata": {},
     "output_type": "execute_result"
    }
   ],
   "source": [
    "vowels"
   ]
  },
  {
   "cell_type": "code",
   "execution_count": 250,
   "id": "285da4d9",
   "metadata": {},
   "outputs": [
    {
     "data": {
      "text/plain": [
       "'o'"
      ]
     },
     "execution_count": 250,
     "metadata": {},
     "output_type": "execute_result"
    }
   ],
   "source": [
    "vowels.pop()"
   ]
  },
  {
   "cell_type": "code",
   "execution_count": 251,
   "id": "eef5707f",
   "metadata": {},
   "outputs": [
    {
     "data": {
      "text/plain": [
       "'i'"
      ]
     },
     "execution_count": 251,
     "metadata": {},
     "output_type": "execute_result"
    }
   ],
   "source": [
    "vowels.pop(-1)"
   ]
  },
  {
   "cell_type": "code",
   "execution_count": 252,
   "id": "442f8953",
   "metadata": {},
   "outputs": [
    {
     "data": {
      "text/plain": [
       "['a', 'e']"
      ]
     },
     "execution_count": 252,
     "metadata": {},
     "output_type": "execute_result"
    }
   ],
   "source": [
    "vowels\n"
   ]
  },
  {
   "cell_type": "code",
   "execution_count": 256,
   "id": "93115f5b",
   "metadata": {},
   "outputs": [],
   "source": [
    "old_list=[1,2]\n"
   ]
  },
  {
   "cell_type": "code",
   "execution_count": 257,
   "id": "a1e6c1f3",
   "metadata": {},
   "outputs": [],
   "source": [
    "old_list=vowels"
   ]
  },
  {
   "cell_type": "code",
   "execution_count": 258,
   "id": "de1f35eb",
   "metadata": {},
   "outputs": [
    {
     "data": {
      "text/plain": [
       "['a', 'e']"
      ]
     },
     "execution_count": 258,
     "metadata": {},
     "output_type": "execute_result"
    }
   ],
   "source": [
    "old_list"
   ]
  },
  {
   "cell_type": "code",
   "execution_count": 259,
   "id": "7b7a5ca3",
   "metadata": {},
   "outputs": [
    {
     "data": {
      "text/plain": [
       "['a', 'e']"
      ]
     },
     "execution_count": 259,
     "metadata": {},
     "output_type": "execute_result"
    }
   ],
   "source": [
    "old_list"
   ]
  },
  {
   "cell_type": "code",
   "execution_count": 260,
   "id": "a7bcb5e6",
   "metadata": {},
   "outputs": [],
   "source": [
    "vowels.remove('e')"
   ]
  },
  {
   "cell_type": "code",
   "execution_count": 261,
   "id": "a86c8d6e",
   "metadata": {},
   "outputs": [
    {
     "data": {
      "text/plain": [
       "['a']"
      ]
     },
     "execution_count": 261,
     "metadata": {},
     "output_type": "execute_result"
    }
   ],
   "source": [
    "vowels"
   ]
  },
  {
   "cell_type": "code",
   "execution_count": 262,
   "id": "8a535dfc",
   "metadata": {},
   "outputs": [],
   "source": [
    "list1=[1,2,3,4,5,6,7,8,9,0,88,7,77,66,55]"
   ]
  },
  {
   "cell_type": "code",
   "execution_count": 263,
   "id": "bc8af38b",
   "metadata": {},
   "outputs": [],
   "source": [
    "list2=[]"
   ]
  },
  {
   "cell_type": "code",
   "execution_count": 264,
   "id": "4bd78f4f",
   "metadata": {},
   "outputs": [],
   "source": [
    "list2=list1[::-1]"
   ]
  },
  {
   "cell_type": "code",
   "execution_count": 265,
   "id": "ce6a6b6c",
   "metadata": {},
   "outputs": [
    {
     "data": {
      "text/plain": [
       "[55, 66, 77, 7, 88, 0, 9, 8, 7, 6, 5, 4, 3, 2, 1]"
      ]
     },
     "execution_count": 265,
     "metadata": {},
     "output_type": "execute_result"
    }
   ],
   "source": [
    "\n",
    "list2"
   ]
  },
  {
   "cell_type": "code",
   "execution_count": 1,
   "id": "44bf654e",
   "metadata": {},
   "outputs": [],
   "source": [
    "#tupple\n"
   ]
  },
  {
   "cell_type": "code",
   "execution_count": 15,
   "id": "77925549",
   "metadata": {},
   "outputs": [],
   "source": [
    "x=(1,2,3,4,5,6)"
   ]
  },
  {
   "cell_type": "code",
   "execution_count": 16,
   "id": "6b9e97dc",
   "metadata": {},
   "outputs": [
    {
     "data": {
      "text/plain": [
       "tuple"
      ]
     },
     "execution_count": 16,
     "metadata": {},
     "output_type": "execute_result"
    }
   ],
   "source": [
    "type(x)"
   ]
  },
  {
   "cell_type": "code",
   "execution_count": 17,
   "id": "9fd5362e",
   "metadata": {},
   "outputs": [
    {
     "data": {
      "text/plain": [
       "3"
      ]
     },
     "execution_count": 17,
     "metadata": {},
     "output_type": "execute_result"
    }
   ],
   "source": [
    "x[2]"
   ]
  },
  {
   "cell_type": "code",
   "execution_count": 19,
   "id": "210cf3a3",
   "metadata": {},
   "outputs": [],
   "source": [
    "t1=(2,3,4,5,6,7,8,8,9)\n",
    "t2=(3,4,5,6,7,8,6,5,4)\n",
    "t3=t2+t1"
   ]
  },
  {
   "cell_type": "markdown",
   "id": "395c16aa",
   "metadata": {},
   "source": [
    "t3"
   ]
  },
  {
   "cell_type": "code",
   "execution_count": 20,
   "id": "818f69e8",
   "metadata": {},
   "outputs": [
    {
     "data": {
      "text/plain": [
       "(3, 4, 5, 6, 7, 8, 6, 5, 4, 2, 3, 4, 5, 6, 7, 8, 8, 9)"
      ]
     },
     "execution_count": 20,
     "metadata": {},
     "output_type": "execute_result"
    }
   ],
   "source": [
    "t3"
   ]
  },
  {
   "cell_type": "code",
   "execution_count": 21,
   "id": "f1724bf0",
   "metadata": {},
   "outputs": [
    {
     "data": {
      "text/plain": [
       "('a', 'b', 'c', 'a', 'b', 'c', 'a', 'b', 'c')"
      ]
     },
     "execution_count": 21,
     "metadata": {},
     "output_type": "execute_result"
    }
   ],
   "source": [
    "t3=('a','b','c')\n",
    "t3*3"
   ]
  },
  {
   "cell_type": "code",
   "execution_count": 22,
   "id": "0256269f",
   "metadata": {},
   "outputs": [
    {
     "data": {
      "text/plain": [
       "True"
      ]
     },
     "execution_count": 22,
     "metadata": {},
     "output_type": "execute_result"
    }
   ],
   "source": [
    "a=(1,2)\n",
    "b=(1,2)\n",
    "a==b"
   ]
  },
  {
   "cell_type": "code",
   "execution_count": 23,
   "id": "fb212313",
   "metadata": {},
   "outputs": [
    {
     "data": {
      "text/plain": [
       "False"
      ]
     },
     "execution_count": 23,
     "metadata": {},
     "output_type": "execute_result"
    }
   ],
   "source": [
    "a!=b"
   ]
  },
  {
   "cell_type": "code",
   "execution_count": 30,
   "id": "f716b7e1",
   "metadata": {},
   "outputs": [
    {
     "data": {
      "text/plain": [
       "('a', 'b', 'c')"
      ]
     },
     "execution_count": 30,
     "metadata": {},
     "output_type": "execute_result"
    }
   ],
   "source": [
    "t3\n"
   ]
  },
  {
   "cell_type": "code",
   "execution_count": 31,
   "id": "78833af2",
   "metadata": {},
   "outputs": [],
   "source": [
    "del t3"
   ]
  },
  {
   "cell_type": "code",
   "execution_count": 32,
   "id": "19402955",
   "metadata": {},
   "outputs": [
    {
     "ename": "NameError",
     "evalue": "name 't3' is not defined",
     "output_type": "error",
     "traceback": [
      "\u001b[1;31m---------------------------------------------------------------------------\u001b[0m",
      "\u001b[1;31mNameError\u001b[0m                                 Traceback (most recent call last)",
      "Input \u001b[1;32mIn [32]\u001b[0m, in \u001b[0;36m<cell line: 1>\u001b[1;34m()\u001b[0m\n\u001b[1;32m----> 1\u001b[0m \u001b[43mt3\u001b[49m\n",
      "\u001b[1;31mNameError\u001b[0m: name 't3' is not defined"
     ]
    }
   ],
   "source": [
    "t3"
   ]
  },
  {
   "cell_type": "code",
   "execution_count": 33,
   "id": "4d0282be",
   "metadata": {},
   "outputs": [],
   "source": [
    "#sets"
   ]
  },
  {
   "cell_type": "code",
   "execution_count": 34,
   "id": "8c421ca7",
   "metadata": {},
   "outputs": [],
   "source": [
    "x=set({1,2,3,4,5,6,7,8,9,0,9,88,77,66,55,44,443})\n"
   ]
  },
  {
   "cell_type": "code",
   "execution_count": 35,
   "id": "4082e7f5",
   "metadata": {},
   "outputs": [
    {
     "data": {
      "text/plain": [
       "set"
      ]
     },
     "execution_count": 35,
     "metadata": {},
     "output_type": "execute_result"
    }
   ],
   "source": [
    "type(x)"
   ]
  },
  {
   "cell_type": "code",
   "execution_count": 38,
   "id": "14ed7491",
   "metadata": {},
   "outputs": [
    {
     "data": {
      "text/plain": [
       "{0, 1, 2, 3, 4, 5, 6, 7, 8, 9, 44, 55, 66, 77, 88, 443}"
      ]
     },
     "execution_count": 38,
     "metadata": {},
     "output_type": "execute_result"
    }
   ],
   "source": [
    "x"
   ]
  },
  {
   "cell_type": "code",
   "execution_count": 39,
   "id": "04cee6d6",
   "metadata": {},
   "outputs": [
    {
     "data": {
      "text/plain": [
       "{0, 1, 2, 3, 4, 5, 6, 7, 8, 9, 44, 55, 66, 77, 88, 443}"
      ]
     },
     "execution_count": 39,
     "metadata": {},
     "output_type": "execute_result"
    }
   ],
   "source": [
    "x"
   ]
  },
  {
   "cell_type": "code",
   "execution_count": 40,
   "id": "0351dac3",
   "metadata": {},
   "outputs": [
    {
     "ename": "TypeError",
     "evalue": "'set' object is not subscriptable",
     "output_type": "error",
     "traceback": [
      "\u001b[1;31m---------------------------------------------------------------------------\u001b[0m",
      "\u001b[1;31mTypeError\u001b[0m                                 Traceback (most recent call last)",
      "Input \u001b[1;32mIn [40]\u001b[0m, in \u001b[0;36m<cell line: 1>\u001b[1;34m()\u001b[0m\n\u001b[1;32m----> 1\u001b[0m \u001b[43mx\u001b[49m\u001b[43m[\u001b[49m\u001b[38;5;241;43m3\u001b[39;49m\u001b[43m]\u001b[49m\n",
      "\u001b[1;31mTypeError\u001b[0m: 'set' object is not subscriptable"
     ]
    }
   ],
   "source": [
    "x[3]"
   ]
  },
  {
   "cell_type": "code",
   "execution_count": 41,
   "id": "205a9d28",
   "metadata": {},
   "outputs": [],
   "source": [
    "x.add('string')"
   ]
  },
  {
   "cell_type": "code",
   "execution_count": 42,
   "id": "72ee5343",
   "metadata": {},
   "outputs": [
    {
     "data": {
      "text/plain": [
       "{0, 1, 2, 3, 4, 44, 443, 5, 55, 6, 66, 7, 77, 8, 88, 9, 'string'}"
      ]
     },
     "execution_count": 42,
     "metadata": {},
     "output_type": "execute_result"
    }
   ],
   "source": [
    "x"
   ]
  },
  {
   "cell_type": "code",
   "execution_count": 43,
   "id": "363a6027",
   "metadata": {},
   "outputs": [],
   "source": [
    "x.update({'afff',\"hello\",\"world\"})"
   ]
  },
  {
   "cell_type": "code",
   "execution_count": 44,
   "id": "87674231",
   "metadata": {
    "scrolled": true
   },
   "outputs": [
    {
     "data": {
      "text/plain": [
       "{0,\n",
       " 1,\n",
       " 2,\n",
       " 3,\n",
       " 4,\n",
       " 44,\n",
       " 443,\n",
       " 5,\n",
       " 55,\n",
       " 6,\n",
       " 66,\n",
       " 7,\n",
       " 77,\n",
       " 8,\n",
       " 88,\n",
       " 9,\n",
       " 'afff',\n",
       " 'hello',\n",
       " 'string',\n",
       " 'world'}"
      ]
     },
     "execution_count": 44,
     "metadata": {},
     "output_type": "execute_result"
    }
   ],
   "source": [
    "x"
   ]
  },
  {
   "cell_type": "code",
   "execution_count": 1,
   "id": "53d4575b",
   "metadata": {},
   "outputs": [],
   "source": [
    "#dictonery"
   ]
  },
  {
   "cell_type": "code",
   "execution_count": 2,
   "id": "362eec96",
   "metadata": {},
   "outputs": [],
   "source": [
    "dict={'a':'20','b':'22','c':'30'}"
   ]
  },
  {
   "cell_type": "code",
   "execution_count": 3,
   "id": "71159eca",
   "metadata": {},
   "outputs": [
    {
     "data": {
      "text/plain": [
       "{'a': '20', 'b': '22', 'c': '30'}"
      ]
     },
     "execution_count": 3,
     "metadata": {},
     "output_type": "execute_result"
    }
   ],
   "source": [
    "dict"
   ]
  },
  {
   "cell_type": "code",
   "execution_count": 6,
   "id": "840a4e26",
   "metadata": {},
   "outputs": [],
   "source": [
    "dict1={'name':'zara','age':'17','class':'first'}"
   ]
  },
  {
   "cell_type": "code",
   "execution_count": 7,
   "id": "8b8d224a",
   "metadata": {},
   "outputs": [
    {
     "data": {
      "text/plain": [
       "'zara'"
      ]
     },
     "execution_count": 7,
     "metadata": {},
     "output_type": "execute_result"
    }
   ],
   "source": [
    "dict1['name']"
   ]
  },
  {
   "cell_type": "code",
   "execution_count": 9,
   "id": "ae0c50a8",
   "metadata": {},
   "outputs": [],
   "source": [
    "dict1['age']=8"
   ]
  },
  {
   "cell_type": "code",
   "execution_count": 11,
   "id": "6c0fcf28",
   "metadata": {},
   "outputs": [
    {
     "data": {
      "text/plain": [
       "8"
      ]
     },
     "execution_count": 11,
     "metadata": {},
     "output_type": "execute_result"
    }
   ],
   "source": [
    "dict1['age']"
   ]
  },
  {
   "cell_type": "code",
   "execution_count": 13,
   "id": "a920c83b",
   "metadata": {},
   "outputs": [],
   "source": [
    "dict1['school']='xyz'"
   ]
  },
  {
   "cell_type": "code",
   "execution_count": 14,
   "id": "42b2d18a",
   "metadata": {},
   "outputs": [
    {
     "data": {
      "text/plain": [
       "'xyz'"
      ]
     },
     "execution_count": 14,
     "metadata": {},
     "output_type": "execute_result"
    }
   ],
   "source": [
    "dict1['school']"
   ]
  },
  {
   "cell_type": "code",
   "execution_count": 15,
   "id": "4a09cad5",
   "metadata": {},
   "outputs": [
    {
     "ename": "SyntaxError",
     "evalue": "cannot delete function call (3720953763.py, line 1)",
     "output_type": "error",
     "traceback": [
      "\u001b[1;36m  Input \u001b[1;32mIn [15]\u001b[1;36m\u001b[0m\n\u001b[1;33m    del dict(name)\u001b[0m\n\u001b[1;37m        ^\u001b[0m\n\u001b[1;31mSyntaxError\u001b[0m\u001b[1;31m:\u001b[0m cannot delete function call\n"
     ]
    }
   ],
   "source": [
    "del dict(name)"
   ]
  },
  {
   "cell_type": "code",
   "execution_count": 16,
   "id": "cc45c628",
   "metadata": {},
   "outputs": [
    {
     "data": {
      "text/plain": [
       "'zara'"
      ]
     },
     "execution_count": 16,
     "metadata": {},
     "output_type": "execute_result"
    }
   ],
   "source": [
    "dict1['name']"
   ]
  },
  {
   "cell_type": "code",
   "execution_count": 17,
   "id": "d9974c22",
   "metadata": {},
   "outputs": [],
   "source": [
    "del dict1['name']"
   ]
  },
  {
   "cell_type": "code",
   "execution_count": 18,
   "id": "87942de1",
   "metadata": {},
   "outputs": [
    {
     "ename": "KeyError",
     "evalue": "'name'",
     "output_type": "error",
     "traceback": [
      "\u001b[1;31m---------------------------------------------------------------------------\u001b[0m",
      "\u001b[1;31mKeyError\u001b[0m                                  Traceback (most recent call last)",
      "Input \u001b[1;32mIn [18]\u001b[0m, in \u001b[0;36m<cell line: 1>\u001b[1;34m()\u001b[0m\n\u001b[1;32m----> 1\u001b[0m \u001b[43mdict1\u001b[49m\u001b[43m[\u001b[49m\u001b[38;5;124;43m'\u001b[39;49m\u001b[38;5;124;43mname\u001b[39;49m\u001b[38;5;124;43m'\u001b[39;49m\u001b[43m]\u001b[49m\n",
      "\u001b[1;31mKeyError\u001b[0m: 'name'"
     ]
    }
   ],
   "source": [
    "dict1['name']"
   ]
  },
  {
   "cell_type": "code",
   "execution_count": 20,
   "id": "44e886a8",
   "metadata": {},
   "outputs": [],
   "source": [
    "dict1.clear()"
   ]
  },
  {
   "cell_type": "code",
   "execution_count": 21,
   "id": "f7c1b950",
   "metadata": {},
   "outputs": [
    {
     "data": {
      "text/plain": [
       "{}"
      ]
     },
     "execution_count": 21,
     "metadata": {},
     "output_type": "execute_result"
    }
   ],
   "source": [
    "dict1"
   ]
  },
  {
   "cell_type": "code",
   "execution_count": 22,
   "id": "e90e3909",
   "metadata": {},
   "outputs": [],
   "source": [
    "del dict1"
   ]
  },
  {
   "cell_type": "code",
   "execution_count": 23,
   "id": "6bda12e6",
   "metadata": {},
   "outputs": [
    {
     "ename": "NameError",
     "evalue": "name 'dict1' is not defined",
     "output_type": "error",
     "traceback": [
      "\u001b[1;31m---------------------------------------------------------------------------\u001b[0m",
      "\u001b[1;31mNameError\u001b[0m                                 Traceback (most recent call last)",
      "Input \u001b[1;32mIn [23]\u001b[0m, in \u001b[0;36m<cell line: 1>\u001b[1;34m()\u001b[0m\n\u001b[1;32m----> 1\u001b[0m \u001b[43mdict1\u001b[49m\n",
      "\u001b[1;31mNameError\u001b[0m: name 'dict1' is not defined"
     ]
    }
   ],
   "source": [
    "dict1"
   ]
  },
  {
   "cell_type": "code",
   "execution_count": 24,
   "id": "e63269cc",
   "metadata": {},
   "outputs": [],
   "source": [
    "#if statement"
   ]
  },
  {
   "cell_type": "code",
   "execution_count": 25,
   "id": "a4be4cd9",
   "metadata": {},
   "outputs": [],
   "source": [
    "a=10\n",
    "b=30\n"
   ]
  },
  {
   "cell_type": "code",
   "execution_count": null,
   "id": "97dafbb0",
   "metadata": {},
   "outputs": [],
   "source": []
  }
 ],
 "metadata": {
  "kernelspec": {
   "display_name": "Python 3 (ipykernel)",
   "language": "python",
   "name": "python3"
  },
  "language_info": {
   "codemirror_mode": {
    "name": "ipython",
    "version": 3
   },
   "file_extension": ".py",
   "mimetype": "text/x-python",
   "name": "python",
   "nbconvert_exporter": "python",
   "pygments_lexer": "ipython3",
   "version": "3.9.12"
  }
 },
 "nbformat": 4,
 "nbformat_minor": 5
}
