{
 "cells": [
  {
   "cell_type": "markdown",
   "id": "82d0a335",
   "metadata": {},
   "source": [
    "# Files"
   ]
  },
  {
   "cell_type": "code",
   "execution_count": 6,
   "id": "7fb07cad",
   "metadata": {},
   "outputs": [],
   "source": [
    "file1=open(\"afsal.txt\",'w')\n",
    "file1.write(\"age\")\n",
    "file1.close()\n"
   ]
  },
  {
   "cell_type": "code",
   "execution_count": 17,
   "id": "7ee71871",
   "metadata": {},
   "outputs": [
    {
     "name": "stdout",
     "output_type": "stream",
     "text": [
      "ageaddressaddress\n"
     ]
    }
   ],
   "source": [
    "file1=open('afsal.txt','r')\n",
    "a=file1.read() #to display the function in afsal file\n",
    "print(a)\n",
    "file1.close()\n"
   ]
  },
  {
   "cell_type": "code",
   "execution_count": 14,
   "id": "4957d6a4",
   "metadata": {},
   "outputs": [],
   "source": [
    "#to insert a value from this file can use append function\n",
    "file1=open('afsal.txt','a')\n",
    "file1.write('address')\n",
    "file1.close()"
   ]
  },
  {
   "cell_type": "code",
   "execution_count": 29,
   "id": "4c4fc111",
   "metadata": {},
   "outputs": [],
   "source": [
    "f=open('afsal.txt','w')\n",
    "f.write('name')\n",
    "f.write('adress')\n",
    "f.write('good morning afsal')\n",
    "f.write('have a nice day for u')\n",
    "f.close()\n",
    "\n"
   ]
  },
  {
   "cell_type": "code",
   "execution_count": 53,
   "id": "07e5896f",
   "metadata": {},
   "outputs": [
    {
     "name": "stdout",
     "output_type": "stream",
     "text": [
      "name\n",
      "adress\n",
      "good morning \n",
      "afsalhave a nice day\n",
      " for uwhts ur nme bro\n"
     ]
    }
   ],
   "source": [
    "f=open('afsal.txt','r')\n",
    "r=f.read()\n",
    "print(r)\n",
    "f.close()"
   ]
  },
  {
   "cell_type": "code",
   "execution_count": 54,
   "id": "ee66ed1b",
   "metadata": {},
   "outputs": [
    {
     "name": "stdout",
     "output_type": "stream",
     "text": [
      "name\n",
      "\n"
     ]
    }
   ],
   "source": [
    "f=open('afsal.txt','r')\n",
    "r=f.readline()\n",
    "print(r)\n",
    "f.close()"
   ]
  },
  {
   "cell_type": "code",
   "execution_count": 28,
   "id": "70b62f41",
   "metadata": {},
   "outputs": [
    {
     "name": "stdout",
     "output_type": "stream",
     "text": [
      "Intro\n"
     ]
    }
   ],
   "source": [
    "f=open('afsal.txt','r')\n",
    "r=f.read(5)\n",
    "print(r)\n",
    "f.close()"
   ]
  },
  {
   "cell_type": "code",
   "execution_count": 41,
   "id": "59784d18",
   "metadata": {},
   "outputs": [],
   "source": [
    "f=open('afsal.txt','w')\n",
    "f.write('name')\n",
    "f.write('adress')\n",
    "f.write('good morning afsal')\n",
    "f.write('have a nice day for u')\n",
    "f.close()"
   ]
  },
  {
   "cell_type": "code",
   "execution_count": 55,
   "id": "2ea67ae0",
   "metadata": {},
   "outputs": [
    {
     "name": "stdout",
     "output_type": "stream",
     "text": [
      "name\n",
      "\n"
     ]
    }
   ],
   "source": [
    "f=open('afsal.txt','r')\n",
    "r=f.readline()\n",
    "print(r)\n",
    "f.close()"
   ]
  },
  {
   "cell_type": "code",
   "execution_count": 43,
   "id": "dedb7d97",
   "metadata": {},
   "outputs": [],
   "source": [
    "f=open('afsal.txt','a')\n",
    "f.write('whts ur nme bro')\n",
    "f.close()"
   ]
  },
  {
   "cell_type": "code",
   "execution_count": 56,
   "id": "7ffb6adb",
   "metadata": {},
   "outputs": [
    {
     "name": "stdout",
     "output_type": "stream",
     "text": [
      "name\n",
      "\n"
     ]
    }
   ],
   "source": [
    "f=open('afsal.txt','r')\n",
    "r=f.readline()\n",
    "print(r)\n",
    "f.close()"
   ]
  },
  {
   "cell_type": "code",
   "execution_count": 58,
   "id": "8e971daf",
   "metadata": {},
   "outputs": [
    {
     "name": "stdout",
     "output_type": "stream",
     "text": [
      "Introduced in 1955 as the Coupe des Clubs Champions EuropÃ©ens (French for European Champion Clubs' Cup), and commonly known as the European Cup, it was initially a straight knockout tournament open only to the champions of Europe's domestic leagues, with its winner reckoned as the European club champion. The competition took on its current name in 1992, adding a round-robin group stage in 1991 and allowing multiple entrants from certain countries since the 1997â€“98 season.[1] It has since been expanded, and while most of Europe's national leagues can still only enter their champion, the strongest leagues now provide up to four teams.[2][3] Clubs that finish next-in-line in their national league, having not qualified for the Champions League, are eligible for the second-tier UEFA Europa League competition, and from 2021, teams not eligible for the UEFA Europa League qualify for the third-tier UEFA Europa Conference League.[4]\n"
     ]
    }
   ],
   "source": [
    "f=open('afsal1.txt','r')\n",
    "r=f.readline()\n",
    "print(r)\n",
    "f.close()"
   ]
  },
  {
   "cell_type": "code",
   "execution_count": 64,
   "id": "f5cdd7d0",
   "metadata": {},
   "outputs": [
    {
     "name": "stdout",
     "output_type": "stream",
     "text": [
      "enter somthing5\n",
      "0\n",
      "1\n",
      "1\n",
      "2\n",
      "3\n",
      "5\n",
      "8\n"
     ]
    }
   ],
   "source": [
    "#fibnociii \n",
    "\n",
    "def fib(g):\n",
    "    \n",
    "    a=0\n",
    "    b=1\n",
    "    c=0\n",
    "    print(a)\n",
    "    print(b)\n",
    "    while g>c:\n",
    "        sum=a+b\n",
    "        a=b\n",
    "        b=sum\n",
    "        print(sum)\n",
    "        c=c+1\n",
    "x=int(input('enter somthing'))\n",
    "fib(x)\n",
    "\n"
   ]
  },
  {
   "cell_type": "code",
   "execution_count": 65,
   "id": "f28df8fa",
   "metadata": {},
   "outputs": [],
   "source": [
    "f=open('helo.txt','w')\n",
    "f.write('name')\n",
    "f.write('adress')\n",
    "f.write('good morning afsal')\n",
    "f.write('have a nice day for u')\n",
    "f.close()\n",
    "\n"
   ]
  },
  {
   "cell_type": "code",
   "execution_count": 69,
   "id": "51eb58fb",
   "metadata": {},
   "outputs": [],
   "source": [
    "#remove\n",
    "import os\n",
    "os.remove('helo.txt')\n"
   ]
  },
  {
   "cell_type": "code",
   "execution_count": 70,
   "id": "14310076",
   "metadata": {},
   "outputs": [
    {
     "ename": "FileNotFoundError",
     "evalue": "[Errno 2] No such file or directory: 'helo.txt'",
     "output_type": "error",
     "traceback": [
      "\u001b[1;31m---------------------------------------------------------------------------\u001b[0m",
      "\u001b[1;31mFileNotFoundError\u001b[0m                         Traceback (most recent call last)",
      "Input \u001b[1;32mIn [70]\u001b[0m, in \u001b[0;36m<cell line: 1>\u001b[1;34m()\u001b[0m\n\u001b[1;32m----> 1\u001b[0m f\u001b[38;5;241m=\u001b[39m\u001b[38;5;28;43mopen\u001b[39;49m\u001b[43m(\u001b[49m\u001b[38;5;124;43m'\u001b[39;49m\u001b[38;5;124;43mhelo.txt\u001b[39;49m\u001b[38;5;124;43m'\u001b[39;49m\u001b[43m,\u001b[49m\u001b[38;5;124;43m'\u001b[39;49m\u001b[38;5;124;43mr\u001b[39;49m\u001b[38;5;124;43m'\u001b[39;49m\u001b[43m)\u001b[49m\n\u001b[0;32m      2\u001b[0m r\u001b[38;5;241m=\u001b[39mf\u001b[38;5;241m.\u001b[39mread()\n\u001b[0;32m      3\u001b[0m \u001b[38;5;28mprint\u001b[39m(r)\n",
      "\u001b[1;31mFileNotFoundError\u001b[0m: [Errno 2] No such file or directory: 'helo.txt'"
     ]
    }
   ],
   "source": [
    "f=open('helo.txt','r')\n",
    "r=f.read()\n",
    "print(r)\n",
    "f.close()"
   ]
  },
  {
   "cell_type": "code",
   "execution_count": 71,
   "id": "04e13152",
   "metadata": {},
   "outputs": [],
   "source": [
    "import os\n",
    "os.rmdir('aa')"
   ]
  },
  {
   "cell_type": "code",
   "execution_count": 76,
   "id": "67f2d86e",
   "metadata": {},
   "outputs": [
    {
     "ename": "FileExistsError",
     "evalue": "[Errno 17] File exists: 'newfile.txt'",
     "output_type": "error",
     "traceback": [
      "\u001b[1;31m---------------------------------------------------------------------------\u001b[0m",
      "\u001b[1;31mFileExistsError\u001b[0m                           Traceback (most recent call last)",
      "Input \u001b[1;32mIn [76]\u001b[0m, in \u001b[0;36m<cell line: 1>\u001b[1;34m()\u001b[0m\n\u001b[1;32m----> 1\u001b[0m x\u001b[38;5;241m=\u001b[39m\u001b[38;5;28;43mopen\u001b[39;49m\u001b[43m(\u001b[49m\u001b[38;5;124;43m'\u001b[39;49m\u001b[38;5;124;43mnewfile.txt\u001b[39;49m\u001b[38;5;124;43m'\u001b[39;49m\u001b[43m,\u001b[49m\u001b[38;5;124;43m'\u001b[39;49m\u001b[38;5;124;43mx\u001b[39;49m\u001b[38;5;124;43m'\u001b[39;49m\u001b[43m)\u001b[49m\n",
      "\u001b[1;31mFileExistsError\u001b[0m: [Errno 17] File exists: 'newfile.txt'"
     ]
    }
   ],
   "source": [
    "x=open('newfile.txt','x')#null file"
   ]
  },
  {
   "cell_type": "code",
   "execution_count": 77,
   "id": "8665a2ef",
   "metadata": {},
   "outputs": [
    {
     "name": "stdout",
     "output_type": "stream",
     "text": [
      "\n"
     ]
    }
   ],
   "source": [
    "f=open('newfile.txt','r')\n",
    "r=f.read()\n",
    "print(r)\n",
    "f.close()"
   ]
  },
  {
   "cell_type": "code",
   "execution_count": 87,
   "id": "5f13827b",
   "metadata": {},
   "outputs": [],
   "source": [
    "f=open('newfile.txt','w')\n",
    "f.write('name')\n",
    "f.write('adress')\n",
    "f.write('good morning afsal')\n",
    "f.write('have a nice day for u')\n",
    "f.close()\n"
   ]
  },
  {
   "cell_type": "code",
   "execution_count": 88,
   "id": "89539b5a",
   "metadata": {},
   "outputs": [
    {
     "name": "stdout",
     "output_type": "stream",
     "text": [
      "nameadressgood morning afsalhave a nice day for u\n"
     ]
    }
   ],
   "source": [
    "f=open('newfile.txt','r')\n",
    "r=f.read()\n",
    "print(r)\n",
    "f.close()"
   ]
  },
  {
   "cell_type": "code",
   "execution_count": 89,
   "id": "5be681b2",
   "metadata": {},
   "outputs": [],
   "source": [
    "f=open('newfile.txt','a')\n",
    "f.write('hello guysss')\n",
    "f.close()"
   ]
  },
  {
   "cell_type": "code",
   "execution_count": 90,
   "id": "66b61368",
   "metadata": {},
   "outputs": [
    {
     "name": "stdout",
     "output_type": "stream",
     "text": [
      "nameadressgood morning afsalhave a nice day for uhello guysss\n"
     ]
    }
   ],
   "source": [
    "f=open('newfile.txt','r')\n",
    "r=f.read()\n",
    "print(r)\n",
    "f.close()"
   ]
  },
  {
   "cell_type": "code",
   "execution_count": 91,
   "id": "3581dde3",
   "metadata": {},
   "outputs": [],
   "source": [
    "#replace the existing data in our file then adding aditional data in the file can be used in write function\n",
    "\n",
    "f=open('newfile.txt','w')\n",
    "f.write('hello guysss')\n",
    "f.close()"
   ]
  },
  {
   "cell_type": "code",
   "execution_count": 96,
   "id": "2d8a6714",
   "metadata": {},
   "outputs": [
    {
     "name": "stdout",
     "output_type": "stream",
     "text": [
      "hello guysss\n"
     ]
    }
   ],
   "source": [
    "f=open('newfile.txt','r')\n",
    "r=f.read()\n",
    "\n",
    "print(r)\n",
    "f.close()"
   ]
  },
  {
   "cell_type": "code",
   "execution_count": 1,
   "id": "5db83f08",
   "metadata": {},
   "outputs": [],
   "source": [
    "# import os\n",
    "# os.remove('newfile.txt')\n"
   ]
  },
  {
   "cell_type": "code",
   "execution_count": null,
   "id": "2d320f30",
   "metadata": {},
   "outputs": [],
   "source": []
  },
  {
   "cell_type": "code",
   "execution_count": null,
   "id": "87992e9e",
   "metadata": {},
   "outputs": [],
   "source": []
  }
 ],
 "metadata": {
  "kernelspec": {
   "display_name": "Python 3 (ipykernel)",
   "language": "python",
   "name": "python3"
  },
  "language_info": {
   "codemirror_mode": {
    "name": "ipython",
    "version": 3
   },
   "file_extension": ".py",
   "mimetype": "text/x-python",
   "name": "python",
   "nbconvert_exporter": "python",
   "pygments_lexer": "ipython3",
   "version": "3.9.12"
  }
 },
 "nbformat": 4,
 "nbformat_minor": 5
}
