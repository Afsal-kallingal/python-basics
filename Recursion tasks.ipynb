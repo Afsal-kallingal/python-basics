{
 "cells": [
  {
   "cell_type": "code",
   "execution_count": 1,
   "id": "316c1751",
   "metadata": {
    "scrolled": true
   },
   "outputs": [
    {
     "name": "stdout",
     "output_type": "stream",
     "text": [
      "enter a string :4\n",
      "wovels is 0\n",
      "None\n"
     ]
    }
   ],
   "source": [
    "#read a string and print the wovels\n",
    "\n",
    "def vow(a):\n",
    "    count=0\n",
    "    for i in a:\n",
    "        \n",
    "        if i=='a'or i=='e'or i=='i'or i=='o'or i=='u':\n",
    "            print(i)\n",
    "            count=count+1\n",
    "            \n",
    "    print('wovels is',count)     \n",
    "            \n",
    "        \n",
    "x=str(input('enter a string :'))    \n",
    "print(vow(x)) \n",
    "\n",
    "    \n",
    "    \n"
   ]
  },
  {
   "cell_type": "code",
   "execution_count": 2,
   "id": "869c312c",
   "metadata": {},
   "outputs": [
    {
     "name": "stdout",
     "output_type": "stream",
     "text": [
      "enter first name:4\n",
      "enter last name:4\n",
      "4 4\n"
     ]
    }
   ],
   "source": [
    "#Print first and last name in reverse order with a space between them\n",
    "a=str(input('enter first name:'))\n",
    "b=str(input('enter last name:'))\n",
    "print(b[::-1]+' '+a[::-1])\n",
    "\n",
    "\n"
   ]
  },
  {
   "cell_type": "code",
   "execution_count": 3,
   "id": "e3d2271a",
   "metadata": {},
   "outputs": [
    {
     "name": "stdout",
     "output_type": "stream",
     "text": [
      "enter first name:4\n",
      "enter last name:4\n"
     ]
    }
   ],
   "source": [
    "a=str(input('enter first name:'))\n",
    "b=str(input('enter last name:'))\n"
   ]
  },
  {
   "cell_type": "code",
   "execution_count": 4,
   "id": "b1c53841",
   "metadata": {},
   "outputs": [
    {
     "name": "stdout",
     "output_type": "stream",
     "text": [
      "enter somthing  :4\n",
      "['4']\n",
      "('4',)\n"
     ]
    }
   ],
   "source": [
    "#Generate a list and tuple with comma-separated numbers\n",
    "ff=input('enter somthing  :')\n",
    "ss=ff.split(\",\")\n",
    "t=tuple(ss)\n",
    "print(ss)\n",
    "print(t)\n"
   ]
  },
  {
   "cell_type": "code",
   "execution_count": 5,
   "id": "6bfd8467",
   "metadata": {},
   "outputs": [
    {
     "name": "stdout",
     "output_type": "stream",
     "text": [
      "enter :\n"
     ]
    },
    {
     "ename": "ValueError",
     "evalue": "invalid literal for int() with base 10: ''",
     "output_type": "error",
     "traceback": [
      "\u001b[1;31m---------------------------------------------------------------------------\u001b[0m",
      "\u001b[1;31mValueError\u001b[0m                                Traceback (most recent call last)",
      "Input \u001b[1;32mIn [5]\u001b[0m, in \u001b[0;36m<cell line: 3>\u001b[1;34m()\u001b[0m\n\u001b[0;32m      1\u001b[0m \u001b[38;5;66;03m#Calculate the sum of three given numbers, if the values are equal then return thrice of their sum\u001b[39;00m\n\u001b[1;32m----> 3\u001b[0m a\u001b[38;5;241m=\u001b[39m\u001b[38;5;28;43mint\u001b[39;49m\u001b[43m(\u001b[49m\u001b[38;5;28;43minput\u001b[39;49m\u001b[43m(\u001b[49m\u001b[38;5;124;43m'\u001b[39;49m\u001b[38;5;124;43menter :\u001b[39;49m\u001b[38;5;124;43m'\u001b[39;49m\u001b[43m)\u001b[49m\u001b[43m)\u001b[49m\n\u001b[0;32m      4\u001b[0m b\u001b[38;5;241m=\u001b[39m\u001b[38;5;28mint\u001b[39m(\u001b[38;5;28minput\u001b[39m(\u001b[38;5;124m'\u001b[39m\u001b[38;5;124menter :\u001b[39m\u001b[38;5;124m'\u001b[39m))\n\u001b[0;32m      5\u001b[0m c\u001b[38;5;241m=\u001b[39m\u001b[38;5;28mint\u001b[39m(\u001b[38;5;28minput\u001b[39m(\u001b[38;5;124m'\u001b[39m\u001b[38;5;124menter :\u001b[39m\u001b[38;5;124m'\u001b[39m))\n",
      "\u001b[1;31mValueError\u001b[0m: invalid literal for int() with base 10: ''"
     ]
    }
   ],
   "source": [
    "#Calculate the sum of three given numbers, if the values are equal then return thrice of their sum\n",
    "\n",
    "a=int(input('enter :'))\n",
    "b=int(input('enter :'))\n",
    "c=int(input('enter :'))\n",
    "if a==b==c:\n",
    "    d=a+b+c\n",
    "    f=d*3\n",
    "    print('the elements are same the result is trice of thier sum:',f)\n",
    "else:\n",
    "    m=a+b+c\n",
    "    print('the sum of the numbers is :',m)"
   ]
  },
  {
   "cell_type": "code",
   "execution_count": null,
   "id": "fffc88f6",
   "metadata": {},
   "outputs": [],
   "source": [
    "#Get a single string from two given strings, separated by a space and swap the first two characters of each string\n",
    "a=(input('enter a string:'))\n",
    "b=a.split(\" \")\n",
    "c=b[1]\n",
    "d=b[0]\n",
    "e=str(c)\n",
    "\n",
    "f=str(d)\n",
    "e[1]=f[1]\n",
    "print(e)\n",
    "print(f)\n",
    "\n"
   ]
  },
  {
   "cell_type": "code",
   "execution_count": null,
   "id": "eb67b0f8",
   "metadata": {},
   "outputs": [],
   "source": [
    "#Convert a given string into a list of words\n",
    "a=str(input('enter somthng:'))\n",
    "b=list(a)\n",
    "\n",
    "print(b)"
   ]
  },
  {
   "cell_type": "code",
   "execution_count": null,
   "id": "400db8dd",
   "metadata": {},
   "outputs": [],
   "source": [
    "#Write a Python function to multiply all the numbers in a list.\n",
    "def kk():\n",
    "    \n",
    "    mul = 1\n",
    "    for i in range(5):\n",
    "        mul = mul*nums[i]\n",
    "    print('result',mul)   \n",
    "nums = []\n",
    "print(\"Enter 5 Numbers: \")\n",
    "for i in range(5):\n",
    "    \n",
    "    nums.append(int(input()))\n",
    "print('the multiple result is:',kk())\n"
   ]
  },
  {
   "cell_type": "markdown",
   "id": "15c50d4f",
   "metadata": {},
   "source": [
    "#### "
   ]
  },
  {
   "cell_type": "code",
   "execution_count": null,
   "id": "4a761804",
   "metadata": {},
   "outputs": [],
   "source": []
  },
  {
   "cell_type": "code",
   "execution_count": null,
   "id": "a97a3877",
   "metadata": {},
   "outputs": [],
   "source": []
  }
 ],
 "metadata": {
  "kernelspec": {
   "display_name": "Python 3 (ipykernel)",
   "language": "python",
   "name": "python3"
  },
  "language_info": {
   "codemirror_mode": {
    "name": "ipython",
    "version": 3
   },
   "file_extension": ".py",
   "mimetype": "text/x-python",
   "name": "python",
   "nbconvert_exporter": "python",
   "pygments_lexer": "ipython3",
   "version": "3.9.12"
  }
 },
 "nbformat": 4,
 "nbformat_minor": 5
}
