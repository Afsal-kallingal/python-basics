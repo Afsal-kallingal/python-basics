{
 "cells": [
  {
   "cell_type": "code",
   "execution_count": null,
   "id": "341fe554",
   "metadata": {},
   "outputs": [],
   "source": [
    "#Python program to demonstrate NameError\n",
    "\n",
    "try:\n",
    "    if x<10:\n",
    "        print(x)\n",
    "except:\n",
    "    print('name error is defined')\n",
    "    \n"
   ]
  },
  {
   "cell_type": "code",
   "execution_count": null,
   "id": "1ed9afe9",
   "metadata": {},
   "outputs": [],
   "source": [
    "#Python program to demonstrate AttributeError\n",
    "x=20\n",
    "x.lower()"
   ]
  },
  {
   "cell_type": "code",
   "execution_count": null,
   "id": "71f10071",
   "metadata": {},
   "outputs": [],
   "source": [
    "#Python program to demonstrate KeyError\n",
    "\n",
    "ages = {'Jim': 30, 'Pam': 28, 'Kevin': 33}\n",
    "ages['Jim']=40\n",
    "print(ages)\n",
    "print(ages['h'])\n"
   ]
  },
  {
   "cell_type": "code",
   "execution_count": null,
   "id": "5f53c579",
   "metadata": {},
   "outputs": [],
   "source": [
    "#Python program to demonstrate IndexError\n",
    "a=(1,2,3,4,5,6,7,9)\n",
    "a[10]\n"
   ]
  },
  {
   "cell_type": "code",
   "execution_count": 7,
   "id": "8851d368",
   "metadata": {},
   "outputs": [
    {
     "name": "stdout",
     "output_type": "stream",
     "text": [
      "enter your amound of money:1000\n",
      "enter your intrest rate :20\n",
      "Please enter valid interest rate\n"
     ]
    }
   ],
   "source": [
    "#Create a function that will throw an exception if interest rate is greater than 100.\n",
    "\n",
    "a=int(input('enter your amound of money:'))\n",
    "b=int(input('enter your intrest rate :'))\n",
    "c=(a*(b/100))\n",
    "try:\n",
    "   \n",
    "    if (c<=100):\n",
    "        \n",
    "        print('your intrest rate is less than 100:',c)\n",
    "    else:\n",
    "        raise ValueError(\"Please enter valid interest rate\")\n",
    "        \n",
    "        \n",
    "except ValueError as VE:\n",
    "    print(VE)\n",
    "   \n",
    "\n"
   ]
  },
  {
   "cell_type": "code",
   "execution_count": 39,
   "id": "39c6e979",
   "metadata": {},
   "outputs": [
    {
     "name": "stdout",
     "output_type": "stream",
     "text": [
      "enter range:5\n",
      "    * \n",
      "   * * \n",
      "  * * * \n",
      " * * * * \n",
      "* * * * * \n"
     ]
    }
   ],
   "source": [
    "#diamond shape print pattern\n",
    "\n",
    "num=int(input('enter range:'))\n",
    "for i in range(1,num+1):\n",
    "    print(\" \"*(num-i)+\"* \"*i)\n"
   ]
  },
  {
   "cell_type": "code",
   "execution_count": 12,
   "id": "5bfe916c",
   "metadata": {},
   "outputs": [],
   "source": []
  },
  {
   "cell_type": "code",
   "execution_count": 1,
   "id": "9d29c741",
   "metadata": {},
   "outputs": [
    {
     "name": "stdout",
     "output_type": "stream",
     "text": [
      "Enter diamond's height: 5\n",
      "                python\n",
      "\n",
      "             pythonpython\n",
      "\n",
      "          pythonpythonpython\n",
      "\n",
      "       pythonpythonpythonpython\n",
      "\n",
      "    pythonpythonpythonpythonpython\n",
      "\n",
      "       pythonpythonpythonpython\n",
      "\n",
      "          pythonpythonpython\n",
      "\n",
      "             pythonpython\n",
      "\n",
      "                python\n",
      "\n"
     ]
    }
   ],
   "source": [
    "ss=\"python\"\n",
    "h = eval(input(\"Enter diamond's height: \"))\n",
    "for x in range(h):\n",
    "    print(\"   \"  * (h - x), ss * (x + 1))\n",
    "    print(\"\\r\")\n",
    "for x in range(h - 2, -1, -1):\n",
    "    print(\"   \" * (h - x), ss * (x + 1))\n",
    "    print(\"\\r\")\n"
   ]
  },
  {
   "cell_type": "code",
   "execution_count": 17,
   "id": "a986904c",
   "metadata": {},
   "outputs": [
    {
     "name": "stdout",
     "output_type": "stream",
     "text": [
      "   python\n",
      "   python\n",
      "   python\n",
      "   python\n",
      "   python\n",
      "   python\n",
      "pytho\n",
      "pyth\n",
      "pyt\n",
      "py\n",
      "p\n",
      "\n"
     ]
    }
   ],
   "source": [
    "s=\"python\"\n",
    "l=0\n",
    "k=6\n",
    "for i in s:\n",
    "        l=l+1\n",
    "for i in s:\n",
    "            \n",
    "        print(\"  \"  * (k-m),s[0:l])\n",
    "for i in s:\n",
    "    l=l-1\n",
    "    print(s[0:l])"
   ]
  },
  {
   "cell_type": "code",
   "execution_count": 15,
   "id": "1791993b",
   "metadata": {},
   "outputs": [
    {
     "name": "stdout",
     "output_type": "stream",
     "text": [
      "false\n"
     ]
    }
   ],
   "source": [
    "def rec(x1,x2,y1,y2):\n",
    "    x3=x1*x2\n",
    "    x4=y1*y2\n",
    "    \n",
    "    if x3>x4 and x1>y1 and x2>y2:\n",
    "        print('true')\n",
    "    else:\n",
    "        print('false')\n",
    "        \n",
    "        \n",
    "        \n",
    "rec(8,2,4,6)        "
   ]
  },
  {
   "cell_type": "raw",
   "id": "eecfdb3e",
   "metadata": {},
   "source": [
    "strng=input("
   ]
  }
 ],
 "metadata": {
  "kernelspec": {
   "display_name": "Python 3 (ipykernel)",
   "language": "python",
   "name": "python3"
  },
  "language_info": {
   "codemirror_mode": {
    "name": "ipython",
    "version": 3
   },
   "file_extension": ".py",
   "mimetype": "text/x-python",
   "name": "python",
   "nbconvert_exporter": "python",
   "pygments_lexer": "ipython3",
   "version": "3.9.12"
  }
 },
 "nbformat": 4,
 "nbformat_minor": 5
}
