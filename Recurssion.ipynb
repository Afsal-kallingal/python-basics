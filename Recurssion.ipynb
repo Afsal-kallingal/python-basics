{
 "cells": [
  {
   "cell_type": "markdown",
   "id": "dfd2c912",
   "metadata": {},
   "source": [
    "# Recurssion"
   ]
  },
  {
   "cell_type": "code",
   "execution_count": 1,
   "id": "2426265c",
   "metadata": {},
   "outputs": [
    {
     "name": "stdout",
     "output_type": "stream",
     "text": [
      "enter a value :4\n"
     ]
    },
    {
     "data": {
      "text/plain": [
       "24"
      ]
     },
     "execution_count": 1,
     "metadata": {},
     "output_type": "execute_result"
    }
   ],
   "source": [
    "#find the factorial using recursion\n",
    "\n",
    "def fact(n):\n",
    "    if (n==1):\n",
    "        return n\n",
    "    else:\n",
    "        return n*fact(n-1)\n",
    "x=int(input('enter a value :')) \n",
    "fact(x)\n",
    "\n",
    "        "
   ]
  },
  {
   "cell_type": "code",
   "execution_count": 2,
   "id": "bbad3874",
   "metadata": {},
   "outputs": [
    {
     "name": "stdout",
     "output_type": "stream",
     "text": [
      "enter a value :4\n"
     ]
    },
    {
     "data": {
      "text/plain": [
       "10"
      ]
     },
     "execution_count": 2,
     "metadata": {},
     "output_type": "execute_result"
    }
   ],
   "source": [
    "#find the sum of first 10 natural numbers\n",
    "\n",
    "\n",
    "def su(n):\n",
    "    if (n==1):\n",
    "        return n\n",
    "    else:\n",
    "        return n+su(n-1)\n",
    "x=int(input('enter a value :')) \n",
    "su(x)\n",
    "\n"
   ]
  },
  {
   "cell_type": "code",
   "execution_count": 3,
   "id": "40693086",
   "metadata": {},
   "outputs": [
    {
     "name": "stdout",
     "output_type": "stream",
     "text": [
      "enter a value :4\n",
      "sum= 6\n"
     ]
    }
   ],
   "source": [
    "#sum of the even numbers\n",
    "def su(n):\n",
    "    if (n==0):\n",
    "        return n\n",
    "    else:\n",
    "        return n+su(n-2)\n",
    "x=int(input('enter a value :')) \n",
    "print('sum=',su(x))\n",
    "\n",
    "\n"
   ]
  },
  {
   "cell_type": "code",
   "execution_count": null,
   "id": "746a7a10",
   "metadata": {},
   "outputs": [
    {
     "name": "stdout",
     "output_type": "stream",
     "text": [
      "enter a value :4\n"
     ]
    }
   ],
   "source": [
    "def su(n):\n",
    "    if (n==1)and(n%2==1):\n",
    "        return n\n",
    "    else:\n",
    "        return n+su(n-2)\n",
    "x=int(input('enter a value :')) \n",
    "if (x%2)==0:\n",
    "    \n",
    "    print('sum=',su(x))\n",
    "else:\n",
    "    print('not a even number')\n",
    "\n"
   ]
  },
  {
   "cell_type": "code",
   "execution_count": null,
   "id": "a8598877",
   "metadata": {},
   "outputs": [],
   "source": [
    "#read a string and print the wovels\n",
    "\n",
    "def vow(a):\n",
    "    for i in a:\n",
    "        if i=='a'or i=='e'or i=='i'or i=='o'or i=='u':\n",
    "            print(i)\n",
    "            \n",
    "            \n",
    "        \n",
    "x=str(input('enter a string'))    \n",
    "print(vow(x))    \n",
    "    \n",
    "    \n"
   ]
  },
  {
   "cell_type": "code",
   "execution_count": null,
   "id": "8655dffc",
   "metadata": {},
   "outputs": [],
   "source": []
  },
  {
   "cell_type": "code",
   "execution_count": null,
   "id": "71793ca4",
   "metadata": {},
   "outputs": [],
   "source": []
  },
  {
   "cell_type": "code",
   "execution_count": null,
   "id": "9ae04b35",
   "metadata": {},
   "outputs": [],
   "source": []
  },
  {
   "cell_type": "code",
   "execution_count": null,
   "id": "a19969d5",
   "metadata": {},
   "outputs": [],
   "source": []
  }
 ],
 "metadata": {
  "kernelspec": {
   "display_name": "Python 3 (ipykernel)",
   "language": "python",
   "name": "python3"
  },
  "language_info": {
   "codemirror_mode": {
    "name": "ipython",
    "version": 3
   },
   "file_extension": ".py",
   "mimetype": "text/x-python",
   "name": "python",
   "nbconvert_exporter": "python",
   "pygments_lexer": "ipython3",
   "version": "3.9.12"
  }
 },
 "nbformat": 4,
 "nbformat_minor": 5
}
