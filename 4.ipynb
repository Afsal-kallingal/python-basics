{
 "cells": [
  {
   "cell_type": "code",
   "execution_count": 1,
   "id": "62665181",
   "metadata": {},
   "outputs": [
    {
     "name": "stdout",
     "output_type": "stream",
     "text": [
      "Enter 5 Numbers: \n",
      "4\n",
      "4\n",
      "4\n",
      "4\n",
      "44\n",
      "result 11264\n",
      "the multiple result is: None\n"
     ]
    }
   ],
   "source": [
    "#Write a Python function to multiply all the numbers in a list.\n",
    "def kk():\n",
    "    \n",
    "    mul = 1\n",
    "    for i in range(5):\n",
    "        mul = mul*nums[i]\n",
    "    print('result',mul)   \n",
    "nums = []\n",
    "print(\"Enter 5 Numbers: \")\n",
    "for i in range(5):\n",
    "    \n",
    "    nums.append(int(input()))\n",
    "print('the multiple result is:',kk())"
   ]
  },
  {
   "cell_type": "code",
   "execution_count": 2,
   "id": "bf7b70ae",
   "metadata": {},
   "outputs": [
    {
     "name": "stdout",
     "output_type": "stream",
     "text": [
      "common elements is: {2, 3, 4, 6, 7, 8}\n"
     ]
    }
   ],
   "source": [
    "def common(a,b):\n",
    "    seta=set(a)\n",
    "    setb=set(b)\n",
    "    if (seta & setb):\n",
    "        print('common elements is:',(seta & setb))\n",
    "    else:\n",
    "        print('no elements is common:')\n",
    "\n",
    "        \n",
    "        \n",
    "a=[1,2,3,4,6,7,8,9]\n",
    "b=[2,3,4,6,7,8,6,0]\n",
    "common(a,b)"
   ]
  },
  {
   "cell_type": "code",
   "execution_count": 8,
   "id": "534d6304",
   "metadata": {},
   "outputs": [
    {
     "name": "stdout",
     "output_type": "stream",
     "text": [
      "{'red', 'blue'}\n"
     ]
    }
   ],
   "source": [
    "#Write a Python program to print out a set containing all the colors from color_list_1 which are not present in color_list_2.\n",
    "\n",
    "def xx(a,b):\n",
    "    s=set(a)\n",
    "    ss=set(b)\n",
    "    if (s & ss):\n",
    "        print(s & ss)\n",
    "    else:\n",
    "        print('no one is common')\n",
    "a=['blue','red','green','dark']\n",
    "b=['black','yellow','red','blue']\n",
    "xx(a,b)\n",
    "\n"
   ]
  },
  {
   "cell_type": "markdown",
   "id": "86c854cd",
   "metadata": {},
   "source": [
    "# programs using recursion"
   ]
  },
  {
   "cell_type": "code",
   "execution_count": 14,
   "id": "e5a8d2c1",
   "metadata": {},
   "outputs": [
    {
     "name": "stdout",
     "output_type": "stream",
     "text": [
      "enter a limit:10\n",
      "sum= 55\n"
     ]
    }
   ],
   "source": [
    "#Program to Find Sum of Natural Numbers\n",
    "def nnn(n):\n",
    "    \n",
    "    if (n==0):\n",
    "        return n\n",
    "    else:\n",
    "        return n+nnn(n-1)\n",
    "x=int(input('enter a limit:')) \n",
    "print('sum=',nnn(x))\n",
    "\n",
    "\n",
    "\n"
   ]
  },
  {
   "cell_type": "code",
   "execution_count": 15,
   "id": "647ee90e",
   "metadata": {},
   "outputs": [],
   "source": [
    "#Program to print the fibonacci series upto n_terms\n",
    "def fib(n):\n",
    "    if n<1:\n",
    "        return n\n",
    "    else:\n",
    "        return(fib(n-1)+fib(n-2))\n",
    "\n",
    "    \n",
    "n=int(input('enter the limit of the number:'))\n",
    "if n<=0:\n",
    "    print('enter a positive intiger')\n",
    "else:\n",
    "    \n"
   ]
  },
  {
   "cell_type": "code",
   "execution_count": null,
   "id": "5e943d52",
   "metadata": {},
   "outputs": [],
   "source": []
  }
 ],
 "metadata": {
  "kernelspec": {
   "display_name": "Python 3 (ipykernel)",
   "language": "python",
   "name": "python3"
  },
  "language_info": {
   "codemirror_mode": {
    "name": "ipython",
    "version": 3
   },
   "file_extension": ".py",
   "mimetype": "text/x-python",
   "name": "python",
   "nbconvert_exporter": "python",
   "pygments_lexer": "ipython3",
   "version": "3.9.12"
  }
 },
 "nbformat": 4,
 "nbformat_minor": 5
}
