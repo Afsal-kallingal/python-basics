{
 "cells": [
  {
   "cell_type": "markdown",
   "id": "56224edd",
   "metadata": {},
   "source": [
    "# if statement"
   ]
  },
  {
   "cell_type": "code",
   "execution_count": 1,
   "id": "29281e14",
   "metadata": {},
   "outputs": [],
   "source": [
    "a=10\n",
    "b=20\n"
   ]
  },
  {
   "cell_type": "code",
   "execution_count": 2,
   "id": "7b5c3ab7",
   "metadata": {},
   "outputs": [
    {
     "name": "stdout",
     "output_type": "stream",
     "text": [
      "b is grater than a\n"
     ]
    }
   ],
   "source": [
    "if a<b:\n",
    "    print('b is grater than a')\n",
    "else:\n",
    "    print('a is grater than b')\n",
    "    "
   ]
  },
  {
   "cell_type": "code",
   "execution_count": null,
   "id": "244f7d24",
   "metadata": {},
   "outputs": [],
   "source": []
  },
  {
   "cell_type": "code",
   "execution_count": 4,
   "id": "20b30a73",
   "metadata": {},
   "outputs": [
    {
     "name": "stdout",
     "output_type": "stream",
     "text": [
      "enter the number5\n",
      "this is a odd number\n"
     ]
    }
   ],
   "source": [
    "z=int (input('enter the number'))\n",
    "if (z%2)==0:\n",
    "    print('this is a even number')\n",
    "else:\n",
    "     print('this is a odd number')\n"
   ]
  },
  {
   "cell_type": "code",
   "execution_count": 5,
   "id": "c5fccd46",
   "metadata": {},
   "outputs": [
    {
     "name": "stdout",
     "output_type": "stream",
     "text": [
      "enter ur total bill amound5\n",
      "u have no discound\n"
     ]
    }
   ],
   "source": [
    "k=int (input('enter ur total bill amound'))\n",
    "if k>=1000:\n",
    "    x=10*2\n",
    "    s=k-x\n",
    "    print('ur discnt amt is',s)\n",
    "else:\n",
    "    print('u have no discound')\n",
    "    "
   ]
  },
  {
   "cell_type": "code",
   "execution_count": 6,
   "id": "1f8c2c09",
   "metadata": {},
   "outputs": [
    {
     "name": "stdout",
     "output_type": "stream",
     "text": [
      "enter the number5\n",
      "the number is a multiple of 5\n"
     ]
    }
   ],
   "source": [
    "z=int (input('enter the number'))\n",
    "if z%5==0:\n",
    "    print('the number is a multiple of 5')\n",
    "else:\n",
    "    print('not multiple of 5')\n",
    "    "
   ]
  },
  {
   "cell_type": "code",
   "execution_count": 7,
   "id": "fa12bc98",
   "metadata": {},
   "outputs": [
    {
     "name": "stdout",
     "output_type": "stream",
     "text": [
      "b is a gratest number\n"
     ]
    }
   ],
   "source": [
    "x=10\n",
    "a=20\n",
    "b=30\n",
    "if a>b:\n",
    "    if a>c:\n",
    "        print('a is a gratest number')\n",
    "    else:\n",
    "         print('c is a gratest number')\n",
    "else:\n",
    "     print('b is a gratest number')\n",
    "        \n",
    "        \n",
    "    "
   ]
  },
  {
   "cell_type": "code",
   "execution_count": 8,
   "id": "1c1d0aff",
   "metadata": {},
   "outputs": [
    {
     "name": "stdout",
     "output_type": "stream",
     "text": [
      "enter the 1st number5\n",
      "enter the 2st number5\n",
      "enter the 3st number5\n",
      "c is a gratest number\n"
     ]
    }
   ],
   "source": [
    "a=int (input('enter the 1st number'))\n",
    "b=int (input('enter the 2st number'))\n",
    "c=int (input('enter the 3st number'))\n",
    "if a>b:\n",
    "    if a>c:\n",
    "        print('a is a gratest number')\n",
    "    else:\n",
    "         print('c is a gratest numr')\n",
    "else:\n",
    "    if b>c:\n",
    "        print('b is a gratest number')\n",
    "    else:\n",
    "        print('c is a gratest number')\n",
    "        \n",
    "        "
   ]
  },
  {
   "cell_type": "markdown",
   "id": "0c15e554",
   "metadata": {},
   "source": [
    "\n",
    "y=20\n",
    "z=x+y\n",
    " "
   ]
  },
  {
   "cell_type": "code",
   "execution_count": 9,
   "id": "bf1c51bf",
   "metadata": {},
   "outputs": [
    {
     "data": {
      "text/plain": [
       "5"
      ]
     },
     "execution_count": 9,
     "metadata": {},
     "output_type": "execute_result"
    }
   ],
   "source": [
    "z"
   ]
  },
  {
   "cell_type": "code",
   "execution_count": 10,
   "id": "76d16079",
   "metadata": {},
   "outputs": [
    {
     "name": "stdout",
     "output_type": "stream",
     "text": [
      "the sum is 5\n"
     ]
    }
   ],
   "source": [
    "print('the sum is',z)"
   ]
  },
  {
   "cell_type": "code",
   "execution_count": 12,
   "id": "6b3a1c55",
   "metadata": {},
   "outputs": [
    {
     "name": "stdout",
     "output_type": "stream",
     "text": [
      "enter the 1st number5\n",
      "enter the 2st number5\n"
     ]
    }
   ],
   "source": [
    "x=int (input('enter the 1st number'))\n",
    "y=int (input('enter the 2st number'))"
   ]
  },
  {
   "cell_type": "code",
   "execution_count": 13,
   "id": "12a8f0a0",
   "metadata": {},
   "outputs": [],
   "source": [
    "z=x+y"
   ]
  },
  {
   "cell_type": "code",
   "execution_count": 14,
   "id": "3d09785f",
   "metadata": {},
   "outputs": [
    {
     "data": {
      "text/plain": [
       "10"
      ]
     },
     "execution_count": 14,
     "metadata": {},
     "output_type": "execute_result"
    }
   ],
   "source": [
    "z"
   ]
  },
  {
   "cell_type": "code",
   "execution_count": 17,
   "id": "fdd07535",
   "metadata": {},
   "outputs": [
    {
     "name": "stdout",
     "output_type": "stream",
     "text": [
      "enter the 1st number6\n",
      "enter the 2st number77\n",
      "the sum is 83\n"
     ]
    }
   ],
   "source": [
    "x=int (input('enter the 1st number'))\n",
    "y=int (input('enter the 2st number'))\n",
    "z=x+y\n",
    "print('the sum is',z)"
   ]
  },
  {
   "cell_type": "code",
   "execution_count": 18,
   "id": "a403921b",
   "metadata": {},
   "outputs": [
    {
     "name": "stdout",
     "output_type": "stream",
     "text": [
      "enter the 1st mark777\n",
      "enter the 2st mark 88\n",
      "enter the 3st mark88\n",
      "enter the 4st mark88\n",
      "enter the 5st mark88\n"
     ]
    }
   ],
   "source": [
    "a=int (input('enter the 1st mark'))\n",
    "b=int (input('enter the 2st mark '))\n",
    "c=int (input('enter the 3st mark'))\n",
    "d=int (input('enter the 4st mark'))\n",
    "e=int (input('enter the 5st mark'))\n",
    "z=a+b+c+d+e/5\n"
   ]
  },
  {
   "cell_type": "code",
   "execution_count": 19,
   "id": "bada8f74",
   "metadata": {},
   "outputs": [
    {
     "data": {
      "text/plain": [
       "6"
      ]
     },
     "execution_count": 19,
     "metadata": {},
     "output_type": "execute_result"
    }
   ],
   "source": [
    "x\n"
   ]
  },
  {
   "cell_type": "code",
   "execution_count": 20,
   "id": "d8e232fb",
   "metadata": {},
   "outputs": [
    {
     "name": "stdout",
     "output_type": "stream",
     "text": [
      "enter the 1st mark 44\n",
      "enter the 2st mark 44\n",
      "enter the 3st mark 44\n",
      "enter the 4st mark 44\n",
      "enter the 5st mark 44\n",
      "your average score is: 44.0\n",
      "your grade is d+\n"
     ]
    }
   ],
   "source": [
    "a=int (input('enter the 1st mark '))\n",
    "b=int (input('enter the 2st mark '))\n",
    "c=int (input('enter the 3st mark '))\n",
    "d=int (input('enter the 4st mark '))\n",
    "e=int (input('enter the 5st mark '))\n",
    "z=(a+b+c+d+e)/5\n",
    "print('your average score is:',z)\n",
    "if z>=90:\n",
    "    print('your grade is a+')\n",
    "elif z>=80 and z<90:\n",
    "    \n",
    "      print('your grade is b+')\n",
    "elif z>=60 and z<80:\n",
    "      print('your grade is c+')\n",
    "else:\n",
    "      print('your grade is d+')\n",
    "    "
   ]
  },
  {
   "cell_type": "code",
   "execution_count": 21,
   "id": "cc9e77c8",
   "metadata": {},
   "outputs": [],
   "source": [
    "#for loop"
   ]
  },
  {
   "cell_type": "markdown",
   "id": "f225b89f",
   "metadata": {},
   "source": [
    "#### "
   ]
  },
  {
   "cell_type": "code",
   "execution_count": 22,
   "id": "91e1da7e",
   "metadata": {},
   "outputs": [
    {
     "name": "stdout",
     "output_type": "stream",
     "text": [
      "0\n",
      "1\n",
      "2\n",
      "3\n",
      "4\n",
      "5\n",
      "6\n",
      "7\n",
      "8\n",
      "9\n"
     ]
    }
   ],
   "source": [
    "for i in range (0,10):\n",
    "    print(i)"
   ]
  },
  {
   "cell_type": "code",
   "execution_count": 23,
   "id": "9e403ff5",
   "metadata": {},
   "outputs": [
    {
     "name": "stdout",
     "output_type": "stream",
     "text": [
      "-10\n",
      "-9\n",
      "-8\n",
      "-7\n",
      "-6\n",
      "-5\n",
      "-4\n",
      "-3\n",
      "-2\n",
      "-1\n",
      "0\n",
      "1\n",
      "2\n",
      "3\n",
      "4\n",
      "5\n",
      "6\n",
      "7\n",
      "8\n",
      "9\n",
      "10\n",
      "11\n",
      "12\n",
      "13\n",
      "14\n",
      "15\n",
      "16\n",
      "17\n",
      "18\n",
      "19\n"
     ]
    }
   ],
   "source": [
    "for i in range (-10,20):\n",
    "    print(i)\n",
    "            "
   ]
  },
  {
   "cell_type": "code",
   "execution_count": 24,
   "id": "6d3f3ccb",
   "metadata": {},
   "outputs": [
    {
     "name": "stdout",
     "output_type": "stream",
     "text": [
      "6\n",
      "7\n",
      "8\n",
      "9\n",
      "10\n",
      "11\n",
      "12\n",
      "13\n",
      "14\n",
      "15\n",
      "16\n",
      "17\n",
      "18\n",
      "19\n",
      "20\n",
      "21\n",
      "22\n",
      "23\n",
      "24\n",
      "25\n",
      "26\n",
      "27\n",
      "28\n",
      "29\n",
      "30\n",
      "31\n",
      "32\n",
      "33\n",
      "34\n",
      "35\n",
      "36\n",
      "37\n",
      "38\n",
      "39\n",
      "40\n",
      "41\n",
      "42\n",
      "43\n",
      "44\n",
      "45\n",
      "46\n",
      "47\n",
      "48\n",
      "49\n",
      "50\n",
      "51\n",
      "52\n",
      "53\n",
      "54\n",
      "55\n",
      "56\n",
      "57\n",
      "58\n",
      "59\n",
      "60\n",
      "61\n",
      "62\n",
      "63\n",
      "64\n",
      "65\n",
      "66\n",
      "67\n",
      "68\n",
      "69\n",
      "70\n",
      "71\n",
      "72\n",
      "73\n",
      "74\n",
      "75\n",
      "76\n",
      "77\n",
      "78\n",
      "79\n",
      "80\n",
      "81\n",
      "82\n",
      "83\n",
      "84\n",
      "85\n",
      "86\n",
      "87\n",
      "88\n",
      "89\n",
      "90\n",
      "91\n",
      "92\n",
      "93\n",
      "94\n",
      "95\n",
      "96\n",
      "97\n",
      "98\n",
      "99\n"
     ]
    }
   ],
   "source": [
    "for j in range (6,100):\n",
    "    print(j)"
   ]
  },
  {
   "cell_type": "code",
   "execution_count": 25,
   "id": "3ad24f84",
   "metadata": {},
   "outputs": [
    {
     "name": "stdout",
     "output_type": "stream",
     "text": [
      "0\n",
      "2\n",
      "4\n",
      "6\n",
      "8\n"
     ]
    }
   ],
   "source": [
    "for i in range (0,10,2):\n",
    "    print(i)"
   ]
  },
  {
   "cell_type": "code",
   "execution_count": 26,
   "id": "c9645b66",
   "metadata": {},
   "outputs": [
    {
     "name": "stdout",
     "output_type": "stream",
     "text": [
      "0\n",
      "10\n",
      "20\n",
      "30\n",
      "40\n",
      "50\n",
      "60\n",
      "70\n",
      "80\n",
      "90\n"
     ]
    }
   ],
   "source": [
    "for i in range (0,100,10):\n",
    "    print(i)"
   ]
  },
  {
   "cell_type": "code",
   "execution_count": 27,
   "id": "1e92747b",
   "metadata": {},
   "outputs": [
    {
     "name": "stdout",
     "output_type": "stream",
     "text": [
      "0\n",
      "3\n",
      "6\n",
      "9\n"
     ]
    }
   ],
   "source": [
    "for i in range (0,10,3):\n",
    "    print(i)"
   ]
  },
  {
   "cell_type": "code",
   "execution_count": 28,
   "id": "9ed7f803",
   "metadata": {},
   "outputs": [
    {
     "name": "stdout",
     "output_type": "stream",
     "text": [
      "enter a limit:5\n",
      "1\n",
      "2\n",
      "6\n",
      "24\n",
      "120\n"
     ]
    }
   ],
   "source": [
    "a=int (input('enter a limit:'))\n",
    "k=1\n",
    "for i in range (1,a+1):\n",
    "  \n",
    "    k=i*k\n",
    "    print(k)\n",
    "    \n",
    "    \n",
    "    "
   ]
  },
  {
   "cell_type": "code",
   "execution_count": 29,
   "id": "88d92925",
   "metadata": {},
   "outputs": [
    {
     "name": "stdout",
     "output_type": "stream",
     "text": [
      "enter starting range:5\n",
      "enter ending limit:55\n",
      "5\n",
      "30\n",
      "210\n",
      "1680\n",
      "15120\n",
      "151200\n",
      "1663200\n",
      "19958400\n",
      "259459200\n",
      "3632428800\n",
      "54486432000\n",
      "871782912000\n",
      "14820309504000\n",
      "266765571072000\n",
      "5068545850368000\n",
      "101370917007360000\n",
      "2128789257154560000\n",
      "46833363657400320000\n",
      "1077167364120207360000\n",
      "25852016738884976640000\n",
      "646300418472124416000000\n",
      "16803810880275234816000000\n",
      "453702893767431340032000000\n",
      "12703681025488077520896000000\n",
      "368406749739154248105984000000\n",
      "11052202492174627443179520000000\n",
      "342618277257413450738565120000000\n",
      "10963784872237230423634083840000000\n",
      "361804900783828603979924766720000000\n",
      "12301366626650172535317442068480000000\n",
      "430547831932756038736110472396800000000\n",
      "15499721949579217394499977006284800000000\n",
      "573489712134431043596499149232537600000000\n",
      "21792609061108379656666967670836428800000000\n",
      "849911753383226806610011739162620723200000000\n",
      "33996470135329072264400469566504828928000000000\n",
      "1393855275548491962840419252226697986048000000000\n",
      "58541921573036662439297608593521315414016000000000\n",
      "2517302627640576484889797169521416562802688000000000\n",
      "110761315616185365335151075458942328763318272000000000\n",
      "4984259202728341440081798395652404794349322240000000000\n",
      "229275923325503706243762726200010620540068823040000000000\n",
      "10775968396298674193456848131400499165383234682880000000000\n",
      "517246483022336361285928710307223959938395264778240000000000\n",
      "25345077668094481703010506805053974036981367974133760000000000\n",
      "1267253883404724085150525340252698701849068398706688000000000000\n",
      "64629948053640928342676792352887633794302488334041088000000000000\n",
      "3360757298789328273819193202350156957303729393370136576000000000000\n",
      "178120136835834398512417239724558318737097657848617238528000000000000\n",
      "9618487389135057519670530945126149211803273523825330880512000000000000\n",
      "529016806402428163581879201981938206649180043810393198428160000000000000\n"
     ]
    }
   ],
   "source": [
    "b=int (input('enter starting range:'))\n",
    "a=int (input('enter ending limit:'))\n",
    "k=1\n",
    "for i in range(b,a+1):\n",
    "  \n",
    "    k=i*k\n",
    "    print(k)\n",
    "    \n",
    "    "
   ]
  },
  {
   "cell_type": "code",
   "execution_count": 30,
   "id": "040cf2b9",
   "metadata": {},
   "outputs": [
    {
     "name": "stdout",
     "output_type": "stream",
     "text": [
      "1\n",
      "2\n",
      "3\n",
      "4\n",
      "5\n",
      "77\n",
      "88\n",
      "77\n",
      "66\n",
      "55\n",
      "43\n",
      "54\n",
      "54\n"
     ]
    }
   ],
   "source": [
    "list=[1,2,3,4,5,77,88,77,66,55,43,54,54]\n",
    "for i in list:\n",
    "    print(i)"
   ]
  },
  {
   "cell_type": "code",
   "execution_count": 31,
   "id": "28e9034b",
   "metadata": {},
   "outputs": [
    {
     "name": "stdout",
     "output_type": "stream",
     "text": [
      "1\n",
      "3\n",
      "6\n",
      "10\n",
      "15\n",
      "24\n"
     ]
    }
   ],
   "source": [
    "list=[1,2,3,4,5,9]\n",
    "m=0\n",
    "for i in list:\n",
    "    m=m+i\n",
    "    print(m)"
   ]
  },
  {
   "cell_type": "code",
   "execution_count": 32,
   "id": "10d10d28",
   "metadata": {},
   "outputs": [
    {
     "name": "stdout",
     "output_type": "stream",
     "text": [
      "0\n",
      "1\n",
      "2\n",
      "3\n",
      "4\n",
      "5\n",
      "the value is 5\n"
     ]
    }
   ],
   "source": [
    "for i in range(0,100):\n",
    "    print(i)\n",
    "    if i==5:\n",
    "        \n",
    "        print('the value is 5')\n",
    "        break\n",
    "        \n"
   ]
  },
  {
   "cell_type": "code",
   "execution_count": 33,
   "id": "02abdcbe",
   "metadata": {},
   "outputs": [
    {
     "name": "stdout",
     "output_type": "stream",
     "text": [
      "enter the limit6\n",
      "720\n"
     ]
    }
   ],
   "source": [
    "a=int(input('enter the limit'))\n",
    "k=1\n",
    "for i in range(1,a+1):\n",
    "    k=k*i\n",
    "print(k)\n",
    "    \n"
   ]
  },
  {
   "cell_type": "code",
   "execution_count": 34,
   "id": "e25dc899",
   "metadata": {},
   "outputs": [
    {
     "name": "stdout",
     "output_type": "stream",
     "text": [
      "enter the limit :5\n",
      "No. this value is not amstrong number\n"
     ]
    }
   ],
   "source": [
    "a=int(input('enter the limit :'))\n",
    "sum=0\n",
    "temp=a\n",
    "while temp>0:\n",
    "    digit=temp%10\n",
    "    sum=sum+(digit**3)\n",
    "    temp=temp//10\n",
    "if sum==a:\n",
    "    print('yes. this is a amstrong number')\n",
    "else:\n",
    "    print('No. this value is not amstrong number')\n",
    "    \n",
    "    "
   ]
  },
  {
   "cell_type": "code",
   "execution_count": 35,
   "id": "4f8bd9be",
   "metadata": {},
   "outputs": [
    {
     "name": "stdout",
     "output_type": "stream",
     "text": [
      "enter the limit :55\n",
      "1\n",
      "3\n",
      "5\n",
      "7\n",
      "9\n",
      "11\n",
      "13\n",
      "15\n",
      "17\n",
      "19\n",
      "21\n",
      "23\n",
      "25\n",
      "27\n",
      "29\n",
      "31\n",
      "33\n",
      "35\n",
      "37\n",
      "39\n",
      "41\n",
      "43\n",
      "45\n",
      "47\n",
      "49\n",
      "51\n",
      "53\n"
     ]
    }
   ],
   "source": [
    "a=int(input('enter the limit :'))\n",
    "for i in range (1,a,2):\n",
    "    print(i)\n"
   ]
  },
  {
   "cell_type": "code",
   "execution_count": 36,
   "id": "523afde5",
   "metadata": {},
   "outputs": [
    {
     "name": "stdout",
     "output_type": "stream",
     "text": [
      "enter the limit :55\n",
      "55 is not a prime number\n"
     ]
    }
   ],
   "source": [
    "num=int(input('enter the limit :'))\n",
    "if num > 1:\n",
    "    for i in range(2, int(num/2)+1):\n",
    "        if (num % i) == 0:\n",
    "            print(num, \"is not a prime number\")\n",
    "            break\n",
    "    else:\n",
    "        print(num, \"is a prime number\")\n",
    "else:\n",
    "    print(num, \"is not a prime number\")\n",
    "            \n",
    "\n"
   ]
  },
  {
   "cell_type": "code",
   "execution_count": 1,
   "id": "e49463cb",
   "metadata": {},
   "outputs": [
    {
     "name": "stdout",
     "output_type": "stream",
     "text": [
      "enter the limit :6\n",
      "0\n",
      "1\n",
      "1\n",
      "2\n",
      "3\n",
      "5\n",
      "8\n",
      "13\n"
     ]
    }
   ],
   "source": [
    "x=int(input('enter the limit :'))\n",
    "n1=0\n",
    "n2=1\n",
    "count=0\n",
    "print(n1)\n",
    "print(n2)\n",
    "while count<x:\n",
    "    sums=n1+n2\n",
    "    \n",
    "    n1=n2\n",
    "    n2=sums\n",
    "    print(sums)\n",
    "    count=count+1\n",
    "    \n",
    "    \n",
    "    \n",
    "    \n"
   ]
  },
  {
   "cell_type": "code",
   "execution_count": 40,
   "id": "dc9c4179",
   "metadata": {},
   "outputs": [
    {
     "name": "stdout",
     "output_type": "stream",
     "text": [
      "enter the limit of pyramid8\n"
     ]
    },
    {
     "ename": "TypeError",
     "evalue": "'str' object is not callable",
     "output_type": "error",
     "traceback": [
      "\u001b[1;31m---------------------------------------------------------------------------\u001b[0m",
      "\u001b[1;31mTypeError\u001b[0m                                 Traceback (most recent call last)",
      "Input \u001b[1;32mIn [40]\u001b[0m, in \u001b[0;36m<cell line: 2>\u001b[1;34m()\u001b[0m\n\u001b[0;32m      2\u001b[0m \u001b[38;5;28;01mfor\u001b[39;00m i \u001b[38;5;129;01min\u001b[39;00m \u001b[38;5;28mrange\u001b[39m(s1):\n\u001b[0;32m      3\u001b[0m     \u001b[38;5;28;01mfor\u001b[39;00m j \u001b[38;5;129;01min\u001b[39;00m \u001b[38;5;28mrange\u001b[39m(i\u001b[38;5;241m+\u001b[39m\u001b[38;5;241m1\u001b[39m):\n\u001b[1;32m----> 4\u001b[0m         \u001b[38;5;28;43mprint\u001b[39;49m\u001b[43m(\u001b[49m\u001b[38;5;124;43m'\u001b[39;49m\u001b[38;5;124;43m*\u001b[39;49m\u001b[38;5;124;43m'\u001b[39;49m\u001b[43m,\u001b[49m\u001b[43m \u001b[49m\u001b[43mend\u001b[49m\u001b[38;5;241;43m=\u001b[39;49m\u001b[38;5;124;43m\"\u001b[39;49m\u001b[38;5;124;43m \u001b[39;49m\u001b[38;5;124;43m\"\u001b[39;49m\u001b[43m)\u001b[49m\n\u001b[0;32m      5\u001b[0m         \u001b[38;5;28mprint\u001b[39m\u001b[38;5;241m=\u001b[39m(\u001b[38;5;124m\"\u001b[39m\u001b[38;5;124m/n\u001b[39m\u001b[38;5;124m\"\u001b[39m)\n",
      "\u001b[1;31mTypeError\u001b[0m: 'str' object is not callable"
     ]
    }
   ],
   "source": [
    "s1=int(input ('enter the limit of pyramid'))\n",
    "for i in range(s1):\n",
    "    for j in range(i+1):       print('*', end=\" \")\n",
    "        print=(\"/n\")"
   ]
  },
  {
   "cell_type": "code",
   "execution_count": 48,
   "id": "8deaf487",
   "metadata": {},
   "outputs": [
    {
     "name": "stdout",
     "output_type": "stream",
     "text": [
      "enter the limit of pyramid8765\n"
     ]
    },
    {
     "ename": "TypeError",
     "evalue": "can only concatenate str (not \"int\") to str",
     "output_type": "error",
     "traceback": [
      "\u001b[1;31m---------------------------------------------------------------------------\u001b[0m",
      "\u001b[1;31mTypeError\u001b[0m                                 Traceback (most recent call last)",
      "Input \u001b[1;32mIn [48]\u001b[0m, in \u001b[0;36m<cell line: 8>\u001b[1;34m()\u001b[0m\n\u001b[0;32m      5\u001b[0m     revnum\u001b[38;5;241m=\u001b[39m(revnum\u001b[38;5;241m*\u001b[39m\u001b[38;5;241m10\u001b[39m)\u001b[38;5;241m+\u001b[39mdigits\n\u001b[0;32m      6\u001b[0m     num2 \u001b[38;5;241m/\u001b[39m\u001b[38;5;241m/\u001b[39m\u001b[38;5;241m=\u001b[39m \u001b[38;5;241m10\u001b[39m\n\u001b[1;32m----> 8\u001b[0m \u001b[38;5;28mprint\u001b[39m(\u001b[38;5;124;43m\"\u001b[39;49m\u001b[38;5;124;43mReversed Number: \u001b[39;49m\u001b[38;5;124;43m\"\u001b[39;49m\u001b[43m \u001b[49m\u001b[38;5;241;43m+\u001b[39;49m\u001b[43m \u001b[49m\u001b[43mrevnum\u001b[49m)\n",
      "\u001b[1;31mTypeError\u001b[0m: can only concatenate str (not \"int\") to str"
     ]
    }
   ],
   "source": [
    "num2=int(input ('enter the limit of pyramid'))\n",
    "revnum=0\n",
    "while num2!=0:\n",
    "    digits=num2%10\n",
    "    revnum=(revnum*10)+digits\n",
    "    num2 //= 10\n",
    "\n",
    "print(\"Reversed Number: \" + str(revnum))\n",
    "\n"
   ]
  },
  {
   "cell_type": "code",
   "execution_count": 21,
   "id": "8416d282",
   "metadata": {},
   "outputs": [
    {
     "name": "stdout",
     "output_type": "stream",
     "text": [
      "* \n",
      "\n",
      "* * \n",
      "\n",
      "* * * \n",
      "\n",
      "* * * * \n",
      "\n",
      "* * * * * \n",
      "\n",
      "* * * * * \n",
      "\n",
      "* * * * \n",
      "\n",
      "* * * \n",
      "\n",
      "* * \n",
      "\n",
      "* \n",
      "\n"
     ]
    }
   ],
   "source": [
    "for i in range(i+1):\n",
    "    for j in range(i+1):\n",
    "        print(\"* \", end=\"\")\n",
    "    print(\"\\n\")\n",
    "for s in range():\n",
    "    for p in range(5-1*s):\n",
    "         print(\"* \", end=\"\")\n",
    "    print(\"\\n\")\n",
    "\n",
    "    \n"
   ]
  },
  {
   "cell_type": "code",
   "execution_count": 27,
   "id": "7dc45f82",
   "metadata": {},
   "outputs": [
    {
     "name": "stdout",
     "output_type": "stream",
     "text": [
      "       * \r\n",
      "      * * \r\n",
      "     * * * \r\n",
      "    * * * * \r\n",
      "   * * * * * \r\n",
      "  * * * * * * \r\n",
      " * * * * * * * \r\n",
      "* * * * * * * * \r\n"
     ]
    }
   ],
   "source": [
    "n=8\n",
    "k = n - 1\n",
    " \n",
    "# outer loop to handle number of rows\n",
    "for i in range(0, n):\n",
    " \n",
    "    # inner loop to handle number spaces\n",
    "    # values changing acc. to requirement\n",
    "    for j in range(0, k):\n",
    "        print(end=\" \")\n",
    " \n",
    "    # decrementing k after each loop\n",
    "    k = k - 1\n",
    " \n",
    "    # inner loop to handle number of columns\n",
    "    # values changing acc. to outer loop\n",
    "    for j in range(0, i+1):\n",
    "     \n",
    "        # printing stars\n",
    "        print(\"* \", end=\"\")\n",
    " \n",
    "    # ending line after each row\n",
    "    print(\"\\r\")\n",
    "n=8\n",
    "k = 8- 1\n",
    "\n",
    "for i in range(8,0):\n",
    "    for j in range(8, 0):\n",
    "        print(end=\" \")\n",
    " \n",
    "    # decrementing k after each loop\n",
    "    k = k - 1\n",
    "    for j in range(0, i+1):\n",
    "        print(\" * \", end=\"\")\n",
    "    print(\"\\r\")\n"
   ]
  },
  {
   "cell_type": "code",
   "execution_count": 5,
   "id": "9fb6130b",
   "metadata": {},
   "outputs": [
    {
     "name": "stdout",
     "output_type": "stream",
     "text": [
      "2\n",
      "3\n",
      "8\n",
      "6\n"
     ]
    }
   ],
   "source": [
    "a={'a':2,'b':3,'c':8,'e':6}\n",
    "b=a.keys()\n",
    "\n",
    "c=a.values()\n",
    "c\n",
    "for i in c:\n",
    "    print(i)"
   ]
  },
  {
   "cell_type": "code",
   "execution_count": 8,
   "id": "aa7f8556",
   "metadata": {},
   "outputs": [],
   "source": [
    "a['b']=5\n",
    "#change the value of a dic"
   ]
  },
  {
   "cell_type": "code",
   "execution_count": 7,
   "id": "e20b0adb",
   "metadata": {},
   "outputs": [
    {
     "data": {
      "text/plain": [
       "{'a': 2, 'b': 5, 'c': 8, 'e': 6}"
      ]
     },
     "execution_count": 7,
     "metadata": {},
     "output_type": "execute_result"
    }
   ],
   "source": [
    "a"
   ]
  },
  {
   "cell_type": "code",
   "execution_count": 9,
   "id": "c55ecb54",
   "metadata": {},
   "outputs": [],
   "source": [
    "a['d']=38"
   ]
  },
  {
   "cell_type": "code",
   "execution_count": 10,
   "id": "7c3a2c3d",
   "metadata": {},
   "outputs": [
    {
     "data": {
      "text/plain": [
       "{'a': 2, 'b': 5, 'c': 8, 'e': 6, 'd': 38}"
      ]
     },
     "execution_count": 10,
     "metadata": {},
     "output_type": "execute_result"
    }
   ],
   "source": [
    "a"
   ]
  },
  {
   "cell_type": "code",
   "execution_count": null,
   "id": "03a3729a",
   "metadata": {},
   "outputs": [],
   "source": []
  }
 ],
 "metadata": {
  "kernelspec": {
   "display_name": "Python 3 (ipykernel)",
   "language": "python",
   "name": "python3"
  },
  "language_info": {
   "codemirror_mode": {
    "name": "ipython",
    "version": 3
   },
   "file_extension": ".py",
   "mimetype": "text/x-python",
   "name": "python",
   "nbconvert_exporter": "python",
   "pygments_lexer": "ipython3",
   "version": "3.9.12"
  }
 },
 "nbformat": 4,
 "nbformat_minor": 5
}
