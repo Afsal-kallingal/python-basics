{
 "cells": [
  {
   "cell_type": "code",
   "execution_count": null,
   "id": "85c02602",
   "metadata": {},
   "outputs": [],
   "source": [
    "#pattern"
   ]
  },
  {
   "cell_type": "code",
   "execution_count": 4,
   "id": "1e7dc20e",
   "metadata": {},
   "outputs": [
    {
     "name": "stdout",
     "output_type": "stream",
     "text": [
      "enter the limit6\n",
      "* \n",
      "* * \n",
      "* * * \n",
      "* * * * \n",
      "* * * * * \n",
      "* * * * * * \n"
     ]
    }
   ],
   "source": [
    "s1=int(input('enter the limit'))\n",
    "for i in range(0,s1):\n",
    "    \n",
    "    for j in range(0,i+1): \n",
    "        print(\"*\",end=\" \")\n",
    "    print(\"\\r\")"
   ]
  },
  {
   "cell_type": "code",
   "execution_count": 5,
   "id": "8a50fe6a",
   "metadata": {},
   "outputs": [
    {
     "name": "stdout",
     "output_type": "stream",
     "text": [
      "enter the limit6\n"
     ]
    }
   ],
   "source": [
    "s1=int(input('enter the limit'))\n",
    "for i in range(s1,0):\n",
    "    \n",
    "    for j in range(i-1,0): \n",
    "        print(\"*\",end=\" \")\n",
    "    print(\"\\r\")"
   ]
  },
  {
   "cell_type": "code",
   "execution_count": 6,
   "id": "9e16c9ce",
   "metadata": {},
   "outputs": [
    {
     "ename": "IndentationError",
     "evalue": "unexpected indent (2575449357.py, line 3)",
     "output_type": "error",
     "traceback": [
      "\u001b[1;36m  Input \u001b[1;32mIn [6]\u001b[1;36m\u001b[0m\n\u001b[1;33m    k = 2*n - 2\u001b[0m\n\u001b[1;37m    ^\u001b[0m\n\u001b[1;31mIndentationError\u001b[0m\u001b[1;31m:\u001b[0m unexpected indent\n"
     ]
    }
   ],
   "source": [
    " n=int(input('enter the limit'))\n",
    "    # number of spaces\n",
    "    k = 2*n - 2\n",
    "    \n",
    "    for i in range(0, n):\n",
    "        for j in range(0, k):\n",
    "            print(end=\" \")\n",
    "     \n",
    "        # decrementing k after each loop\n",
    "        k = k - 2\n",
    "     \n",
    "        # inner loop to handle number of columns\n",
    "        # values changing acc. to outer loop\n",
    "        for j in range(0, i+1):\n",
    "         \n",
    "            # printing stars\n",
    "            print(\"* \", end=\"\")\n",
    "     \n",
    "        # ending line after each row\n",
    "        print(\"\\r\")\n",
    " "
   ]
  },
  {
   "cell_type": "code",
   "execution_count": 7,
   "id": "72120bf0",
   "metadata": {},
   "outputs": [
    {
     "name": "stdout",
     "output_type": "stream",
     "text": [
      "     \n",
      "    *\n",
      "   **\n",
      "  ***\n",
      " ****\n",
      "*****\n"
     ]
    }
   ],
   "source": [
    "n=5;i=0\n",
    "while(i<=n):\n",
    "  print(\" \" * (n - i) +\"*\" * i)\n",
    "  i+=1"
   ]
  },
  {
   "cell_type": "code",
   "execution_count": 8,
   "id": "21dd7b88",
   "metadata": {},
   "outputs": [
    {
     "name": "stdout",
     "output_type": "stream",
     "text": [
      "enter the limit7\n",
      "python \n",
      "python python \n",
      "python python python \n",
      "python python python python \n",
      "python python python python python \n",
      "python python python python python python \n",
      "python python python python python python python \n"
     ]
    }
   ],
   "source": [
    "s1=int(input('enter the limit'))\n",
    "s=\"python\"\n",
    "for i in range(0,s1):\n",
    "    \n",
    "    for j in range(0,i+1): \n",
    "        print(s,end=\" \")\n",
    "    print(\"\\r\")"
   ]
  },
  {
   "cell_type": "code",
   "execution_count": 9,
   "id": "788eea23",
   "metadata": {},
   "outputs": [
    {
     "name": "stdout",
     "output_type": "stream",
     "text": [
      "enter the number5\n",
      "        * \n",
      "      * * \n",
      "    * * * \n",
      "  * * * * \n",
      "* * * * * \n"
     ]
    }
   ],
   "source": [
    "n=int(input('enter the number'))\n",
    "for row in range(1,(n+1)):\n",
    "    for space in range(1,(n-row)+1):\n",
    "        print(\" \",end=\" \")\n",
    "    for symbol in range(1,row+1):\n",
    "        print(\"*\",end=\" \")\n",
    "    print()\n",
    "        \n",
    "        "
   ]
  },
  {
   "cell_type": "code",
   "execution_count": 10,
   "id": "6922fed3",
   "metadata": {},
   "outputs": [
    {
     "name": "stdout",
     "output_type": "stream",
     "text": [
      "         *\n",
      "        **\n",
      "       ***\n",
      "      ****\n",
      "     *****\n",
      "    ******\n",
      "   *******\n",
      "  ********\n",
      " *********\n",
      "**********\n"
     ]
    }
   ],
   "source": [
    "num=10\n",
    "for i in range(1,num+1):\n",
    "    print(\" \"*(num-i)+\"*\"*i)"
   ]
  },
  {
   "cell_type": "code",
   "execution_count": 11,
   "id": "e79cde99",
   "metadata": {},
   "outputs": [
    {
     "name": "stdout",
     "output_type": "stream",
     "text": [
      "         * \n",
      "        * * \n",
      "       * * * \n",
      "      * * * * \n",
      "     * * * * * \n",
      "    * * * * * * \n",
      "   * * * * * * * \n",
      "  * * * * * * * * \n",
      " * * * * * * * * * \n",
      "* * * * * * * * * * \n"
     ]
    }
   ],
   "source": [
    "num=10\n",
    "for i in range(1,num+1):\n",
    "    print(\" \"*(num-i)+\"* \"*i)"
   ]
  },
  {
   "cell_type": "code",
   "execution_count": null,
   "id": "a0a45f47",
   "metadata": {},
   "outputs": [],
   "source": []
  },
  {
   "cell_type": "code",
   "execution_count": 12,
   "id": "ad45a390",
   "metadata": {},
   "outputs": [
    {
     "name": "stdout",
     "output_type": "stream",
     "text": [
      "p\n",
      "py\n",
      "pyt\n",
      "pyth\n",
      "pytho\n",
      "python\n",
      "pytho\n",
      "pyth\n",
      "pyt\n",
      "py\n",
      "p\n",
      "\n"
     ]
    }
   ],
   "source": [
    "s=\"python\"\n",
    "l=0\n",
    "for i in s:\n",
    "    l=l+1\n",
    "    print(s[0:l])\n",
    "for i in s:\n",
    "    l=l-1\n",
    "    print(s[0:l])"
   ]
  },
  {
   "cell_type": "code",
   "execution_count": 13,
   "id": "472ad2a9",
   "metadata": {},
   "outputs": [
    {
     "name": "stdout",
     "output_type": "stream",
     "text": [
      "1 \r\n",
      "1 2 \r\n",
      "1 2 3 \r\n",
      "1 2 3 4 \r\n",
      "1 2 3 4 5 \r\n",
      "1 2 3 4 5 6 \r\n",
      "1 2 3 4 5 6 7 \r\n",
      "1 2 3 4 5 6 7 8 \r\n",
      "1 2 3 4 5 6 7 8 9 \r\n",
      "1 2 3 4 5 6 7 8 9 10 \r\n"
     ]
    }
   ],
   "source": [
    "\n",
    "for i in range(1,11):\n",
    "    for j in range(1,i+1):\n",
    "        print(j,end=\" \")\n",
    "    print(\"\\r\")\n"
   ]
  },
  {
   "cell_type": "code",
   "execution_count": 14,
   "id": "90caf77a",
   "metadata": {},
   "outputs": [
    {
     "name": "stdout",
     "output_type": "stream",
     "text": [
      "Enter diamond's height: 5\n",
      "                python\n",
      "\n",
      "             pythonpython\n",
      "\n",
      "          pythonpythonpython\n",
      "\n",
      "       pythonpythonpythonpython\n",
      "\n",
      "    pythonpythonpythonpythonpython\n",
      "\n",
      "       pythonpythonpythonpython\n",
      "\n",
      "          pythonpythonpython\n",
      "\n",
      "             pythonpython\n",
      "\n",
      "                python\n",
      "\n"
     ]
    }
   ],
   "source": [
    "ss=\"python\"\n",
    "h = eval(input(\"Enter diamond's height: \"))\n",
    "for x in range(h):\n",
    "    print(\"   \"  * (h - x), ss * (x + 1))\n",
    "    print(\"\\r\")\n",
    "for x in range(h - 2, -1, -1):\n",
    "    print(\"   \" * (h - x), ss * (x + 1))\n",
    "    print(\"\\r\")\n"
   ]
  },
  {
   "cell_type": "code",
   "execution_count": null,
   "id": "a13a3a8b",
   "metadata": {},
   "outputs": [],
   "source": [
    "#diamond shape print pattern\n",
    "\n",
    "num=int(input('enter range:'))\n",
    "for i in range(1,num+1):\n",
    "    print(\" \"*(num-i)+\"* \"*i)\n"
   ]
  },
  {
   "cell_type": "code",
   "execution_count": null,
   "id": "3e52ed58",
   "metadata": {},
   "outputs": [],
   "source": [
    "strng=input('enter a string')\n",
    "length=len(strng)\n",
    "for i in range(length):\n",
    "    for j in range(length-i-1):\n",
    "        print(\" \",end=\"\")\n",
    "    for j in range(i+1):\n",
    "        print(strng[j],end=\" \")\n",
    "    print()    "
   ]
  },
  {
   "cell_type": "code",
   "execution_count": 20,
   "id": "2c889359",
   "metadata": {},
   "outputs": [
    {
     "name": "stdout",
     "output_type": "stream",
     "text": [
      "enter a stringpython\n",
      "     p \n",
      "    p y \n",
      "   p y t \n",
      "  p y t h \n",
      " p y t h o \n",
      "p y t h o n \n",
      "p y t h \n",
      " p y t \n",
      "  p y \n",
      "   p \n",
      "    \n",
      "     \n"
     ]
    }
   ],
   "source": [
    "strng=input('enter a string')\n",
    "length=len(strng)\n",
    "for i in range(length):\n",
    "    for j in range(length-i-1):\n",
    "        print(\" \",end=\"\")\n",
    "    for j in range(i+1):\n",
    "        print(strng[j],end=\" \")  \n",
    "    print()\n",
    "for x in range(length-1,-1,-1):\n",
    "    for y in range(length-x-1):\n",
    "        print(\" \",end=\"\")\n",
    "    for j in range(x-1):\n",
    "        print(strng[j],end=\" \")\n",
    "    print()    \n",
    "    \n",
    "    "
   ]
  },
  {
   "cell_type": "code",
   "execution_count": 15,
   "id": "d8bfd092",
   "metadata": {},
   "outputs": [
    {
     "name": "stdout",
     "output_type": "stream",
     "text": [
      "3\n",
      "2\n",
      "1\n",
      "0\n"
     ]
    }
   ],
   "source": [
    "h=5\n",
    "for i in range()\n",
    "for x in range(h - 2, -1, -1):\n",
    "    print(x)\n",
    "    "
   ]
  },
  {
   "cell_type": "code",
   "execution_count": 16,
   "id": "48069229",
   "metadata": {},
   "outputs": [
    {
     "name": "stdout",
     "output_type": "stream",
     "text": [
      "1 1 1 1 1 \n",
      "2 2 2 2 \n",
      "3 3 3 \n",
      "4 4 \n",
      "5 \n",
      "\n"
     ]
    }
   ],
   "source": [
    "n=6\n",
    "for i in range(1,n+1):\n",
    "    for j in range(n-i):\n",
    "        print(i,end=\" \")\n",
    "    print()    "
   ]
  },
  {
   "cell_type": "code",
   "execution_count": 15,
   "id": "83d04156",
   "metadata": {
    "scrolled": true
   },
   "outputs": [
    {
     "name": "stdout",
     "output_type": "stream",
     "text": [
      "     p \n",
      "    p y \n",
      "   p y t \n",
      "  p y t h \n",
      " p y t h o \n",
      "p y t h o n \n",
      " p y t h o \n",
      "  p y t h \n",
      "   p y t \n",
      "    p y \n",
      "     p \n"
     ]
    }
   ],
   "source": [
    "strng=\"python\"\n",
    "length=len(strng)\n",
    "for i in range(length):\n",
    "    for j in range(length-i-1):\n",
    "        print(\" \",end=\"\")\n",
    "    for j in range(i+1):\n",
    "        print(strng[j],end=\" \")  \n",
    "    print()\n",
    "for x in range(length-2,-1,-1):\n",
    "    for y in range(length-x-1):\n",
    "        print(\" \",end=\"\")\n",
    "    for j in range(x+1):\n",
    "        print(strng[j],end=\" \")\n",
    "    print()    \n",
    "    "
   ]
  },
  {
   "cell_type": "code",
   "execution_count": 28,
   "id": "c509f53c",
   "metadata": {},
   "outputs": [
    {
     "name": "stdout",
     "output_type": "stream",
     "text": [
      " * * * * * * * * * * * * * * * \n",
      "  * * * * * * * * * * * * * * \n",
      "   * * * * * * * * * * * * * \n",
      "    * * * * * * * * * * * * \n",
      "     * * * * * * * * * * * \n",
      "      * * * * * * * * * * \n",
      "       * * * * * * * * * \n",
      "        * * * * * * * * \n",
      "         * * * * * * * \n",
      "          * * * * * * \n",
      "           * * * * * \n",
      "            * * * * \n",
      "             * * * \n",
      "              * * \n",
      "               * \n",
      "                \n"
     ]
    }
   ],
   "source": [
    "num=16\n",
    "for i in range(num-1,-1,-1):\n",
    "    print(\" \"*(num-i)+\"* \"*i)\n",
    "    "
   ]
  },
  {
   "cell_type": "code",
   "execution_count": 54,
   "id": "a224bfa9",
   "metadata": {
    "scrolled": false
   },
   "outputs": [
    {
     "name": "stdout",
     "output_type": "stream",
     "text": [
      "********************\n",
      "********* *********\n",
      "********   ********\n",
      "*******     *******\n",
      "******       ******\n",
      "*****         *****\n",
      "****           ****\n",
      "***             ***\n",
      "**               **\n",
      "*                 *\n"
     ]
    }
   ],
   "source": [
    "for i in range(10,0,-1):\n",
    "    for j in range(i,0,-1):\n",
    "        print('*',end=\"\")\n",
    "    for k in range(i,10):\n",
    "        print(\" \",end=\"\")\n",
    "    for m in range(i,9,1):\n",
    "        print(\" \",end=\"\")\n",
    "    for n in range(0,i):\n",
    "        print(\"*\",end=\"\")    \n",
    "    print()   \n",
    "        "
   ]
  },
  {
   "cell_type": "code",
   "execution_count": 1,
   "id": "a6054c4c",
   "metadata": {},
   "outputs": [
    {
     "name": "stdout",
     "output_type": "stream",
     "text": [
      "**                **\n",
      "***              ***\n",
      "****            ****\n",
      "*****          *****\n",
      "******        ******\n",
      "*******      *******\n",
      "********    ********\n",
      "*********  *********\n",
      "********************\n"
     ]
    }
   ],
   "source": [
    "for i in range(1,10):\n",
    "    for j in range(0,i+1):\n",
    "        print('*',end=\"\")\n",
    "    for k in range(i,9):\n",
    "        print(\" \",end=\"\")\n",
    "    for m in range(i,9):\n",
    "        print(\" \",end=\"\")\n",
    "    for n in range(-1,i):\n",
    "        print(\"*\",end=\"\")    \n",
    "    print()   \n",
    "        "
   ]
  },
  {
   "cell_type": "code",
   "execution_count": 42,
   "id": "e0c743a7",
   "metadata": {},
   "outputs": [
    {
     "name": "stdout",
     "output_type": "stream",
     "text": [
      "********************\n",
      "********* *********\n",
      "********   ********\n",
      "*******     *******\n",
      "******       ******\n",
      "*****         *****\n",
      "****           ****\n",
      "***             ***\n",
      "**               **\n",
      "*                 *\n",
      "**                **\n",
      "***              ***\n",
      "****            ****\n",
      "*****          *****\n",
      "******        ******\n",
      "*******      *******\n",
      "********    ********\n",
      "*********  *********\n",
      "********************\n"
     ]
    }
   ],
   "source": [
    "for i in range(10,0,-1):\n",
    "    for j in range(i,0,-1):\n",
    "        print('*',end=\"\")\n",
    "    for k in range(i,10):\n",
    "        print(\" \",end=\"\")\n",
    "    for m in range(i,9,1):\n",
    "        print(\" \",end=\"\")\n",
    "    for n in range(0,i):\n",
    "        print(\"*\",end=\"\")    \n",
    "    print()   \n",
    "for i in range(1,10):\n",
    "    for j in range(0,i+1):\n",
    "        print('*',end=\"\")\n",
    "    for k in range(i,9):\n",
    "        print(\" \",end=\"\")\n",
    "    for m in range(i,9):\n",
    "        print(\" \",end=\"\")\n",
    "    for n in range(-1,i):\n",
    "        print(\"*\",end=\"\")    \n",
    "    print()   \n",
    "        "
   ]
  },
  {
   "cell_type": "code",
   "execution_count": 4,
   "id": "43f41d69",
   "metadata": {},
   "outputs": [
    {
     "name": "stdout",
     "output_type": "stream",
     "text": [
      "Enter diamond's height: 5\n",
      "                ABCDEF\n",
      "             ABCDEFABCDEF\n",
      "          ABCDEFABCDEFABCDEF\n",
      "       ABCDEFABCDEFABCDEFABCDEF\n",
      "    ABCDEFABCDEFABCDEFABCDEFABCDEF\n",
      "       ABCDEFABCDEFABCDEFABCDEF\n",
      "          ABCDEFABCDEFABCDEF\n",
      "             ABCDEFABCDEF\n",
      "                ABCDEF\n"
     ]
    }
   ],
   "source": [
    "ss=\"ABCDEF\"\n",
    "h = eval(input(\"Enter diamond's height: \"))\n",
    "for x in range(h):\n",
    "    print(\"   \"  * (h - x), ss * (x + 1))\n",
    "    \n",
    "for x in range(h - 2, -1, -1):\n",
    "    print(\"   \" * (h - x), ss * (x + 1))\n",
    "  "
   ]
  },
  {
   "cell_type": "code",
   "execution_count": 5,
   "id": "9bcf5314",
   "metadata": {},
   "outputs": [
    {
     "name": "stdout",
     "output_type": "stream",
     "text": [
      "   A \n",
      "  A B \n",
      " A B C \n",
      "A B C D \n",
      " A B C \n",
      "  A B \n",
      "   A \n"
     ]
    }
   ],
   "source": [
    "strng=\"ABCD\"\n",
    "length=len(strng)\n",
    "for i in range(length):\n",
    "    for j in range(length-i-1):\n",
    "        print(\" \",end=\"\")\n",
    "    for j in range(i+1):\n",
    "        print(strng[j],end=\" \")  \n",
    "    print()\n",
    "for x in range(length-2,-1,-1):\n",
    "    for y in range(length-x-1):\n",
    "        print(\" \",end=\"\")\n",
    "    for j in range(x+1):\n",
    "        print(strng[j],end=\" \")\n",
    "    print()    \n",
    "    "
   ]
  },
  {
   "cell_type": "code",
   "execution_count": 13,
   "id": "830d5294",
   "metadata": {},
   "outputs": [
    {
     "name": "stdout",
     "output_type": "stream",
     "text": [
      "1 \n",
      "2 1 \n",
      "3 2 1 \n",
      "4 3 2 1 \n",
      "5 4 3 2 1 \n"
     ]
    }
   ],
   "source": [
    "n=5\n",
    "for row in range(1,n+1):\n",
    "    for colom in range(1,row+1):\n",
    "        print(row-colom+1,end=\" \")\n",
    "    print()    \n",
    "        "
   ]
  },
  {
   "cell_type": "code",
   "execution_count": 14,
   "id": "c48ca430",
   "metadata": {},
   "outputs": [
    {
     "name": "stdout",
     "output_type": "stream",
     "text": [
      "\r\n",
      "\r\n",
      "1 \r\n",
      "1 2 \r\n",
      "1 2 3 \r\n",
      "1 2 3 4 \r\n",
      "1 2 3 4 5 \r\n",
      "1 2 3 4 5 6 \r\n",
      "1 2 3 4 5 6 7 \r\n",
      "1 2 3 4 5 6 7 8 \r\n",
      "1 2 3 4 5 6 7 8 9 \r\n"
     ]
    }
   ],
   "source": [
    "n=10\n",
    "for row in range(0,n+1,1):\n",
    "    for coloum in range(1,row):\n",
    "        print(coloum,end=\" \")\n",
    "    print(\"\\r\")    "
   ]
  },
  {
   "cell_type": "code",
   "execution_count": 1,
   "id": "c2948fc2",
   "metadata": {},
   "outputs": [
    {
     "name": "stdout",
     "output_type": "stream",
     "text": [
      "    *\n",
      "   * *\n",
      "  *   *\n",
      " *     *\n",
      "*********\n"
     ]
    }
   ],
   "source": [
    "# hollow pyramid star pattern\n",
    "n = 5\n",
    "for i in range(n):\n",
    "    # printing spaces\n",
    "    for j in range(n - i - 1):\n",
    "        print(' ', end='')\n",
    "\n",
    "    # printing stars\n",
    "    for k in range(2 * i + 1):\n",
    "        # print star at start and end of the row\n",
    "        if k == 0 or k == 2 * i:\n",
    "            print('*', end='')\n",
    "        else:\n",
    "            if i == n - 1:\n",
    "                print('*', end='')\n",
    "            else:\n",
    "                print(' ', end='')\n",
    "    print()"
   ]
  },
  {
   "cell_type": "code",
   "execution_count": 2,
   "id": "b2204b23",
   "metadata": {},
   "outputs": [
    {
     "name": "stdout",
     "output_type": "stream",
     "text": [
      "*\n",
      "**\n",
      "* *\n",
      "*  *\n",
      "*   *\n",
      "******\n"
     ]
    }
   ],
   "source": [
    "n = 6\n",
    "for i in range(1, n+1):\n",
    "    for j in range(i):\n",
    "        if j == 0 or j == i-1:\n",
    "            print('*', end='')\n",
    "        else:\n",
    "            if i != n:\n",
    "                print(' ', end='')\n",
    "            else:\n",
    "                print('*', end='')\n",
    "    print()"
   ]
  },
  {
   "cell_type": "code",
   "execution_count": 3,
   "id": "cf5dd979",
   "metadata": {},
   "outputs": [
    {
     "name": "stdout",
     "output_type": "stream",
     "text": [
      "    *\n",
      "   * *\n",
      "  *   *\n",
      " *     *\n",
      "*       *\n",
      " *     *\n",
      "  *   *\n",
      "   * *\n",
      "    *\n"
     ]
    }
   ],
   "source": [
    "# hollow diamond star pattern\n",
    "n = 5\n",
    "\n",
    "# upward hollow pyramid\n",
    "for i in range(n):\n",
    "    for j in range(n - i - 1):\n",
    "        print(' ', end='')\n",
    "    for j in range(2 * i + 1):\n",
    "        if j == 0 or j == 2 * i:\n",
    "            print('*', end='')\n",
    "        else:\n",
    "            print(' ', end='')\n",
    "    print()\n",
    "\n",
    "# downward pyramid\n",
    "for i in range(n - 1):\n",
    "    for j in range(i + 1):\n",
    "        print(' ', end='')\n",
    "    for j in range(2*(n - i - 1) - 1):\n",
    "        if j == 0 or j == 2*(n - i - 1) - 2:\n",
    "            print('*', end='')\n",
    "        else:\n",
    "            print(' ', end='')\n",
    "    print()"
   ]
  },
  {
   "cell_type": "code",
   "execution_count": 4,
   "id": "f07363e6",
   "metadata": {},
   "outputs": [
    {
     "name": "stdout",
     "output_type": "stream",
     "text": [
      "*********\n",
      " *******\n",
      "  *****\n",
      "   ***\n",
      "    *\n",
      "   ***\n",
      "  *****\n",
      " *******\n",
      "*********\n"
     ]
    }
   ],
   "source": [
    "# hourglass star pattern\n",
    "n = 5\n",
    "\n",
    "# downward pyramid\n",
    "for i in range(n-1):\n",
    "    for j in range(i):\n",
    "        print(' ', end='')\n",
    "    for k in range(2*(n-i)-1):\n",
    "        print('*', end='')\n",
    "    print()\n",
    "# upward pyramid\n",
    "for i in range(n):\n",
    "    for j in range(n-i-1):\n",
    "        print(' ', end='')\n",
    "    for k in range(2*i+1):\n",
    "        print('*', end='')\n",
    "    print()"
   ]
  },
  {
   "cell_type": "code",
   "execution_count": 5,
   "id": "628c5746",
   "metadata": {},
   "outputs": [
    {
     "name": "stdout",
     "output_type": "stream",
     "text": [
      " ***   ***\n",
      "***** *****\n",
      "***********\n",
      " *********\n",
      "  *******\n",
      "   *****\n",
      "    ***\n",
      "     *\n"
     ]
    }
   ],
   "source": [
    "# heart pattern \n",
    "n = 6\n",
    "\n",
    "# upper part of the heart\n",
    "for i in range(n//2, n, 2):\n",
    "    # print first spaces\n",
    "    for j in range(1, n-i ,2):\n",
    "        print(\" \", end=\"\")\n",
    "    # print first stars\n",
    "    for j in range(1, i+1, 1):\n",
    "        print(\"*\", end=\"\")\n",
    "    # print second spaces\n",
    "    for j in range(1, n-i+1, 1):\n",
    "        print(\" \", end=\"\")\n",
    "    # print second stars\n",
    "    for j in range(1, i+1, 1):\n",
    "        print(\"*\", end=\"\")\n",
    "    print()\n",
    "\n",
    "# lower part\n",
    "for i in range(n,0,-1):\n",
    "    for j in range(i, n, 1):\n",
    "        print(\" \", end=\"\")\n",
    "    for j in range(1, i*2, 1):\n",
    "        print(\"*\", end=\"\")\n",
    "    print()"
   ]
  },
  {
   "cell_type": "code",
   "execution_count": null,
   "id": "f2b90ced",
   "metadata": {},
   "outputs": [],
   "source": []
  }
 ],
 "metadata": {
  "kernelspec": {
   "display_name": "Python 3 (ipykernel)",
   "language": "python",
   "name": "python3"
  },
  "language_info": {
   "codemirror_mode": {
    "name": "ipython",
    "version": 3
   },
   "file_extension": ".py",
   "mimetype": "text/x-python",
   "name": "python",
   "nbconvert_exporter": "python",
   "pygments_lexer": "ipython3",
   "version": "3.9.12"
  }
 },
 "nbformat": 4,
 "nbformat_minor": 5
}
