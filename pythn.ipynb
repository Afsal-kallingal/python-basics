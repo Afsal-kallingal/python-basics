{
 "cells": [
  {
   "cell_type": "markdown",
   "id": "93722a63",
   "metadata": {},
   "source": []
  },
  {
   "cell_type": "code",
   "execution_count": 1,
   "id": "52eac9e6",
   "metadata": {},
   "outputs": [
    {
     "data": {
      "text/plain": [
       "5"
      ]
     },
     "execution_count": 1,
     "metadata": {},
     "output_type": "execute_result"
    }
   ],
   "source": [
    "#Write a Python program access the index of a list.\n",
    "li=[2,3,4,5,6,7,8,9,7,6,0]\n",
    "li.index(7)"
   ]
  },
  {
   "cell_type": "code",
   "execution_count": 2,
   "id": "40ee3663",
   "metadata": {},
   "outputs": [],
   "source": [
    "#Write a Python program to get unique values from a list\n",
    "li=[2,3,4,5,6,7,8,9,7,6,0]\n"
   ]
  },
  {
   "cell_type": "markdown",
   "id": "d6811156",
   "metadata": {},
   "source": [
    "# tuple"
   ]
  },
  {
   "cell_type": "code",
   "execution_count": 3,
   "id": "d649f231",
   "metadata": {},
   "outputs": [
    {
     "data": {
      "text/plain": [
       "['h', 'e', 'l', 'l', 'o']"
      ]
     },
     "execution_count": 3,
     "metadata": {},
     "output_type": "execute_result"
    }
   ],
   "source": [
    "s=\"hello\"\n",
    "f=list(s)\n",
    "f"
   ]
  },
  {
   "cell_type": "code",
   "execution_count": 4,
   "id": "0d1010be",
   "metadata": {},
   "outputs": [
    {
     "data": {
      "text/plain": [
       "'hello'"
      ]
     },
     "execution_count": 4,
     "metadata": {},
     "output_type": "execute_result"
    }
   ],
   "source": [
    "s"
   ]
  },
  {
   "cell_type": "code",
   "execution_count": 5,
   "id": "dd1637fc",
   "metadata": {},
   "outputs": [],
   "source": [
    "#slicing\n"
   ]
  },
  {
   "cell_type": "code",
   "execution_count": 6,
   "id": "6e5af6c1",
   "metadata": {},
   "outputs": [
    {
     "name": "stdout",
     "output_type": "stream",
     "text": [
      "(2, 3, 4, 5, 6, 7, 8, 9, 10)\n"
     ]
    }
   ],
   "source": [
    "a=(1,2,3,4,5,6,7,8,9,10,11,12,13,14,15)\n",
    "print(a[1:10])"
   ]
  },
  {
   "cell_type": "code",
   "execution_count": 7,
   "id": "a374db0e",
   "metadata": {},
   "outputs": [
    {
     "name": "stdout",
     "output_type": "stream",
     "text": [
      "(1, 2, 3, 4)\n"
     ]
    }
   ],
   "source": [
    "print(a[0:4])"
   ]
  },
  {
   "cell_type": "code",
   "execution_count": 8,
   "id": "a628d918",
   "metadata": {},
   "outputs": [
    {
     "name": "stdout",
     "output_type": "stream",
     "text": [
      "\n",
      "['']\n",
      "('',)\n"
     ]
    }
   ],
   "source": [
    "value=input()\n",
    "l=value.split(\",\")\n",
    "t=tuple(l)\n",
    "print(l)\n",
    "print(t)"
   ]
  },
  {
   "cell_type": "code",
   "execution_count": 9,
   "id": "1fb566a8",
   "metadata": {},
   "outputs": [
    {
     "name": "stdout",
     "output_type": "stream",
     "text": [
      "enter your number:\n"
     ]
    },
    {
     "ename": "ValueError",
     "evalue": "invalid literal for int() with base 10: ''",
     "output_type": "error",
     "traceback": [
      "\u001b[1;31m---------------------------------------------------------------------------\u001b[0m",
      "\u001b[1;31mValueError\u001b[0m                                Traceback (most recent call last)",
      "Input \u001b[1;32mIn [9]\u001b[0m, in \u001b[0;36m<cell line: 1>\u001b[1;34m()\u001b[0m\n\u001b[1;32m----> 1\u001b[0m n\u001b[38;5;241m=\u001b[39m\u001b[38;5;28;43mint\u001b[39;49m\u001b[43m(\u001b[49m\u001b[38;5;28;43minput\u001b[39;49m\u001b[43m(\u001b[49m\u001b[38;5;124;43m'\u001b[39;49m\u001b[38;5;124;43menter your number:\u001b[39;49m\u001b[38;5;124;43m'\u001b[39;49m\u001b[43m)\u001b[49m\u001b[43m)\u001b[49m\n\u001b[0;32m      2\u001b[0m d\u001b[38;5;241m=\u001b[39m\u001b[38;5;28mdict\u001b[39m()\n\u001b[0;32m      3\u001b[0m \u001b[38;5;28;01mfor\u001b[39;00m i \u001b[38;5;129;01min\u001b[39;00m \u001b[38;5;28mrange\u001b[39m(\u001b[38;5;241m1\u001b[39m,n\u001b[38;5;241m+\u001b[39m\u001b[38;5;241m1\u001b[39m):\n",
      "\u001b[1;31mValueError\u001b[0m: invalid literal for int() with base 10: ''"
     ]
    }
   ],
   "source": [
    "n=int(input('enter your number:'))\n",
    "d=dict()\n",
    "for i in range(1,n+1):\n",
    "    d[i]=i*i\n",
    "print(d)\n"
   ]
  },
  {
   "cell_type": "code",
   "execution_count": null,
   "id": "79e647e9",
   "metadata": {},
   "outputs": [],
   "source": [
    "#Write a program that accepts sequence of lines as input and prints the lines after making all characters in the sentence capitalized\n",
    "\n",
    "ff=str(input('enter somthing  :'))\n",
    "ff.upper()"
   ]
  },
  {
   "cell_type": "code",
   "execution_count": null,
   "id": "e59790c0",
   "metadata": {},
   "outputs": [],
   "source": [
    "#Write a program that accepts a comma separated sequence of words as input and prints the words in a comma-separated sequence after sorting them alphabetically\n",
    "\n",
    "ff=str(input('enter somthing  :'))\n",
    "ss=ff.split(\",\")\n",
    "print(ss)\n"
   ]
  },
  {
   "cell_type": "code",
   "execution_count": null,
   "id": "3d991e99",
   "metadata": {},
   "outputs": [],
   "source": [
    "set1={ }\n",
    "type(set1)"
   ]
  },
  {
   "cell_type": "code",
   "execution_count": null,
   "id": "3b78c1db",
   "metadata": {},
   "outputs": [],
   "source": [
    "a=set()\n",
    "type(a)"
   ]
  },
  {
   "cell_type": "code",
   "execution_count": null,
   "id": "61d24550",
   "metadata": {},
   "outputs": [],
   "source": [
    "a={2,3,4,5,6,7,77,8,77,78,999,0}\n",
    "a.add(66)\n"
   ]
  },
  {
   "cell_type": "code",
   "execution_count": null,
   "id": "a540bed3",
   "metadata": {},
   "outputs": [],
   "source": [
    "a"
   ]
  },
  {
   "cell_type": "code",
   "execution_count": null,
   "id": "fb618630",
   "metadata": {},
   "outputs": [],
   "source": [
    "a=\"hello\"\n",
    "b=set(a)\n",
    "b\n"
   ]
  },
  {
   "cell_type": "code",
   "execution_count": null,
   "id": "d12aae68",
   "metadata": {},
   "outputs": [],
   "source": [
    "a={2,3,4,5,6,7,77,8,77,78,999,0}\n",
    "6 in a\n",
    "    "
   ]
  },
  {
   "cell_type": "code",
   "execution_count": null,
   "id": "91562062",
   "metadata": {},
   "outputs": [],
   "source": [
    "1 in a"
   ]
  },
  {
   "cell_type": "code",
   "execution_count": null,
   "id": "836ced51",
   "metadata": {},
   "outputs": [],
   "source": [
    "1 not in a"
   ]
  },
  {
   "cell_type": "code",
   "execution_count": null,
   "id": "09714757",
   "metadata": {},
   "outputs": [],
   "source": [
    "b={2,4,6,7}\n",
    "b.issubset(a)"
   ]
  },
  {
   "cell_type": "code",
   "execution_count": null,
   "id": "d8ba5d07",
   "metadata": {},
   "outputs": [],
   "source": [
    "a.issuperset(b)"
   ]
  },
  {
   "cell_type": "code",
   "execution_count": null,
   "id": "0e80b252",
   "metadata": {},
   "outputs": [],
   "source": [
    "#set oprtn"
   ]
  },
  {
   "cell_type": "code",
   "execution_count": null,
   "id": "741a29a8",
   "metadata": {},
   "outputs": [],
   "source": [
    "a={2,3,4,5,6,7,77,8,77,78,999,0}\n",
    "b={2,4,6,7,77777,999999}\n",
    "a.union(b)\n"
   ]
  },
  {
   "cell_type": "code",
   "execution_count": null,
   "id": "52ad79d4",
   "metadata": {},
   "outputs": [],
   "source": [
    "a.intersection(b)"
   ]
  },
  {
   "cell_type": "code",
   "execution_count": null,
   "id": "760d6af2",
   "metadata": {},
   "outputs": [],
   "source": [
    "a&b"
   ]
  },
  {
   "cell_type": "code",
   "execution_count": null,
   "id": "5905b5b7",
   "metadata": {},
   "outputs": [],
   "source": [
    "a|b"
   ]
  },
  {
   "cell_type": "code",
   "execution_count": null,
   "id": "0590e843",
   "metadata": {},
   "outputs": [],
   "source": [
    "a.difference(b)"
   ]
  },
  {
   "cell_type": "code",
   "execution_count": null,
   "id": "a0a419e1",
   "metadata": {},
   "outputs": [],
   "source": [
    "b.difference(a)"
   ]
  },
  {
   "cell_type": "code",
   "execution_count": null,
   "id": "cd121824",
   "metadata": {},
   "outputs": [],
   "source": [
    "a={2,3,4,5,6,7,77,8,77,78,999,0}\n",
    "b={2,4,6,7,77777,999999}\n",
    "c={6,88,77,0}\n",
    "set.intersection(a,b,c)\n"
   ]
  },
  {
   "cell_type": "code",
   "execution_count": null,
   "id": "0af26806",
   "metadata": {},
   "outputs": [],
   "source": [
    "#frozen set"
   ]
  },
  {
   "cell_type": "code",
   "execution_count": null,
   "id": "6990ef16",
   "metadata": {},
   "outputs": [],
   "source": [
    "#Write a Python program to create an intersection, union, set difference, symmetric difference of sets.\n",
    "a={2,3,4,5,6,7,77,8,77,78,999,0}\n",
    "b={2,4,6,7,77777,999999,9,0,3,4343}\n",
    "a.issubset(b)\n",
    "a.union(b)\n",
    "\n"
   ]
  },
  {
   "cell_type": "code",
   "execution_count": null,
   "id": "4326ccae",
   "metadata": {},
   "outputs": [],
   "source": [
    "a.difference(b)"
   ]
  },
  {
   "cell_type": "code",
   "execution_count": null,
   "id": "b692728b",
   "metadata": {},
   "outputs": [],
   "source": [
    "#Write a Python program to check if a set is a subset of another set.\n",
    "a=set(input('enter a set:'))\n",
    "b=set(input('enter a set:'))\n",
    "a.issubset(b)\n"
   ]
  },
  {
   "cell_type": "code",
   "execution_count": null,
   "id": "4e870d11",
   "metadata": {},
   "outputs": [],
   "source": [
    "#Write a Python program to create a shallow copy of sets.\n",
    "a=set(input('enter a set:'))\n",
    "b=a.copy()\n",
    "print('the copy of the set is:',b)"
   ]
  },
  {
   "cell_type": "code",
   "execution_count": null,
   "id": "bf721695",
   "metadata": {},
   "outputs": [],
   "source": [
    "#Write a Python program to check if two given sets have no elements in common.\n",
    "a=set(input('enter a set:'))\n",
    "b=set(input('enter 2nt set:'))\n",
    "a&b\n"
   ]
  },
  {
   "cell_type": "code",
   "execution_count": null,
   "id": "d3a1a041",
   "metadata": {},
   "outputs": [],
   "source": [
    "c"
   ]
  },
  {
   "cell_type": "code",
   "execution_count": null,
   "id": "bd4f9b00",
   "metadata": {},
   "outputs": [],
   "source": [
    "#Write a Python program to get unique values from a list\n",
    "a=[2,3,4,5,6]\n",
    "b=[4,5,6,7,8]\n",
    "c=set(a)\n",
    "d=set(b)\n",
    "e=c&d\n",
    "f=list(e)\n",
    "print(f)\n",
    "\n"
   ]
  },
  {
   "cell_type": "code",
   "execution_count": null,
   "id": "850a66d9",
   "metadata": {},
   "outputs": [],
   "source": [
    " #Write a program that accepts a comma separated sequence of words as input and prints the words in a comma-separated sequence after sorting them alphabetically.Suppose the following input is supplied to the program\n",
    " \n",
    "a1=input()\n",
    "l=a1.split(\",\")\n",
    "t=tuple(l)\n",
    "print(t)\n",
    "\n",
    "\n",
    "    \n",
    "    "
   ]
  },
  {
   "cell_type": "code",
   "execution_count": 10,
   "id": "31783e9d",
   "metadata": {},
   "outputs": [
    {
     "name": "stdout",
     "output_type": "stream",
     "text": [
      "enter somthing:hello\n"
     ]
    },
    {
     "data": {
      "text/plain": [
       "'HELLO'"
      ]
     },
     "execution_count": 10,
     "metadata": {},
     "output_type": "execute_result"
    }
   ],
   "source": [
    "#Write a program that accepts sequence of lines as input and prints the lines after making all characters in the sentence capitalized\n",
    "\n",
    "str1=str (input('enter somthing:')) \n",
    "str1.upper()\n",
    "\n",
    "\n"
   ]
  },
  {
   "cell_type": "code",
   "execution_count": 4,
   "id": "256bf639",
   "metadata": {},
   "outputs": [
    {
     "name": "stdout",
     "output_type": "stream",
     "text": [
      "[4, 5, 6, 7, 7]\n"
     ]
    }
   ],
   "source": [
    "list1=[2,3,4,5,6,7,7,9,0,77,6,5,5554,345,66]\n",
    "print(list1[2:7])\n",
    "\n"
   ]
  },
  {
   "cell_type": "code",
   "execution_count": 10,
   "id": "e2ef4930",
   "metadata": {},
   "outputs": [
    {
     "name": "stdout",
     "output_type": "stream",
     "text": [
      "[2, 3, 4, 5, 6, 7, 7, 9, 0, 77, 6, 5, 5554, 33]\n",
      "(2, 3, 4, 5, 6, 7, 7, 9, 0, 77, 6, 5, 5554, 33)\n"
     ]
    }
   ],
   "source": [
    "a=(2,3,4,5,6,7,7,9,0,77,6,5,5554)\n",
    "b=list(a)\n",
    "b.append(33)\n",
    "print(b)\n",
    "\n",
    "d=tuple(b)\n",
    "print(d)"
   ]
  },
  {
   "cell_type": "code",
   "execution_count": 24,
   "id": "31bdafaf",
   "metadata": {},
   "outputs": [
    {
     "data": {
      "text/plain": [
       "5"
      ]
     },
     "execution_count": 24,
     "metadata": {},
     "output_type": "execute_result"
    }
   ],
   "source": [
    "a=(2,3,4,5,6,7,7,9,0,77,6,5,5554)\n",
    "a[len(a)-2]\n",
    "\n",
    "\n",
    "#print the index of second last element"
   ]
  },
  {
   "cell_type": "code",
   "execution_count": 25,
   "id": "aca2e603",
   "metadata": {},
   "outputs": [
    {
     "data": {
      "text/plain": [
       "5"
      ]
     },
     "execution_count": 25,
     "metadata": {},
     "output_type": "execute_result"
    }
   ],
   "source": [
    "a[-2]"
   ]
  },
  {
   "cell_type": "code",
   "execution_count": 29,
   "id": "80915d24",
   "metadata": {},
   "outputs": [
    {
     "name": "stdout",
     "output_type": "stream",
     "text": [
      "[2, 3, 666, 4, 5, 6, 7, 7, 9, 0, 77, 6, 5, 5554]\n"
     ]
    }
   ],
   "source": [
    "a=(2,3,4,5,6,7,7,9,0,77,6,5,5554)\n",
    "b=list(a)\n",
    "b.insert(2,666)\n",
    "print(b)"
   ]
  },
  {
   "cell_type": "code",
   "execution_count": null,
   "id": "56d825bb",
   "metadata": {},
   "outputs": [],
   "source": []
  }
 ],
 "metadata": {
  "kernelspec": {
   "display_name": "Python 3 (ipykernel)",
   "language": "python",
   "name": "python3"
  },
  "language_info": {
   "codemirror_mode": {
    "name": "ipython",
    "version": 3
   },
   "file_extension": ".py",
   "mimetype": "text/x-python",
   "name": "python",
   "nbconvert_exporter": "python",
   "pygments_lexer": "ipython3",
   "version": "3.9.12"
  }
 },
 "nbformat": 4,
 "nbformat_minor": 5
}
