{
 "cells": [
  {
   "cell_type": "markdown",
   "id": "8967dd94",
   "metadata": {},
   "source": [
    "# Oops (object orented programing)"
   ]
  },
  {
   "cell_type": "code",
   "execution_count": 1,
   "id": "ad4926a5",
   "metadata": {},
   "outputs": [
    {
     "name": "stdout",
     "output_type": "stream",
     "text": [
      "afsal\n",
      "my name is afsal,age is 21\n"
     ]
    }
   ],
   "source": [
    "class student:\n",
    "    def __init__(self,name,age):\n",
    "        self.name=name\n",
    "        self.age=age\n",
    "        print(self.name)\n",
    "    def display(self):\n",
    "        print('my name is {},age is {}'.format(self.name,self.age))\n",
    "obj=student('afsal',21)\n",
    "obj.display()\n",
    "    "
   ]
  },
  {
   "cell_type": "code",
   "execution_count": 2,
   "id": "dcba932b",
   "metadata": {},
   "outputs": [
    {
     "name": "stdout",
     "output_type": "stream",
     "text": [
      "enter the name of the student : afsal\n",
      "enter roll no :21\n",
      "yes  afsal,is present today roll number is 21\n"
     ]
    }
   ],
   "source": [
    "class school:\n",
    "    def __init__(self,studentname,department):\n",
    "        self.studentname=studentname\n",
    "        self.department=department\n",
    "    def dis(self):\n",
    "         print('yes  {},is present today roll number is {}'.format(self.studentname,self.department))\n",
    "\n",
    "x=str(input('enter the name of the student : '))\n",
    "y=input('enter roll no :')\n",
    "obj=school(x,y)\n",
    "obj.dis()\n",
    "            \n",
    "        "
   ]
  },
  {
   "cell_type": "code",
   "execution_count": 3,
   "id": "2c7c1acd",
   "metadata": {},
   "outputs": [
    {
     "name": "stdout",
     "output_type": "stream",
     "text": [
      "enter the name of the student : afsal\n",
      "enter roll no :21\n",
      "enter mark  :31\n",
      "yes  afsal,is present today roll number is 21\n",
      "your examination mark has been displayed:<bound method school.mark of <__main__.school object at 0x0000013E1C0A7100>>\n"
     ]
    }
   ],
   "source": [
    "class school:\n",
    "    def __init__(self,studentname,department):\n",
    "        self.studentname=studentname\n",
    "        self.department=department\n",
    "    def dis(self):\n",
    "         print('yes  {},is present today roll number is {}'.format(self.studentname,self.department))\n",
    "    def mark(self,mark):\n",
    "        print('your examination mark has been displayed:{}'.format(self.mark))\n",
    "\n",
    "x=str(input('enter the name of the student : '))\n",
    "y=input('enter roll no :')\n",
    "z=int(input('enter mark  :'))\n",
    "obj=school(x,y)\n",
    "\n",
    "obj.dis()\n",
    "obj.mark(z)\n",
    "            \n",
    "        "
   ]
  },
  {
   "cell_type": "code",
   "execution_count": 4,
   "id": "d077fba5",
   "metadata": {
    "scrolled": true
   },
   "outputs": [
    {
     "name": "stdout",
     "output_type": "stream",
     "text": [
      "enter the base :41\n",
      "enter the hght :41\n",
      "the area of the trangle is 840.5\n"
     ]
    }
   ],
   "source": [
    "#Python Program to Find the Area of a Rectangle Using Classes\n",
    "\n",
    "class area:\n",
    "    def __init__(self,base,hig):\n",
    "        self.base=base\n",
    "        self.hig=hig\n",
    "        self.ar=(1/2)*base*hig\n",
    "    def areas(self):\n",
    "        print('the area of the trangle is {}'.format(self.ar))\n",
    "x=int(input('enter the base :'))\n",
    "y=int(input('enter the hght :'))\n",
    "obj=area(x,y)\n",
    "obj.areas()\n",
    "        \n",
    "    "
   ]
  },
  {
   "cell_type": "code",
   "execution_count": 5,
   "id": "38e7962c",
   "metadata": {},
   "outputs": [
    {
     "name": "stdout",
     "output_type": "stream",
     "text": [
      "enter the area :51\n",
      "the area of the circle is 8167.14\n"
     ]
    }
   ],
   "source": [
    "#Also find Program to Create a Class and Compute the Area of the Circle\n",
    "class area:\n",
    "    def __init__(self,radius):\n",
    "            self.rad=radius\n",
    "            self.ar=(3.14)*(self.rad**2)\n",
    "    def areas(self):\n",
    "        \n",
    "        print('the area of the circle is {}'.format(self.ar))\n",
    "x=int(input('enter the area :'))\n",
    "obj=area(x)\n",
    "obj.areas()      \n",
    "            \n",
    "            \n",
    "            \n"
   ]
  },
  {
   "cell_type": "code",
   "execution_count": 6,
   "id": "02a7e39f",
   "metadata": {},
   "outputs": [
    {
     "name": "stdout",
     "output_type": "stream",
     "text": [
      "enter the values :3\n",
      "enter the 2nt  :3\n",
      "the adition value is :6\n",
      "the suprctn value is :0\n",
      "the multple value is :9\n",
      "the divtn value is :1.0\n"
     ]
    }
   ],
   "source": [
    "#Python Program to Create a Class which Performs Basic Calculator Operations\n",
    "\n",
    "class calc:\n",
    "    def __init__(self,a,b):\n",
    "            self.a=a\n",
    "            self.b=b\n",
    "            self.add=self.a+self.b\n",
    "            self.sup=self.a-self.b\n",
    "            self.mul=self.a*self.b\n",
    "            self.div=self.a/self.b\n",
    "    def addition(self):\n",
    "        print('the adition value is :{}'.format(self.add))\n",
    "        print('the suprctn value is :{}'.format(self.sup))\n",
    "        print('the multple value is :{}'.format(self.mul))\n",
    "        print('the divtn value is :{}'.format(self.div))\n",
    "x=int(input('enter the values :')) \n",
    "y=int(input('enter the 2nt  :'))\n",
    "obj=calc(x,y)\n",
    "obj.addition()      \n",
    "                    \n",
    "        \n",
    "        "
   ]
  },
  {
   "cell_type": "code",
   "execution_count": 7,
   "id": "b8e579da",
   "metadata": {},
   "outputs": [
    {
     "name": "stdout",
     "output_type": "stream",
     "text": [
      "enter the values :3\n",
      "enter the 2nt  :3\n"
     ]
    },
    {
     "ename": "AttributeError",
     "evalue": "'calc' object has no attribute 'display'",
     "output_type": "error",
     "traceback": [
      "\u001b[1;31m---------------------------------------------------------------------------\u001b[0m",
      "\u001b[1;31mAttributeError\u001b[0m                            Traceback (most recent call last)",
      "Input \u001b[1;32mIn [7]\u001b[0m, in \u001b[0;36m<cell line: 30>\u001b[1;34m()\u001b[0m\n\u001b[0;32m     28\u001b[0m y\u001b[38;5;241m=\u001b[39m\u001b[38;5;28mint\u001b[39m(\u001b[38;5;28minput\u001b[39m(\u001b[38;5;124m'\u001b[39m\u001b[38;5;124menter the 2nt  :\u001b[39m\u001b[38;5;124m'\u001b[39m))\n\u001b[0;32m     29\u001b[0m obj\u001b[38;5;241m=\u001b[39mcalc(x,y)\n\u001b[1;32m---> 30\u001b[0m \u001b[43mobj\u001b[49m\u001b[38;5;241;43m.\u001b[39;49m\u001b[43mdisplay\u001b[49m()\n",
      "\u001b[1;31mAttributeError\u001b[0m: 'calc' object has no attribute 'display'"
     ]
    }
   ],
   "source": [
    "class calc:\n",
    "    def __init__(self,a,b):\n",
    "        self.a=a\n",
    "        self.b=b\n",
    "        def addition(self):\n",
    "            self.add=self.a+self.b\n",
    "            print(self.add)\n",
    "        def supraction(self):\n",
    "            self.sup=self.a-self.b\n",
    "            print(self.sup)\n",
    "        def multiple(self):\n",
    "            self.mul=self.a*self.b\n",
    "            print(self.mul)\n",
    "        def division(self):\n",
    "            self.div=self.a/self.b\n",
    "            print(self.div)\n",
    "        def disply():\n",
    "            print('the adition value is',addition())\n",
    "            print('the suprctn value is :{}',supraction())\n",
    "            \n",
    "            print('the multple value is :{}',multiple())\n",
    "            print('the divtn value is :{}',division())\n",
    "            \n",
    "        \n",
    "            \n",
    "            \n",
    "x=int(input('enter the values :')) \n",
    "y=int(input('enter the 2nt  :'))\n",
    "obj=calc(x,y)\n",
    "obj.display()      \n",
    "            \n",
    "\n",
    "            \n",
    "            \n",
    "        "
   ]
  },
  {
   "cell_type": "code",
   "execution_count": null,
   "id": "89396b87",
   "metadata": {},
   "outputs": [],
   "source": [
    "#Python Program to Create a Class in which One Method Accepts a String from the User and Another Prints it\n",
    "class string:\n",
    "    def __init__(self,stri):\n",
    "        self.st=stri\n",
    "        \n",
    "    def pri(self):\n",
    "        print(self.st)\n",
    "    \n",
    "x=str(input('enter :'))\n",
    "obj=string(x)\n",
    "obj.pri()"
   ]
  },
  {
   "cell_type": "code",
   "execution_count": null,
   "id": "712aca4d",
   "metadata": {},
   "outputs": [],
   "source": [
    "class string:\n",
    "    def __init__(self,stri):\n",
    "        self.st=stri\n",
    "        print(self.st)\n",
    "x=str(input('enter :'))\n",
    "obj=string(x)        "
   ]
  },
  {
   "cell_type": "code",
   "execution_count": 8,
   "id": "fe6f6b63",
   "metadata": {},
   "outputs": [
    {
     "name": "stdout",
     "output_type": "stream",
     "text": [
      "enter :hellooooos\n",
      "e\n",
      "o\n",
      "o\n",
      "o\n",
      "o\n",
      "o\n",
      "the no: vowels is : 6\n"
     ]
    }
   ],
   "source": [
    "#vowels\n",
    "\n",
    "class vowel:\n",
    "    def ii(self,x):\n",
    "        c=0\n",
    "        for i in x:\n",
    "            if i=='a' or i=='e' or i=='i' or i=='o' or i=='u':\n",
    "                print(i)\n",
    "                c=c+1\n",
    "                \n",
    "        print('the no: vowels is :',c)    \n",
    "                \n",
    "obj=vowel()\n",
    "x=str(input('enter :'))\n",
    "obj.ii(x)\n",
    "        \n",
    "    "
   ]
  },
  {
   "cell_type": "code",
   "execution_count": null,
   "id": "a53fdd4e",
   "metadata": {},
   "outputs": [],
   "source": []
  },
  {
   "cell_type": "code",
   "execution_count": null,
   "id": "db1fce58",
   "metadata": {},
   "outputs": [],
   "source": []
  }
 ],
 "metadata": {
  "kernelspec": {
   "display_name": "Python 3 (ipykernel)",
   "language": "python",
   "name": "python3"
  },
  "language_info": {
   "codemirror_mode": {
    "name": "ipython",
    "version": 3
   },
   "file_extension": ".py",
   "mimetype": "text/x-python",
   "name": "python",
   "nbconvert_exporter": "python",
   "pygments_lexer": "ipython3",
   "version": "3.9.12"
  }
 },
 "nbformat": 4,
 "nbformat_minor": 5
}
