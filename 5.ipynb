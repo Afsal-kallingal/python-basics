{
 "cells": [
  {
   "cell_type": "code",
   "execution_count": 1,
   "id": "3ed87b67",
   "metadata": {},
   "outputs": [
    {
     "name": "stdout",
     "output_type": "stream",
     "text": [
      "enter any values:20\n",
      "enter any values:0\n",
      "your dinominator is zero is a mathematical error\n"
     ]
    }
   ],
   "source": [
    "try:\n",
    "    a=int(input('enter any values:'))\n",
    "    b=int(input('enter any values:'))\n",
    "    c=a/b\n",
    "    print(c)\n",
    "    \n",
    "except:\n",
    "    print('your dinominator is zero is a mathematical error')"
   ]
  },
  {
   "cell_type": "code",
   "execution_count": 2,
   "id": "5588e6a9",
   "metadata": {},
   "outputs": [
    {
     "name": "stdout",
     "output_type": "stream",
     "text": [
      "enter any values:7\n",
      "153.86\n"
     ]
    }
   ],
   "source": [
    "pii=3.14\n",
    "def m():\n",
    "    \n",
    "    k=int(input('enter any values:'))\n",
    "    s=pii*(k*k)\n",
    "    print(s)\n",
    "    \n",
    "m()    \n",
    "          \n",
    "          "
   ]
  },
  {
   "cell_type": "code",
   "execution_count": 3,
   "id": "388bb00c",
   "metadata": {},
   "outputs": [
    {
     "name": "stdout",
     "output_type": "stream",
     "text": [
      "enter any values:3\n",
      "28.26\n"
     ]
    }
   ],
   "source": [
    "def kk():\n",
    "    pii=3.14\n",
    "def m():\n",
    "    \n",
    "    k=int(input('enter any values:'))\n",
    "    s=pii*(k*k)\n",
    "    print(s)\n",
    "    \n",
    "    \n",
    "m()    \n",
    "          "
   ]
  },
  {
   "cell_type": "code",
   "execution_count": 4,
   "id": "73fd7335",
   "metadata": {},
   "outputs": [
    {
     "name": "stdout",
     "output_type": "stream",
     "text": [
      "nameadressgood morning afsalhave a nice day for u\n"
     ]
    }
   ],
   "source": [
    "#Write a Python program to read and write an entire text file.\n",
    "f=open('afsal.txt','w')\n",
    "f.write('name')\n",
    "f.write('adress')\n",
    "f.write('good morning afsal')\n",
    "f.write('have a nice day for u')\n",
    "f.close()\n",
    "f=open('afsal.txt','r')\n",
    "r=f.read()\n",
    "print(r)\n",
    "f.close()\n",
    "\n",
    "\n",
    "\n"
   ]
  },
  {
   "cell_type": "code",
   "execution_count": 13,
   "id": "bfbb6c7d",
   "metadata": {},
   "outputs": [
    {
     "data": {
      "text/plain": [
       "'hello.txt'"
      ]
     },
     "execution_count": 13,
     "metadata": {},
     "output_type": "execute_result"
    }
   ],
   "source": [
    "#Python Program to Copy a File\n",
    "f=open('afsal.txt','w')\n",
    "f.write('hello goof morning')\n",
    "f.close()\n",
    "\n",
    "s=open('hello.txt','x')\n",
    "\n",
    "s.close()\n",
    "import shutil\n",
    "shutil.copyfile('afsal.txt','hello.txt')\n",
    "\n",
    "\n"
   ]
  },
  {
   "cell_type": "code",
   "execution_count": 30,
   "id": "15d80509",
   "metadata": {},
   "outputs": [
    {
     "name": "stdout",
     "output_type": "stream",
     "text": [
      "hello goooys \n",
      "hello morng \n",
      "hello baby \n",
      "hello kkkk \n",
      "\n"
     ]
    }
   ],
   "source": [
    "  \n",
    "  #Write a Python program to append text to a file and display the text.\n",
    "\n",
    "    \n",
    "    \n",
    "\n",
    "    \n",
    "    \n",
    "    \n",
    "f=open('afsal.txt','w')\n",
    "f.write('hello goooys \\n')\n",
    "f.write('hello morng \\n')\n",
    "f.write('hello baby \\n')\n",
    "f.write('hello kkkk \\n')\n",
    "\n",
    "f.close()\n",
    "f=open('afsal.txt','r')\n",
    "r=f.read()\n",
    "print(r)\n",
    "f.close()\n",
    "\n"
   ]
  },
  {
   "cell_type": "code",
   "execution_count": 36,
   "id": "e2e3ad20",
   "metadata": {},
   "outputs": [
    {
     "name": "stdout",
     "output_type": "stream",
     "text": [
      "the number of lines in the file is :\n",
      "5\n"
     ]
    }
   ],
   "source": [
    "\n",
    "   #Count number of lines in a text file in Python\n",
    "    \n",
    "f=open('afsal.txt','r')\n",
    "cnt=0\n",
    "ff=f.read()\n",
    "pr=ff.split(\"\\n\")\n",
    "for i in pr:\n",
    "    cnt=cnt+1\n",
    "    \n",
    "print('the number of lines in the file is :')\n",
    "print(cnt)\n",
    "    \n"
   ]
  },
  {
   "cell_type": "code",
   "execution_count": null,
   "id": "63580add",
   "metadata": {},
   "outputs": [],
   "source": []
  },
  {
   "cell_type": "code",
   "execution_count": null,
   "id": "3242908f",
   "metadata": {},
   "outputs": [],
   "source": []
  }
 ],
 "metadata": {
  "kernelspec": {
   "display_name": "Python 3 (ipykernel)",
   "language": "python",
   "name": "python3"
  },
  "language_info": {
   "codemirror_mode": {
    "name": "ipython",
    "version": 3
   },
   "file_extension": ".py",
   "mimetype": "text/x-python",
   "name": "python",
   "nbconvert_exporter": "python",
   "pygments_lexer": "ipython3",
   "version": "3.9.12"
  }
 },
 "nbformat": 4,
 "nbformat_minor": 5
}
