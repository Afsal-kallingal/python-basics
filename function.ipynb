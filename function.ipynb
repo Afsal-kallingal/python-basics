{
 "cells": [
  {
   "cell_type": "code",
   "execution_count": 1,
   "id": "35a48adb",
   "metadata": {},
   "outputs": [
    {
     "name": "stdout",
     "output_type": "stream",
     "text": [
      "hello\n"
     ]
    }
   ],
   "source": [
    "def fun():\n",
    "    print('hello')\n",
    "\n",
    "    \n",
    "    \n",
    "    \n",
    "fun()   \n",
    "\n",
    "#define a function fun() then set the function stattements . call the function \n"
   ]
  },
  {
   "cell_type": "code",
   "execution_count": 2,
   "id": "32a5e345",
   "metadata": {},
   "outputs": [
    {
     "name": "stdout",
     "output_type": "stream",
     "text": [
      "13\n"
     ]
    }
   ],
   "source": [
    "def  check(a,b):   #define the function\n",
    "    \n",
    "    print(a+b)\n",
    "\n",
    "    \n",
    "check(8,5)  #call the fuction  \n",
    "    \n",
    "    \n"
   ]
  },
  {
   "cell_type": "markdown",
   "id": "a89388d3",
   "metadata": {},
   "source": [
    "# default parameters"
   ]
  },
  {
   "cell_type": "code",
   "execution_count": 3,
   "id": "f8ddb8a6",
   "metadata": {},
   "outputs": [
    {
     "name": "stdout",
     "output_type": "stream",
     "text": [
      "afsal\n",
      "hello good morning\n"
     ]
    }
   ],
   "source": [
    "def wish(name,msg='hello good morning'):\n",
    "    print(name)\n",
    "    print(msg)\n",
    "    \n",
    "wish('afsal')    "
   ]
  },
  {
   "cell_type": "code",
   "execution_count": 4,
   "id": "5170f124",
   "metadata": {},
   "outputs": [
    {
     "name": "stdout",
     "output_type": "stream",
     "text": [
      "afsal\n",
      "hello\n"
     ]
    }
   ],
   "source": [
    "wish('afsal','hello')"
   ]
  },
  {
   "cell_type": "code",
   "execution_count": 5,
   "id": "52f2ad43",
   "metadata": {},
   "outputs": [
    {
     "name": "stdout",
     "output_type": "stream",
     "text": [
      "enter a number\n"
     ]
    },
    {
     "ename": "ValueError",
     "evalue": "invalid literal for int() with base 10: ''",
     "output_type": "error",
     "traceback": [
      "\u001b[1;31m---------------------------------------------------------------------------\u001b[0m",
      "\u001b[1;31mValueError\u001b[0m                                Traceback (most recent call last)",
      "Input \u001b[1;32mIn [5]\u001b[0m, in \u001b[0;36m<cell line: 4>\u001b[1;34m()\u001b[0m\n\u001b[0;32m      2\u001b[0m     \u001b[38;5;28mprint\u001b[39m(\u001b[38;5;124m'\u001b[39m\u001b[38;5;124msum of numbers is:\u001b[39m\u001b[38;5;124m'\u001b[39m,a\u001b[38;5;241m+\u001b[39mb)\n\u001b[0;32m      3\u001b[0m     \u001b[38;5;28mprint\u001b[39m(\u001b[38;5;124m'\u001b[39m\u001b[38;5;124msubtraction :\u001b[39m\u001b[38;5;124m'\u001b[39m,a\u001b[38;5;241m-\u001b[39mb)\n\u001b[1;32m----> 4\u001b[0m a\u001b[38;5;241m=\u001b[39m\u001b[38;5;28;43mint\u001b[39;49m\u001b[43m(\u001b[49m\u001b[38;5;28;43minput\u001b[39;49m\u001b[43m(\u001b[49m\u001b[38;5;124;43m'\u001b[39;49m\u001b[38;5;124;43menter a number\u001b[39;49m\u001b[38;5;124;43m'\u001b[39;49m\u001b[43m)\u001b[49m\u001b[43m)\u001b[49m\n\u001b[0;32m      5\u001b[0m b\u001b[38;5;241m=\u001b[39m\u001b[38;5;28mint\u001b[39m(\u001b[38;5;28minput\u001b[39m(\u001b[38;5;124m'\u001b[39m\u001b[38;5;124menter 2nt a number\u001b[39m\u001b[38;5;124m'\u001b[39m))\n\u001b[0;32m      6\u001b[0m calculate(a,b)\n",
      "\u001b[1;31mValueError\u001b[0m: invalid literal for int() with base 10: ''"
     ]
    }
   ],
   "source": [
    "def calculate(a,b):\n",
    "    print('sum of numbers is:',a+b)\n",
    "    print('subtraction :',a-b)\n",
    "a=int(input('enter a number'))\n",
    "b=int(input('enter 2nt a number'))\n",
    "calculate(a,b)    \n",
    "\n",
    "\n",
    "#Write a function calculation() such that it can accept two variables and calculate the addition and subtraction of them. And also it must return both addition and subtraction in a single return call"
   ]
  },
  {
   "cell_type": "code",
   "execution_count": null,
   "id": "6e034c25",
   "metadata": {},
   "outputs": [],
   "source": [
    "#Create a function showEmployee() in such a way that it should accept employee name, and its salary and display both. If the salary is missing in the function call assign default value 9000 to salary\n",
    "\n",
    "\n",
    "def employe(name,sallery='9000'):\n",
    "    print('name of the employer is:',name)\n",
    "    print('sallery of the employer is :',sallery)\n",
    "\n",
    "    \n",
    "employe('afsal')    "
   ]
  },
  {
   "cell_type": "code",
   "execution_count": null,
   "id": "ee62538a",
   "metadata": {},
   "outputs": [],
   "source": [
    "#withot argument\n",
    "\n",
    "def cal():\n",
    "    a=int(input('enter a number :'))\n",
    "    b=int(input('enter 2nt a number :'))\n",
    "    print(\"sum is\",a+b)\n",
    "    print(\"def is\",a-b)\n",
    "\n",
    "cal()    \n",
    "    "
   ]
  },
  {
   "cell_type": "code",
   "execution_count": null,
   "id": "9c18ca51",
   "metadata": {},
   "outputs": [],
   "source": [
    "#lambda function\n",
    "\n",
    "y=lambda a,b:a+b\n",
    "a=int(input('enter a number :'))\n",
    "b=int(input('enter 2nt a number :'))\n",
    "\n",
    "print(y(a,b))\n"
   ]
  },
  {
   "cell_type": "code",
   "execution_count": null,
   "id": "b150e3ba",
   "metadata": {},
   "outputs": [],
   "source": [
    "x=lambda b:10*b\n",
    "b=int(input('number'))\n",
    "\n",
    "print(x(b))"
   ]
  },
  {
   "cell_type": "code",
   "execution_count": null,
   "id": "2257f749",
   "metadata": {},
   "outputs": [],
   "source": [
    "def number(n):\n",
    "    return lambda a:a*n\n",
    "f=number(5)\n",
    "print(f(8))"
   ]
  },
  {
   "cell_type": "code",
   "execution_count": null,
   "id": "15ed3519",
   "metadata": {},
   "outputs": [],
   "source": [
    "a=int(input('enter a number :'))\n",
    "b=int(input('enter power :'))\n",
    "print('power is',a**b)"
   ]
  },
  {
   "cell_type": "code",
   "execution_count": null,
   "id": "c8e350a9",
   "metadata": {},
   "outputs": [],
   "source": [
    "a=int(input('enter a number :'))\n",
    "b=int(input('enter power :'))\n",
    "k=b-1\n",
    "\n",
    "f=a*(a*k)\n",
    "print(f)"
   ]
  },
  {
   "cell_type": "code",
   "execution_count": null,
   "id": "2e2ee8d2",
   "metadata": {},
   "outputs": [],
   "source": [
    "def number(a):\n",
    "    return lambda b:a**b\n",
    "c=number(2)\n",
    "print(c(3))"
   ]
  },
  {
   "cell_type": "code",
   "execution_count": null,
   "id": "d1239840",
   "metadata": {},
   "outputs": [],
   "source": [
    "def number():\n",
    "    \n",
    "    n=int(input('which numbers table ?:'))\n",
    "    \n",
    "    \n",
    "    for i in range(1,11):\n",
    "        \n",
    "        k=i*n\n",
    "        print(k)\n",
    "        \n",
    "    \n",
    "    \n",
    "number()"
   ]
  },
  {
   "cell_type": "code",
   "execution_count": 6,
   "id": "ff4e4916",
   "metadata": {},
   "outputs": [
    {
     "name": "stdout",
     "output_type": "stream",
     "text": [
      "enter the string :hello\n",
      "enter the string :hi\n",
      "5\n",
      "2\n"
     ]
    }
   ],
   "source": [
    "#1. Define a function that can accept two strings as input and print the string with maximum length. If two strings have the same length, then the function should print al l strings line by line.\n",
    "\n",
    "def function():\n",
    "    str1=str(input('enter the string :'))\n",
    "    str2=str(input('enter the string :'))\n",
    "    k=len(str1)\n",
    "    print(k)\n",
    "    m=len(str2)\n",
    "    print(m)\n",
    "    if m==k:\n",
    "        print(str1)\n",
    "        print(str2)\n",
    "        \n",
    "    \n",
    "function()    "
   ]
  },
  {
   "cell_type": "code",
   "execution_count": 7,
   "id": "d65361b2",
   "metadata": {},
   "outputs": [
    {
     "name": "stdout",
     "output_type": "stream",
     "text": [
      "enter a number :6\n",
      "It is an even number\n"
     ]
    }
   ],
   "source": [
    "def num():\n",
    "    n=int(input('enter a number :'))\n",
    "    if (n%2)==0:\n",
    "        print('It is an even number')\n",
    "    else:\n",
    "        print('it is an odd number')\n",
    "        \n",
    "        \n",
    "num()        \n"
   ]
  },
  {
   "cell_type": "code",
   "execution_count": 11,
   "id": "b6e91ef6",
   "metadata": {},
   "outputs": [
    {
     "name": "stdout",
     "output_type": "stream",
     "text": [
      "{0: 0, 1: 1, 2: 4, 3: 9}\n"
     ]
    }
   ],
   "source": [
    "# Define a function which can print a dictionary where the keys are numbers between 1 and 3 (both included) and the values are square of keys.\n",
    "\n",
    "def dic():\n",
    "    dict1=dict()\n",
    "    for i in range(0,4):\n",
    "        dict1[i]=i*i\n",
    "    print(dict1)\n",
    "    \n",
    "dic()\n",
    "\n"
   ]
  },
  {
   "cell_type": "code",
   "execution_count": 15,
   "id": "031c6520",
   "metadata": {},
   "outputs": [
    {
     "name": "stdout",
     "output_type": "stream",
     "text": [
      "{0: 0, 1: 1, 2: 4, 3: 9, 4: 16, 5: 25, 6: 36, 7: 49, 8: 64, 9: 81, 10: 100, 11: 121, 12: 144, 13: 169, 14: 196, 15: 225, 16: 256, 17: 289, 18: 324, 19: 361, 20: 400}\n"
     ]
    }
   ],
   "source": [
    "#Define a function which can print a dictionary where the keys are numbers between 1 and 20 (both included) and the values are square of keys.\n",
    "\n",
    "def dic():\n",
    "    dict1=dict()\n",
    "    for i in range(0,21):\n",
    "        \n",
    "        dict1[i]=i*i\n",
    "    print(dict1)\n",
    "    \n",
    "dic()"
   ]
  },
  {
   "cell_type": "code",
   "execution_count": 16,
   "id": "4f80df24",
   "metadata": {},
   "outputs": [
    {
     "name": "stdout",
     "output_type": "stream",
     "text": [
      "dict_values([0, 1, 4, 9, 16, 25, 36, 49, 64, 81, 100, 121, 144, 169, 196, 225, 256, 289, 324, 361, 400])\n"
     ]
    }
   ],
   "source": [
    "# Define a function which can generate a dictionary where the keys are numbers between 1 and 20 (both included) and the values are square of keys. The function should just print the values only.\n",
    "\n",
    "def dic():\n",
    "    dict1=dict()\n",
    "    for i in range(0,21):\n",
    "        \n",
    "        dict1[i]=i*i\n",
    "        v=dict1.values()\n",
    "        \n",
    "    print(v)  #print the only value of the dictionary\n",
    "    \n",
    "dic()"
   ]
  },
  {
   "cell_type": "code",
   "execution_count": 17,
   "id": "3c6b9ce5",
   "metadata": {},
   "outputs": [
    {
     "name": "stdout",
     "output_type": "stream",
     "text": [
      "dict_keys([0, 1, 2, 3, 4, 5, 6, 7, 8, 9, 10, 11, 12, 13, 14, 15, 16, 17, 18, 19, 20])\n"
     ]
    }
   ],
   "source": [
    "# Define a function which can generate a dictionary where the keys are numbers between 1 and 20 (both included) and the values are square of keys. The function should just print the keys only\n",
    "\n",
    "def dic():\n",
    "    dict1=dict()\n",
    "    for i in range(0,21):\n",
    "        \n",
    "        dict1[i]=i*i\n",
    "        v=dict1.keys()\n",
    "        \n",
    "    print(v)  #print the only keys of the dictionary\n",
    "    \n",
    "dic()"
   ]
  },
  {
   "cell_type": "code",
   "execution_count": 25,
   "id": "db1cf804",
   "metadata": {},
   "outputs": [
    {
     "name": "stdout",
     "output_type": "stream",
     "text": [
      "[0, 1, 4, 9, 16, 25, 36, 49, 64, 81, 100, 121, 144, 169, 196, 225, 256, 289, 324, 361, 400]\n"
     ]
    }
   ],
   "source": [
    "#.Define a function which can generate and print a list where the values are square of numbers between 1 and 20 (both included).\n",
    "\n",
    "def dic():\n",
    "    list1=list()\n",
    "    for i in range(0,21):\n",
    "        \n",
    "        list1.append(i*i) #append use to insert values of list\n",
    "    print(list1)   \n",
    "dic()    "
   ]
  },
  {
   "cell_type": "code",
   "execution_count": 28,
   "id": "c3a45857",
   "metadata": {},
   "outputs": [
    {
     "name": "stdout",
     "output_type": "stream",
     "text": [
      "[1, 4, 9, 16, 25]\n"
     ]
    }
   ],
   "source": [
    "#Define a function which can generate a list where the values are square of numbers between 1 and 20 (both included). Then the function needs to print the first 5 elements in the list.\n",
    "\n",
    "def dic():\n",
    "    list1=list()\n",
    "    for i in range(0,21):\n",
    "        \n",
    "        list1.append(i*i) #append use to insert values of list\n",
    "    print(list1[1:6])  #Use [n1:n2] to slice a list\n",
    "dic()    "
   ]
  },
  {
   "cell_type": "code",
   "execution_count": 35,
   "id": "c96d636e",
   "metadata": {},
   "outputs": [
    {
     "name": "stdout",
     "output_type": "stream",
     "text": [
      "(0, 1, 4, 9, 16, 25, 36, 49, 64, 81, 100, 121, 144, 169, 196, 225, 256, 289, 324, 361, 400)\n"
     ]
    }
   ],
   "source": [
    "#Define a function which can generate and print a tuple where the value are square of numbers between 1 and 20 (both included). \n",
    "def dic():\n",
    "    t=tuple()\n",
    "    m=list(t) #convert tuple to list\n",
    "    for i in range(0,21):\n",
    "        \n",
    "        m.append(i*i)\n",
    "        k=tuple(m)    #list to tuple\n",
    "    print(k)   \n",
    "dic()    \n"
   ]
  },
  {
   "cell_type": "code",
   "execution_count": 36,
   "id": "7223d93a",
   "metadata": {},
   "outputs": [
    {
     "name": "stdout",
     "output_type": "stream",
     "text": [
      "(2, 3, 4, 5)\n",
      "(6, 7, 8, 9, 10)\n"
     ]
    }
   ],
   "source": [
    "# With a given tuple (1,2,3,4,5,6,7,8,9,10), write a program to print the first half values in one line and the last half values in one line. \n",
    "\n",
    "\n",
    "a=(1,2,3,4,5,6,7,8,9,10)\n",
    "print(a[1:5])\n",
    "print(a[5:10])"
   ]
  },
  {
   "cell_type": "code",
   "execution_count": null,
   "id": "20786675",
   "metadata": {},
   "outputs": [],
   "source": [
    "# Write a program to generate and print another tuple whose values are even numbers in the given tuple (1,2,3,4,5,6,7,8,9,10).\n",
    "\n",
    "a=(1,2,3,4,5,6,7,8,9,10)\n",
    "c=list()\n",
    "for i in a:\n",
    "    if (i%2)==0:\n",
    "        \n",
    "        c.append(i)\n",
    "print(c)        \n",
    "\n",
    "\n",
    "\n",
    "        \n",
    "    \n"
   ]
  },
  {
   "cell_type": "code",
   "execution_count": null,
   "id": "55b2b54d",
   "metadata": {},
   "outputs": [],
   "source": []
  },
  {
   "cell_type": "code",
   "execution_count": null,
   "id": "976dbf66",
   "metadata": {},
   "outputs": [],
   "source": []
  }
 ],
 "metadata": {
  "kernelspec": {
   "display_name": "Python 3 (ipykernel)",
   "language": "python",
   "name": "python3"
  },
  "language_info": {
   "codemirror_mode": {
    "name": "ipython",
    "version": 3
   },
   "file_extension": ".py",
   "mimetype": "text/x-python",
   "name": "python",
   "nbconvert_exporter": "python",
   "pygments_lexer": "ipython3",
   "version": "3.9.12"
  }
 },
 "nbformat": 4,
 "nbformat_minor": 5
}
