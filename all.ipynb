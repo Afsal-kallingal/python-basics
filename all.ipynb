{
 "cells": [
  {
   "cell_type": "code",
   "execution_count": null,
   "id": "4e37360a",
   "metadata": {},
   "outputs": [],
   "source": []
  },
  {
   "cell_type": "code",
   "execution_count": 1,
   "id": "4938c340",
   "metadata": {},
   "outputs": [
    {
     "name": "stdout",
     "output_type": "stream",
     "text": [
      "enter the limit of the number:6\n",
      "0\n",
      "1\n",
      "1\n",
      "2\n",
      "3\n",
      "5\n"
     ]
    }
   ],
   "source": [
    "#fibnocciii\n",
    "\n",
    "def fib(n):\n",
    "    if n<=1:\n",
    "        return n\n",
    "    else:\n",
    "        return(fib(n-1)+fib(n-2))\n",
    "\n",
    "    \n",
    "n=int(input('enter the limit of the number:'))\n",
    "if n<=0:\n",
    "    print('enter a positive intiger')\n",
    "else:\n",
    "    for i in range(n):\n",
    "        print(fib(i))\n",
    "    "
   ]
  },
  {
   "cell_type": "code",
   "execution_count": 2,
   "id": "7e99d60c",
   "metadata": {},
   "outputs": [
    {
     "name": "stdout",
     "output_type": "stream",
     "text": [
      "enter:MALAYALAM\n",
      "its a pallindrome\n"
     ]
    }
   ],
   "source": [
    "#pallindrom\n",
    "def pali(n):\n",
    "    a=n\n",
    "    if n[0]==n[-1]:\n",
    "        \n",
    "        \n",
    "        if n[1]==n[-2]:\n",
    "            if n[2]==n[-3]:\n",
    "                print('its a pallindrome')\n",
    "            \n",
    "            \n",
    "    else:\n",
    "        print('this string is not a pallindrome :')\n",
    "        \n",
    "x=str(input('enter:'))        \n",
    "pali(x)   \n"
   ]
  },
  {
   "cell_type": "code",
   "execution_count": 10,
   "id": "9a3ff96f",
   "metadata": {},
   "outputs": [
    {
     "name": "stdout",
     "output_type": "stream",
     "text": [
      "enter the radius5\n",
      "the area of circle is 78.5\n"
     ]
    }
   ],
   "source": [
    "x=int(input('enter the radius'))\n",
    "pi=3.14\n",
    "area=pi*(x**2)\n",
    "print('the area of circle is',area)\n"
   ]
  },
  {
   "cell_type": "code",
   "execution_count": null,
   "id": "84946e29",
   "metadata": {},
   "outputs": [],
   "source": []
  },
  {
   "cell_type": "code",
   "execution_count": null,
   "id": "67b3e8e2",
   "metadata": {},
   "outputs": [],
   "source": []
  },
  {
   "cell_type": "code",
   "execution_count": 7,
   "id": "faae980d",
   "metadata": {},
   "outputs": [
    {
     "name": "stdout",
     "output_type": "stream",
     "text": [
      "enter the hight5\n",
      "enter the brdth4\n",
      "area is 10.0\n"
     ]
    }
   ],
   "source": [
    "#rea trangle\n",
    "x=int(input('enter the hight'))\n",
    "y=int(input('enter the brdth'))\n",
    "ar=(x*y)/2\n",
    "print('area is',ar)"
   ]
  },
  {
   "cell_type": "code",
   "execution_count": 9,
   "id": "3c90e2bf",
   "metadata": {},
   "outputs": [
    {
     "name": "stdout",
     "output_type": "stream",
     "text": [
      "enter a value :5\n"
     ]
    },
    {
     "data": {
      "text/plain": [
       "120"
      ]
     },
     "execution_count": 9,
     "metadata": {},
     "output_type": "execute_result"
    }
   ],
   "source": [
    "def fact(n):\n",
    "    if (n==1):\n",
    "        return n\n",
    "    else:\n",
    "        return n*fact(n-1)\n",
    "x=int(input('enter a value :')) \n",
    "fact(x)\n"
   ]
  },
  {
   "cell_type": "code",
   "execution_count": 11,
   "id": "d9daa16d",
   "metadata": {},
   "outputs": [
    {
     "name": "stdout",
     "output_type": "stream",
     "text": [
      "enter the nmbr5\n",
      "enter the nmbr5\n",
      "sum 10\n"
     ]
    }
   ],
   "source": [
    "x=int(input('enter the nmbr'))\n",
    "y=int(input('enter the nmbr'))\n",
    "print('sum',x+y)"
   ]
  },
  {
   "cell_type": "code",
   "execution_count": 28,
   "id": "6e7e890c",
   "metadata": {},
   "outputs": [
    {
     "name": "stdout",
     "output_type": "stream",
     "text": [
      "enter:153\n",
      "this is amstrong\n"
     ]
    }
   ],
   "source": [
    "\n",
    "def am(n):\n",
    "    a=n\n",
    "    s=0\n",
    "    while n>0:\n",
    "        r=n%10\n",
    "        s=s+(r**3)\n",
    "        n=n//10\n",
    "        \n",
    "    if(a==s):\n",
    "        print('this is amstrong')\n",
    "    else:\n",
    "        print('not')  \n",
    "x=int(input('enter:'))        \n",
    "am(x)"
   ]
  },
  {
   "cell_type": "code",
   "execution_count": 31,
   "id": "19620fab",
   "metadata": {},
   "outputs": [
    {
     "name": "stdout",
     "output_type": "stream",
     "text": [
      "321\n"
     ]
    }
   ],
   "source": [
    "num=123\n",
    "rev=0\n",
    "while num!=0:\n",
    "    dig=num%10\n",
    "    rev=rev*10+dig\n",
    "    num=num//10\n",
    "print(str(rev))    \n",
    "    "
   ]
  },
  {
   "cell_type": "code",
   "execution_count": 39,
   "id": "d4581bf5",
   "metadata": {},
   "outputs": [
    {
     "name": "stdout",
     "output_type": "stream",
     "text": [
      "enter the value8\n",
      "not prime\n"
     ]
    }
   ],
   "source": [
    "#prime number check\n",
    "\n",
    "a=int(input('enter the value'))\n",
    "f=0\n",
    "for i in range(2,a):\n",
    "    if (a%i==0):\n",
    "        f=1\n",
    "        break\n",
    "if f==0:\n",
    "    print('its a prime number')\n",
    "    \n",
    "else:\n",
    "    print('not prime')\n",
    "    \n",
    "    "
   ]
  },
  {
   "cell_type": "code",
   "execution_count": 48,
   "id": "3c680556",
   "metadata": {},
   "outputs": [
    {
     "name": "stdout",
     "output_type": "stream",
     "text": [
      "enter the value: 11\n",
      "its a prime number\n",
      "square root of prime number is: 3.3166247903554\n"
     ]
    }
   ],
   "source": [
    "#square rute of prime numbers\n",
    "from math import sqrt \n",
    "def pri(a):\n",
    "    f=0\n",
    "    for i in range(2,a):\n",
    "        if (a%i==0):\n",
    "            f=1\n",
    "            break\n",
    "    if f==0:\n",
    "        print('its a prime number')\n",
    "    \n",
    "    else:\n",
    "        print('not prime')\n",
    "    \n",
    "a=int(input('enter the value: '))\n",
    "pri(a)\n",
    "if f==0:\n",
    "    print('enter a prime number')\n",
    "else:\n",
    "    b=sqrt(a)\n",
    "    print('square root of prime number is:',b)\n",
    "    \n",
    "        \n"
   ]
  },
  {
   "cell_type": "code",
   "execution_count": 45,
   "id": "c434f759",
   "metadata": {},
   "outputs": [
    {
     "data": {
      "text/plain": [
       "3.1622776601683795"
      ]
     },
     "execution_count": 45,
     "metadata": {},
     "output_type": "execute_result"
    }
   ],
   "source": [
    "from math import sqrt\n",
    "a=10\n",
    "b=sqrt(a)\n",
    "b"
   ]
  },
  {
   "cell_type": "code",
   "execution_count": null,
   "id": "d5a6c265",
   "metadata": {},
   "outputs": [],
   "source": [
    "#leap yr\n",
    "\n"
   ]
  }
 ],
 "metadata": {
  "kernelspec": {
   "display_name": "Python 3 (ipykernel)",
   "language": "python",
   "name": "python3"
  },
  "language_info": {
   "codemirror_mode": {
    "name": "ipython",
    "version": 3
   },
   "file_extension": ".py",
   "mimetype": "text/x-python",
   "name": "python",
   "nbconvert_exporter": "python",
   "pygments_lexer": "ipython3",
   "version": "3.9.12"
  }
 },
 "nbformat": 4,
 "nbformat_minor": 5
}
